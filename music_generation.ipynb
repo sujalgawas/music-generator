{
  "cells": [
    {
      "cell_type": "markdown",
      "metadata": {
        "id": "view-in-github",
        "colab_type": "text"
      },
      "source": [
        "<a href=\"https://colab.research.google.com/github/sujalgawas/music-generator/blob/main/music_generation.ipynb\" target=\"_parent\"><img src=\"https://colab.research.google.com/assets/colab-badge.svg\" alt=\"Open In Colab\"/></a>"
      ]
    },
    {
      "cell_type": "code",
      "execution_count": null,
      "metadata": {
        "id": "5UhFBdLzMyKX"
      },
      "outputs": [],
      "source": [
        "import torch\n",
        "import os\n",
        "import torchaudio"
      ]
    },
    {
      "cell_type": "code",
      "execution_count": null,
      "metadata": {
        "id": "T7N5xvdImpIh"
      },
      "outputs": [],
      "source": [
        "device = \"cuda\" if torch.cuda.is_available() else \"cpu\""
      ]
    },
    {
      "cell_type": "markdown",
      "metadata": {
        "id": "PQ1sdjOEDGe0"
      },
      "source": [
        "# data cleaning"
      ]
    },
    {
      "cell_type": "code",
      "execution_count": null,
      "metadata": {
        "colab": {
          "base_uri": "https://localhost:8080/"
        },
        "id": "G0NGrj9hnMyH",
        "outputId": "d0750c81-981b-4e17-b9c2-9b6ceced377e"
      },
      "outputs": [
        {
          "name": "stdout",
          "output_type": "stream",
          "text": [
            "[SPOTIFY-DOWNLOADER.COM] Way Less Sad.mp3\n",
            "[SPOTIFY-DOWNLOADER.COM] Weak.mp3\n",
            "[SPOTIFY-DOWNLOADER.COM] These Days (feat. Jess Glynne, Macklemore & Dan Caplen) - AJR Remix.mp3\n",
            "SpotiDown.App - Next Up Forever - AJR.mp3\n",
            "[SPOTIFY-DOWNLOADER.COM] Record Player (with AJR).mp3\n",
            "SpotiDown.App - Overture - AJR.mp3\n",
            "[SPOTIFY-DOWNLOADER.COM] Beats.mp3\n",
            "[SPOTIFY-DOWNLOADER.COM] 2085.mp3\n",
            "[SPOTIFY-DOWNLOADER.COM] Alice by the Hudson.mp3\n",
            "[SPOTIFY-DOWNLOADER.COM] World's Smallest Violin.mp3\n",
            "SpotiDown.App - Don't Throw Out My Legos - AJR.mp3\n",
            "SpotiDown.App - Steve’s Going to London - AJR.mp3\n",
            "SpotiDown.App - OK Overture - AJR.mp3\n",
            "[SPOTIFY-DOWNLOADER.COM] God is Really Real.mp3\n",
            "[SPOTIFY-DOWNLOADER.COM] Hole in the Bottom of My Brain.mp3\n",
            "[SPOTIFY-DOWNLOADER.COM] Normal.mp3\n",
            "SpotiDown.App - I'm Ready - AJR.mp3\n",
            "[SPOTIFY-DOWNLOADER.COM] My Play.mp3\n",
            "SpotiDown.App - Christmas in June - AJR.mp3\n",
            "[SPOTIFY-DOWNLOADER.COM] Infinity.mp3\n",
            "SpotiDown.App - Inertia - AJR.mp3\n",
            "[SPOTIFY-DOWNLOADER.COM] Role Models.mp3\n",
            "[SPOTIFY-DOWNLOADER.COM] The Dumb Song.mp3\n",
            "[SPOTIFY-DOWNLOADER.COM] Adventure Is Out There.mp3\n",
            "[SPOTIFY-DOWNLOADER.COM] The Trick.mp3\n",
            "[SPOTIFY-DOWNLOADER.COM] Growing Old on Bleecker Street.mp3\n",
            "[SPOTIFY-DOWNLOADER.COM] Big White Bed.mp3\n",
            "[SPOTIFY-DOWNLOADER.COM] Buy You a Rose.mp3\n",
            "[SPOTIFY-DOWNLOADER.COM] The Entertainment's Here.mp3\n",
            "SpotiDown.App - Dear Winter 2.0 - AJR.mp3\n",
            "[SPOTIFY-DOWNLOADER.COM] Location - Recorded at Spotify Studios NYC.mp3\n",
            "[SPOTIFY-DOWNLOADER.COM] Pretender (feat. Lil Yachty & AJR).mp3\n",
            "SpotiDown.App - I'm Not Famous - AJR.mp3\n",
            "[SPOTIFY-DOWNLOADER.COM] Big Idea.mp3\n",
            "[SPOTIFY-DOWNLOADER.COM] Bud Like You.mp3\n",
            "SpotiDown.App - Yes I'm A Mess - AJR.mp3\n",
            "[SPOTIFY-DOWNLOADER.COM] Ordinaryish People (feat. Blue Man Group).mp3\n",
            "[SPOTIFY-DOWNLOADER.COM] Pitchfork Kids.mp3\n",
            "SpotiDown.App - Thirsty - AJR.mp3\n",
            "SpotiDown.App - Bang! - AJR.mp3\n",
            "SpotiDown.App - Touchy Feely Fool - AJR.mp3\n",
            "[SPOTIFY-DOWNLOADER.COM] Let the Games Begin.mp3\n",
            "[SPOTIFY-DOWNLOADER.COM] I Won't.mp3\n",
            "SpotiDown.App - Joe - AJR.mp3\n",
            "SpotiDown.App - The Lotto - Ingrid Michaelson.mp3\n",
            "[SPOTIFY-DOWNLOADER.COM] The World Is a Marble Heart.mp3\n",
            "[SPOTIFY-DOWNLOADER.COM] 3 O'Clock Things.mp3\n",
            "[SPOTIFY-DOWNLOADER.COM] Turning Out Pt. ii.mp3\n",
            "SpotiDown.App - No Grass Today - AJR.mp3\n",
            "[SPOTIFY-DOWNLOADER.COM] Dear Winter 2.0.mp3\n",
            "SpotiDown.App - Come Hang Out - AJR.mp3\n",
            "[SPOTIFY-DOWNLOADER.COM] My Calling.mp3\n",
            "[SPOTIFY-DOWNLOADER.COM] Bummerland.mp3\n",
            "[SPOTIFY-DOWNLOADER.COM] The Good Part.mp3\n",
            "SpotiDown.App - Wow, I'm Not Crazy - AJR.mp3\n",
            "[SPOTIFY-DOWNLOADER.COM] Inertia - Acoustic.mp3\n",
            "[SPOTIFY-DOWNLOADER.COM] Sober Up.mp3\n",
            "[SPOTIFY-DOWNLOADER.COM] Woody Allen.mp3\n",
            "[SPOTIFY-DOWNLOADER.COM] Turning Out.mp3\n",
            "SpotiDown.App - Finale (Can't Wait To See What You Do Next) - AJR.mp3\n",
            "[SPOTIFY-DOWNLOADER.COM] Turning Out Pt. iii.mp3\n",
            "SpotiDown.App - The Green and the Town - AJR.mp3\n",
            "[SPOTIFY-DOWNLOADER.COM] Maybe Man.mp3\n",
            "[SPOTIFY-DOWNLOADER.COM] Karma.mp3\n",
            "[SPOTIFY-DOWNLOADER.COM] Break My Face.mp3\n",
            "SpotiDown.App - Humpty Dumpty - AJR.mp3\n",
            "[SPOTIFY-DOWNLOADER.COM] Drama - Recorded at Spotify Studios NYC.mp3\n",
            "[SPOTIFY-DOWNLOADER.COM] Livin' on Love.mp3\n",
            "[SPOTIFY-DOWNLOADER.COM] No Grass Today.mp3\n",
            "[SPOTIFY-DOWNLOADER.COM] All My Favorite Songs (feat. AJR).mp3\n"
          ]
        }
      ],
      "source": [
        "path = \"data\"\n",
        "\n",
        "for x in os.listdir(path):\n",
        "    print(x)"
      ]
    },
    {
      "cell_type": "code",
      "execution_count": null,
      "metadata": {
        "colab": {
          "base_uri": "https://localhost:8080/"
        },
        "id": "doeVhGmdnYTC",
        "outputId": "e7aa2cd1-bca5-4731-ac43-bf5109b7b75b"
      },
      "outputs": [
        {
          "name": "stdout",
          "output_type": "stream",
          "text": [
            "70\n"
          ]
        }
      ],
      "source": [
        "import os\n",
        "import torch\n",
        "import torchaudio\n",
        "import csv\n",
        "\n",
        "# Set the folder path\n",
        "folder_path = \"data\"\n",
        "\n",
        "audio_files = []\n",
        "\n",
        "# Iterate through the folder and process each audio file\n",
        "for filename in os.listdir(folder_path):\n",
        "  file_path = os.path.join(folder_path, filename)\n",
        "  audio_files.append(file_path)\n",
        "\n",
        "print(len(audio_files))"
      ]
    },
    {
      "cell_type": "code",
      "execution_count": null,
      "metadata": {
        "colab": {
          "base_uri": "https://localhost:8080/",
          "height": 1000
        },
        "id": "I3tvijQuZwDJ",
        "outputId": "74f4f919-4144-49d8-b318-0be2d5da524e"
      },
      "outputs": [
        {
          "name": "stdout",
          "output_type": "stream",
          "text": [
            "Collecting spleeter\n",
            "  Downloading spleeter-2.4.0-py3-none-any.whl.metadata (10 kB)\n",
            "Collecting ffmpeg-python<0.3.0,>=0.2.0 (from spleeter)\n",
            "  Downloading ffmpeg_python-0.2.0-py3-none-any.whl.metadata (1.7 kB)\n",
            "Collecting httpx<0.20.0,>=0.19.0 (from httpx[http2]<0.20.0,>=0.19.0->spleeter)\n",
            "  Downloading httpx-0.19.0-py3-none-any.whl.metadata (45 kB)\n",
            "\u001b[2K     \u001b[90m━━━━━━━━━━━━━━━━━━━━━━━━━━━━━━━━━━━━━━━━\u001b[0m \u001b[32m45.6/45.6 kB\u001b[0m \u001b[31m2.1 MB/s\u001b[0m eta \u001b[36m0:00:00\u001b[0m\n",
            "\u001b[?25hCollecting norbert<0.3.0,>=0.2.1 (from spleeter)\n",
            "  Downloading norbert-0.2.1-py2.py3-none-any.whl.metadata (3.8 kB)\n",
            "Collecting pandas<2.0.0,>=1.3.0 (from spleeter)\n",
            "  Downloading pandas-1.5.3-cp310-cp310-manylinux_2_17_x86_64.manylinux2014_x86_64.whl.metadata (11 kB)\n",
            "Collecting tensorflow<2.10.0,>=2.5.0 (from spleeter)\n",
            "  Downloading tensorflow-2.9.3-cp310-cp310-manylinux_2_17_x86_64.manylinux2014_x86_64.whl.metadata (3.0 kB)\n",
            "Collecting typer<0.4.0,>=0.3.2 (from spleeter)\n",
            "  Downloading typer-0.3.2-py3-none-any.whl.metadata (12 kB)\n",
            "Requirement already satisfied: future in /usr/local/lib/python3.10/dist-packages (from ffmpeg-python<0.3.0,>=0.2.0->spleeter) (1.0.0)\n",
            "Requirement already satisfied: certifi in /usr/local/lib/python3.10/dist-packages (from httpx<0.20.0,>=0.19.0->httpx[http2]<0.20.0,>=0.19.0->spleeter) (2024.8.30)\n",
            "Requirement already satisfied: charset-normalizer in /usr/local/lib/python3.10/dist-packages (from httpx<0.20.0,>=0.19.0->httpx[http2]<0.20.0,>=0.19.0->spleeter) (3.4.0)\n",
            "Requirement already satisfied: sniffio in /usr/local/lib/python3.10/dist-packages (from httpx<0.20.0,>=0.19.0->httpx[http2]<0.20.0,>=0.19.0->spleeter) (1.3.1)\n",
            "Collecting rfc3986<2,>=1.3 (from rfc3986[idna2008]<2,>=1.3->httpx<0.20.0,>=0.19.0->httpx[http2]<0.20.0,>=0.19.0->spleeter)\n",
            "  Downloading rfc3986-1.5.0-py2.py3-none-any.whl.metadata (6.5 kB)\n",
            "Collecting httpcore<0.14.0,>=0.13.3 (from httpx<0.20.0,>=0.19.0->httpx[http2]<0.20.0,>=0.19.0->spleeter)\n",
            "  Downloading httpcore-0.13.7-py3-none-any.whl.metadata (13 kB)\n",
            "Collecting h2<5,>=3 (from httpx[http2]<0.20.0,>=0.19.0->spleeter)\n",
            "  Downloading h2-4.1.0-py3-none-any.whl.metadata (3.6 kB)\n",
            "Requirement already satisfied: scipy in /usr/local/lib/python3.10/dist-packages (from norbert<0.3.0,>=0.2.1->spleeter) (1.13.1)\n",
            "Requirement already satisfied: python-dateutil>=2.8.1 in /usr/local/lib/python3.10/dist-packages (from pandas<2.0.0,>=1.3.0->spleeter) (2.8.2)\n",
            "Requirement already satisfied: pytz>=2020.1 in /usr/local/lib/python3.10/dist-packages (from pandas<2.0.0,>=1.3.0->spleeter) (2024.2)\n",
            "Requirement already satisfied: numpy>=1.21.0 in /usr/local/lib/python3.10/dist-packages (from pandas<2.0.0,>=1.3.0->spleeter) (1.26.4)\n",
            "Requirement already satisfied: absl-py>=1.0.0 in /usr/local/lib/python3.10/dist-packages (from tensorflow<2.10.0,>=2.5.0->spleeter) (1.4.0)\n",
            "Requirement already satisfied: astunparse>=1.6.0 in /usr/local/lib/python3.10/dist-packages (from tensorflow<2.10.0,>=2.5.0->spleeter) (1.6.3)\n",
            "Collecting flatbuffers<2,>=1.12 (from tensorflow<2.10.0,>=2.5.0->spleeter)\n",
            "  Downloading flatbuffers-1.12-py2.py3-none-any.whl.metadata (872 bytes)\n",
            "Collecting gast<=0.4.0,>=0.2.1 (from tensorflow<2.10.0,>=2.5.0->spleeter)\n",
            "  Downloading gast-0.4.0-py3-none-any.whl.metadata (1.1 kB)\n",
            "Requirement already satisfied: google-pasta>=0.1.1 in /usr/local/lib/python3.10/dist-packages (from tensorflow<2.10.0,>=2.5.0->spleeter) (0.2.0)\n",
            "Requirement already satisfied: grpcio<2.0,>=1.24.3 in /usr/local/lib/python3.10/dist-packages (from tensorflow<2.10.0,>=2.5.0->spleeter) (1.64.1)\n",
            "Requirement already satisfied: h5py>=2.9.0 in /usr/local/lib/python3.10/dist-packages (from tensorflow<2.10.0,>=2.5.0->spleeter) (3.12.1)\n",
            "Collecting keras<2.10.0,>=2.9.0rc0 (from tensorflow<2.10.0,>=2.5.0->spleeter)\n",
            "  Downloading keras-2.9.0-py2.py3-none-any.whl.metadata (1.3 kB)\n",
            "Collecting keras-preprocessing>=1.1.1 (from tensorflow<2.10.0,>=2.5.0->spleeter)\n",
            "  Downloading Keras_Preprocessing-1.1.2-py2.py3-none-any.whl.metadata (1.9 kB)\n",
            "Requirement already satisfied: libclang>=13.0.0 in /usr/local/lib/python3.10/dist-packages (from tensorflow<2.10.0,>=2.5.0->spleeter) (18.1.1)\n",
            "Requirement already satisfied: opt-einsum>=2.3.2 in /usr/local/lib/python3.10/dist-packages (from tensorflow<2.10.0,>=2.5.0->spleeter) (3.4.0)\n",
            "Requirement already satisfied: packaging in /usr/local/lib/python3.10/dist-packages (from tensorflow<2.10.0,>=2.5.0->spleeter) (24.1)\n",
            "Collecting protobuf<3.20,>=3.9.2 (from tensorflow<2.10.0,>=2.5.0->spleeter)\n",
            "  Downloading protobuf-3.19.6-cp310-cp310-manylinux_2_17_x86_64.manylinux2014_x86_64.whl.metadata (787 bytes)\n",
            "Requirement already satisfied: setuptools in /usr/local/lib/python3.10/dist-packages (from tensorflow<2.10.0,>=2.5.0->spleeter) (75.1.0)\n",
            "Requirement already satisfied: six>=1.12.0 in /usr/local/lib/python3.10/dist-packages (from tensorflow<2.10.0,>=2.5.0->spleeter) (1.16.0)\n",
            "Collecting tensorboard<2.10,>=2.9 (from tensorflow<2.10.0,>=2.5.0->spleeter)\n",
            "  Downloading tensorboard-2.9.1-py3-none-any.whl.metadata (1.9 kB)\n",
            "Requirement already satisfied: tensorflow-io-gcs-filesystem>=0.23.1 in /usr/local/lib/python3.10/dist-packages (from tensorflow<2.10.0,>=2.5.0->spleeter) (0.37.1)\n",
            "Collecting tensorflow-estimator<2.10.0,>=2.9.0rc0 (from tensorflow<2.10.0,>=2.5.0->spleeter)\n",
            "  Downloading tensorflow_estimator-2.9.0-py2.py3-none-any.whl.metadata (1.3 kB)\n",
            "Requirement already satisfied: termcolor>=1.1.0 in /usr/local/lib/python3.10/dist-packages (from tensorflow<2.10.0,>=2.5.0->spleeter) (2.5.0)\n",
            "Requirement already satisfied: typing-extensions>=3.6.6 in /usr/local/lib/python3.10/dist-packages (from tensorflow<2.10.0,>=2.5.0->spleeter) (4.12.2)\n",
            "Requirement already satisfied: wrapt>=1.11.0 in /usr/local/lib/python3.10/dist-packages (from tensorflow<2.10.0,>=2.5.0->spleeter) (1.16.0)\n",
            "Collecting click<7.2.0,>=7.1.1 (from typer<0.4.0,>=0.3.2->spleeter)\n",
            "  Downloading click-7.1.2-py2.py3-none-any.whl.metadata (2.9 kB)\n",
            "Requirement already satisfied: wheel<1.0,>=0.23.0 in /usr/local/lib/python3.10/dist-packages (from astunparse>=1.6.0->tensorflow<2.10.0,>=2.5.0->spleeter) (0.44.0)\n",
            "Collecting hyperframe<7,>=6.0 (from h2<5,>=3->httpx[http2]<0.20.0,>=0.19.0->spleeter)\n",
            "  Downloading hyperframe-6.0.1-py3-none-any.whl.metadata (2.7 kB)\n",
            "Collecting hpack<5,>=4.0 (from h2<5,>=3->httpx[http2]<0.20.0,>=0.19.0->spleeter)\n",
            "  Downloading hpack-4.0.0-py3-none-any.whl.metadata (2.5 kB)\n",
            "Collecting h11<0.13,>=0.11 (from httpcore<0.14.0,>=0.13.3->httpx<0.20.0,>=0.19.0->httpx[http2]<0.20.0,>=0.19.0->spleeter)\n",
            "  Downloading h11-0.12.0-py3-none-any.whl.metadata (8.1 kB)\n",
            "Requirement already satisfied: anyio==3.* in /usr/local/lib/python3.10/dist-packages (from httpcore<0.14.0,>=0.13.3->httpx<0.20.0,>=0.19.0->httpx[http2]<0.20.0,>=0.19.0->spleeter) (3.7.1)\n",
            "Requirement already satisfied: idna>=2.8 in /usr/local/lib/python3.10/dist-packages (from anyio==3.*->httpcore<0.14.0,>=0.13.3->httpx<0.20.0,>=0.19.0->httpx[http2]<0.20.0,>=0.19.0->spleeter) (3.10)\n",
            "Requirement already satisfied: exceptiongroup in /usr/local/lib/python3.10/dist-packages (from anyio==3.*->httpcore<0.14.0,>=0.13.3->httpx<0.20.0,>=0.19.0->httpx[http2]<0.20.0,>=0.19.0->spleeter) (1.2.2)\n",
            "Requirement already satisfied: google-auth<3,>=1.6.3 in /usr/local/lib/python3.10/dist-packages (from tensorboard<2.10,>=2.9->tensorflow<2.10.0,>=2.5.0->spleeter) (2.27.0)\n",
            "Collecting google-auth-oauthlib<0.5,>=0.4.1 (from tensorboard<2.10,>=2.9->tensorflow<2.10.0,>=2.5.0->spleeter)\n",
            "  Downloading google_auth_oauthlib-0.4.6-py2.py3-none-any.whl.metadata (2.7 kB)\n",
            "Requirement already satisfied: markdown>=2.6.8 in /usr/local/lib/python3.10/dist-packages (from tensorboard<2.10,>=2.9->tensorflow<2.10.0,>=2.5.0->spleeter) (3.7)\n",
            "Requirement already satisfied: requests<3,>=2.21.0 in /usr/local/lib/python3.10/dist-packages (from tensorboard<2.10,>=2.9->tensorflow<2.10.0,>=2.5.0->spleeter) (2.32.3)\n",
            "Collecting tensorboard-data-server<0.7.0,>=0.6.0 (from tensorboard<2.10,>=2.9->tensorflow<2.10.0,>=2.5.0->spleeter)\n",
            "  Downloading tensorboard_data_server-0.6.1-py3-none-manylinux2010_x86_64.whl.metadata (1.1 kB)\n",
            "Collecting tensorboard-plugin-wit>=1.6.0 (from tensorboard<2.10,>=2.9->tensorflow<2.10.0,>=2.5.0->spleeter)\n",
            "  Downloading tensorboard_plugin_wit-1.8.1-py3-none-any.whl.metadata (873 bytes)\n",
            "Requirement already satisfied: werkzeug>=1.0.1 in /usr/local/lib/python3.10/dist-packages (from tensorboard<2.10,>=2.9->tensorflow<2.10.0,>=2.5.0->spleeter) (3.0.6)\n",
            "Requirement already satisfied: cachetools<6.0,>=2.0.0 in /usr/local/lib/python3.10/dist-packages (from google-auth<3,>=1.6.3->tensorboard<2.10,>=2.9->tensorflow<2.10.0,>=2.5.0->spleeter) (5.5.0)\n",
            "Requirement already satisfied: pyasn1-modules>=0.2.1 in /usr/local/lib/python3.10/dist-packages (from google-auth<3,>=1.6.3->tensorboard<2.10,>=2.9->tensorflow<2.10.0,>=2.5.0->spleeter) (0.4.1)\n",
            "Requirement already satisfied: rsa<5,>=3.1.4 in /usr/local/lib/python3.10/dist-packages (from google-auth<3,>=1.6.3->tensorboard<2.10,>=2.9->tensorflow<2.10.0,>=2.5.0->spleeter) (4.9)\n",
            "Requirement already satisfied: requests-oauthlib>=0.7.0 in /usr/local/lib/python3.10/dist-packages (from google-auth-oauthlib<0.5,>=0.4.1->tensorboard<2.10,>=2.9->tensorflow<2.10.0,>=2.5.0->spleeter) (1.3.1)\n",
            "Requirement already satisfied: urllib3<3,>=1.21.1 in /usr/local/lib/python3.10/dist-packages (from requests<3,>=2.21.0->tensorboard<2.10,>=2.9->tensorflow<2.10.0,>=2.5.0->spleeter) (2.2.3)\n",
            "Requirement already satisfied: MarkupSafe>=2.1.1 in /usr/local/lib/python3.10/dist-packages (from werkzeug>=1.0.1->tensorboard<2.10,>=2.9->tensorflow<2.10.0,>=2.5.0->spleeter) (3.0.2)\n",
            "Requirement already satisfied: pyasn1<0.7.0,>=0.4.6 in /usr/local/lib/python3.10/dist-packages (from pyasn1-modules>=0.2.1->google-auth<3,>=1.6.3->tensorboard<2.10,>=2.9->tensorflow<2.10.0,>=2.5.0->spleeter) (0.6.1)\n",
            "Requirement already satisfied: oauthlib>=3.0.0 in /usr/local/lib/python3.10/dist-packages (from requests-oauthlib>=0.7.0->google-auth-oauthlib<0.5,>=0.4.1->tensorboard<2.10,>=2.9->tensorflow<2.10.0,>=2.5.0->spleeter) (3.2.2)\n",
            "Downloading spleeter-2.4.0-py3-none-any.whl (49 kB)\n",
            "\u001b[2K   \u001b[90m━━━━━━━━━━━━━━━━━━━━━━━━━━━━━━━━━━━━━━━━\u001b[0m \u001b[32m49.4/49.4 kB\u001b[0m \u001b[31m2.1 MB/s\u001b[0m eta \u001b[36m0:00:00\u001b[0m\n",
            "\u001b[?25hDownloading ffmpeg_python-0.2.0-py3-none-any.whl (25 kB)\n",
            "Downloading httpx-0.19.0-py3-none-any.whl (77 kB)\n",
            "\u001b[2K   \u001b[90m━━━━━━━━━━━━━━━━━━━━━━━━━━━━━━━━━━━━━━━━\u001b[0m \u001b[32m77.3/77.3 kB\u001b[0m \u001b[31m4.6 MB/s\u001b[0m eta \u001b[36m0:00:00\u001b[0m\n",
            "\u001b[?25hDownloading norbert-0.2.1-py2.py3-none-any.whl (11 kB)\n",
            "Downloading pandas-1.5.3-cp310-cp310-manylinux_2_17_x86_64.manylinux2014_x86_64.whl (12.1 MB)\n",
            "\u001b[2K   \u001b[90m━━━━━━━━━━━━━━━━━━━━━━━━━━━━━━━━━━━━━━━━\u001b[0m \u001b[32m12.1/12.1 MB\u001b[0m \u001b[31m35.5 MB/s\u001b[0m eta \u001b[36m0:00:00\u001b[0m\n",
            "\u001b[?25hDownloading tensorflow-2.9.3-cp310-cp310-manylinux_2_17_x86_64.manylinux2014_x86_64.whl (511.8 MB)\n",
            "\u001b[2K   \u001b[90m━━━━━━━━━━━━━━━━━━━━━━━━━━━━━━━━━━━━━━━━\u001b[0m \u001b[32m511.8/511.8 MB\u001b[0m \u001b[31m3.4 MB/s\u001b[0m eta \u001b[36m0:00:00\u001b[0m\n",
            "\u001b[?25hDownloading typer-0.3.2-py3-none-any.whl (21 kB)\n",
            "Downloading click-7.1.2-py2.py3-none-any.whl (82 kB)\n",
            "\u001b[2K   \u001b[90m━━━━━━━━━━━━━━━━━━━━━━━━━━━━━━━━━━━━━━━━\u001b[0m \u001b[32m82.8/82.8 kB\u001b[0m \u001b[31m4.2 MB/s\u001b[0m eta \u001b[36m0:00:00\u001b[0m\n",
            "\u001b[?25hDownloading flatbuffers-1.12-py2.py3-none-any.whl (15 kB)\n",
            "Downloading gast-0.4.0-py3-none-any.whl (9.8 kB)\n",
            "Downloading h2-4.1.0-py3-none-any.whl (57 kB)\n",
            "\u001b[2K   \u001b[90m━━━━━━━━━━━━━━━━━━━━━━━━━━━━━━━━━━━━━━━━\u001b[0m \u001b[32m57.5/57.5 kB\u001b[0m \u001b[31m3.0 MB/s\u001b[0m eta \u001b[36m0:00:00\u001b[0m\n",
            "\u001b[?25hDownloading httpcore-0.13.7-py3-none-any.whl (58 kB)\n",
            "\u001b[2K   \u001b[90m━━━━━━━━━━━━━━━━━━━━━━━━━━━━━━━━━━━━━━━━\u001b[0m \u001b[32m58.8/58.8 kB\u001b[0m \u001b[31m3.2 MB/s\u001b[0m eta \u001b[36m0:00:00\u001b[0m\n",
            "\u001b[?25hDownloading keras-2.9.0-py2.py3-none-any.whl (1.6 MB)\n",
            "\u001b[2K   \u001b[90m━━━━━━━━━━━━━━━━━━━━━━━━━━━━━━━━━━━━━━━━\u001b[0m \u001b[32m1.6/1.6 MB\u001b[0m \u001b[31m41.5 MB/s\u001b[0m eta \u001b[36m0:00:00\u001b[0m\n",
            "\u001b[?25hDownloading Keras_Preprocessing-1.1.2-py2.py3-none-any.whl (42 kB)\n",
            "\u001b[2K   \u001b[90m━━━━━━━━━━━━━━━━━━━━━━━━━━━━━━━━━━━━━━━━\u001b[0m \u001b[32m42.6/42.6 kB\u001b[0m \u001b[31m1.8 MB/s\u001b[0m eta \u001b[36m0:00:00\u001b[0m\n",
            "\u001b[?25hDownloading protobuf-3.19.6-cp310-cp310-manylinux_2_17_x86_64.manylinux2014_x86_64.whl (1.1 MB)\n",
            "\u001b[2K   \u001b[90m━━━━━━━━━━━━━━━━━━━━━━━━━━━━━━━━━━━━━━━━\u001b[0m \u001b[32m1.1/1.1 MB\u001b[0m \u001b[31m32.7 MB/s\u001b[0m eta \u001b[36m0:00:00\u001b[0m\n",
            "\u001b[?25hDownloading rfc3986-1.5.0-py2.py3-none-any.whl (31 kB)\n",
            "Downloading tensorboard-2.9.1-py3-none-any.whl (5.8 MB)\n",
            "\u001b[2K   \u001b[90m━━━━━━━━━━━━━━━━━━━━━━━━━━━━━━━━━━━━━━━━\u001b[0m \u001b[32m5.8/5.8 MB\u001b[0m \u001b[31m40.4 MB/s\u001b[0m eta \u001b[36m0:00:00\u001b[0m\n",
            "\u001b[?25hDownloading tensorflow_estimator-2.9.0-py2.py3-none-any.whl (438 kB)\n",
            "\u001b[2K   \u001b[90m━━━━━━━━━━━━━━━━━━━━━━━━━━━━━━━━━━━━━━━━\u001b[0m \u001b[32m438.7/438.7 kB\u001b[0m \u001b[31m12.4 MB/s\u001b[0m eta \u001b[36m0:00:00\u001b[0m\n",
            "\u001b[?25hDownloading google_auth_oauthlib-0.4.6-py2.py3-none-any.whl (18 kB)\n",
            "Downloading h11-0.12.0-py3-none-any.whl (54 kB)\n",
            "\u001b[2K   \u001b[90m━━━━━━━━━━━━━━━━━━━━━━━━━━━━━━━━━━━━━━━━\u001b[0m \u001b[32m54.9/54.9 kB\u001b[0m \u001b[31m3.2 MB/s\u001b[0m eta \u001b[36m0:00:00\u001b[0m\n",
            "\u001b[?25hDownloading hpack-4.0.0-py3-none-any.whl (32 kB)\n",
            "Downloading hyperframe-6.0.1-py3-none-any.whl (12 kB)\n",
            "Downloading tensorboard_data_server-0.6.1-py3-none-manylinux2010_x86_64.whl (4.9 MB)\n",
            "\u001b[2K   \u001b[90m━━━━━━━━━━━━━━━━━━━━━━━━━━━━━━━━━━━━━━━━\u001b[0m \u001b[32m4.9/4.9 MB\u001b[0m \u001b[31m35.6 MB/s\u001b[0m eta \u001b[36m0:00:00\u001b[0m\n",
            "\u001b[?25hDownloading tensorboard_plugin_wit-1.8.1-py3-none-any.whl (781 kB)\n",
            "\u001b[2K   \u001b[90m━━━━━━━━━━━━━━━━━━━━━━━━━━━━━━━━━━━━━━━━\u001b[0m \u001b[32m781.3/781.3 kB\u001b[0m \u001b[31m20.6 MB/s\u001b[0m eta \u001b[36m0:00:00\u001b[0m\n",
            "\u001b[?25hInstalling collected packages: tensorboard-plugin-wit, rfc3986, keras, flatbuffers, tensorflow-estimator, tensorboard-data-server, protobuf, keras-preprocessing, hyperframe, hpack, h11, gast, ffmpeg-python, click, typer, pandas, norbert, httpcore, h2, httpx, google-auth-oauthlib, tensorboard, tensorflow, spleeter\n",
            "  Attempting uninstall: keras\n",
            "    Found existing installation: keras 3.4.1\n",
            "    Uninstalling keras-3.4.1:\n",
            "      Successfully uninstalled keras-3.4.1\n",
            "  Attempting uninstall: flatbuffers\n",
            "    Found existing installation: flatbuffers 24.3.25\n",
            "    Uninstalling flatbuffers-24.3.25:\n",
            "      Successfully uninstalled flatbuffers-24.3.25\n",
            "  Attempting uninstall: tensorboard-data-server\n",
            "    Found existing installation: tensorboard-data-server 0.7.2\n",
            "    Uninstalling tensorboard-data-server-0.7.2:\n",
            "      Successfully uninstalled tensorboard-data-server-0.7.2\n",
            "  Attempting uninstall: protobuf\n",
            "    Found existing installation: protobuf 3.20.3\n",
            "    Uninstalling protobuf-3.20.3:\n",
            "      Successfully uninstalled protobuf-3.20.3\n",
            "  Attempting uninstall: h11\n",
            "    Found existing installation: h11 0.14.0\n",
            "    Uninstalling h11-0.14.0:\n",
            "      Successfully uninstalled h11-0.14.0\n",
            "  Attempting uninstall: gast\n",
            "    Found existing installation: gast 0.6.0\n",
            "    Uninstalling gast-0.6.0:\n",
            "      Successfully uninstalled gast-0.6.0\n",
            "  Attempting uninstall: click\n",
            "    Found existing installation: click 8.1.7\n",
            "    Uninstalling click-8.1.7:\n",
            "      Successfully uninstalled click-8.1.7\n",
            "  Attempting uninstall: typer\n",
            "    Found existing installation: typer 0.12.5\n",
            "    Uninstalling typer-0.12.5:\n",
            "      Successfully uninstalled typer-0.12.5\n",
            "  Attempting uninstall: pandas\n",
            "    Found existing installation: pandas 2.2.2\n",
            "    Uninstalling pandas-2.2.2:\n",
            "      Successfully uninstalled pandas-2.2.2\n",
            "  Attempting uninstall: httpcore\n",
            "    Found existing installation: httpcore 1.0.6\n",
            "    Uninstalling httpcore-1.0.6:\n",
            "      Successfully uninstalled httpcore-1.0.6\n",
            "  Attempting uninstall: httpx\n",
            "    Found existing installation: httpx 0.27.2\n",
            "    Uninstalling httpx-0.27.2:\n",
            "      Successfully uninstalled httpx-0.27.2\n",
            "  Attempting uninstall: google-auth-oauthlib\n",
            "    Found existing installation: google-auth-oauthlib 1.2.1\n",
            "    Uninstalling google-auth-oauthlib-1.2.1:\n",
            "      Successfully uninstalled google-auth-oauthlib-1.2.1\n",
            "  Attempting uninstall: tensorboard\n",
            "    Found existing installation: tensorboard 2.17.0\n",
            "    Uninstalling tensorboard-2.17.0:\n",
            "      Successfully uninstalled tensorboard-2.17.0\n",
            "  Attempting uninstall: tensorflow\n",
            "    Found existing installation: tensorflow 2.17.0\n",
            "    Uninstalling tensorflow-2.17.0:\n",
            "      Successfully uninstalled tensorflow-2.17.0\n",
            "\u001b[31mERROR: pip's dependency resolver does not currently take into account all the packages that are installed. This behaviour is the source of the following dependency conflicts.\n",
            "flask 2.2.5 requires click>=8.0, but you have click 7.1.2 which is incompatible.\n",
            "cudf-cu12 24.10.1 requires pandas<2.2.3dev0,>=2.0, but you have pandas 1.5.3 which is incompatible.\n",
            "dask 2024.10.0 requires click>=8.1, but you have click 7.1.2 which is incompatible.\n",
            "google-ai-generativelanguage 0.6.10 requires protobuf!=4.21.0,!=4.21.1,!=4.21.2,!=4.21.3,!=4.21.4,!=4.21.5,<6.0.0dev,>=3.20.2, but you have protobuf 3.19.6 which is incompatible.\n",
            "google-cloud-aiplatform 1.70.0 requires protobuf!=4.21.0,!=4.21.1,!=4.21.2,!=4.21.3,!=4.21.4,!=4.21.5,<6.0.0dev,>=3.20.2, but you have protobuf 3.19.6 which is incompatible.\n",
            "google-cloud-bigquery-connection 1.15.5 requires protobuf!=4.21.0,!=4.21.1,!=4.21.2,!=4.21.3,!=4.21.4,!=4.21.5,<6.0.0dev,>=3.20.2, but you have protobuf 3.19.6 which is incompatible.\n",
            "google-cloud-bigquery-storage 2.27.0 requires protobuf!=3.20.0,!=3.20.1,!=4.21.0,!=4.21.1,!=4.21.2,!=4.21.3,!=4.21.4,!=4.21.5,<6.0.0dev,>=3.20.2, but you have protobuf 3.19.6 which is incompatible.\n",
            "google-cloud-bigtable 2.26.0 requires protobuf!=4.21.0,!=4.21.1,!=4.21.2,!=4.21.3,!=4.21.4,!=4.21.5,<6.0.0dev,>=3.20.2, but you have protobuf 3.19.6 which is incompatible.\n",
            "google-cloud-functions 1.16.5 requires protobuf!=4.21.0,!=4.21.1,!=4.21.2,!=4.21.3,!=4.21.4,!=4.21.5,<6.0.0dev,>=3.20.2, but you have protobuf 3.19.6 which is incompatible.\n",
            "google-cloud-iam 2.16.0 requires protobuf!=4.21.0,!=4.21.1,!=4.21.2,!=4.21.3,!=4.21.4,!=4.21.5,<6.0.0dev,>=3.20.2, but you have protobuf 3.19.6 which is incompatible.\n",
            "google-cloud-language 2.13.4 requires protobuf!=4.21.0,!=4.21.1,!=4.21.2,!=4.21.3,!=4.21.4,!=4.21.5,<6.0.0dev,>=3.20.2, but you have protobuf 3.19.6 which is incompatible.\n",
            "google-cloud-pubsub 2.25.0 requires protobuf!=4.21.0,!=4.21.1,!=4.21.2,!=4.21.3,!=4.21.4,!=4.21.5,<6.0.0dev,>=3.20.2, but you have protobuf 3.19.6 which is incompatible.\n",
            "google-cloud-resource-manager 1.13.0 requires protobuf!=4.21.0,!=4.21.1,!=4.21.2,!=4.21.3,!=4.21.4,!=4.21.5,<6.0.0dev,>=3.20.2, but you have protobuf 3.19.6 which is incompatible.\n",
            "google-cloud-translate 3.15.5 requires protobuf!=4.21.0,!=4.21.1,!=4.21.2,!=4.21.3,!=4.21.4,!=4.21.5,<6.0.0dev,>=3.20.2, but you have protobuf 3.19.6 which is incompatible.\n",
            "google-colab 1.0.0 requires pandas==2.2.2, but you have pandas 1.5.3 which is incompatible.\n",
            "googleapis-common-protos 1.65.0 requires protobuf!=3.20.0,!=3.20.1,!=4.21.1,!=4.21.2,!=4.21.3,!=4.21.4,!=4.21.5,<6.0.0.dev0,>=3.20.2, but you have protobuf 3.19.6 which is incompatible.\n",
            "grpc-google-iam-v1 0.13.1 requires protobuf!=4.21.1,!=4.21.2,!=4.21.3,!=4.21.4,!=4.21.5,<6.0.0dev,>=3.20.2, but you have protobuf 3.19.6 which is incompatible.\n",
            "langsmith 0.1.137 requires httpx<1,>=0.23.0, but you have httpx 0.19.0 which is incompatible.\n",
            "mizani 0.13.0 requires pandas>=2.2.0, but you have pandas 1.5.3 which is incompatible.\n",
            "openai 1.52.2 requires httpx<1,>=0.23.0, but you have httpx 0.19.0 which is incompatible.\n",
            "pandas-gbq 0.24.0 requires google-auth-oauthlib>=0.7.0, but you have google-auth-oauthlib 0.4.6 which is incompatible.\n",
            "plotnine 0.14.0 requires pandas>=2.2.0, but you have pandas 1.5.3 which is incompatible.\n",
            "tensorflow-datasets 4.9.6 requires protobuf>=3.20, but you have protobuf 3.19.6 which is incompatible.\n",
            "tensorflow-metadata 1.16.1 requires protobuf<4.21,>=3.20.3; python_version < \"3.11\", but you have protobuf 3.19.6 which is incompatible.\n",
            "tf-keras 2.17.0 requires tensorflow<2.18,>=2.17, but you have tensorflow 2.9.3 which is incompatible.\n",
            "xarray 2024.10.0 requires pandas>=2.1, but you have pandas 1.5.3 which is incompatible.\u001b[0m\u001b[31m\n",
            "\u001b[0mSuccessfully installed click-7.1.2 ffmpeg-python-0.2.0 flatbuffers-1.12 gast-0.4.0 google-auth-oauthlib-0.4.6 h11-0.12.0 h2-4.1.0 hpack-4.0.0 httpcore-0.13.7 httpx-0.19.0 hyperframe-6.0.1 keras-2.9.0 keras-preprocessing-1.1.2 norbert-0.2.1 pandas-1.5.3 protobuf-3.19.6 rfc3986-1.5.0 spleeter-2.4.0 tensorboard-2.9.1 tensorboard-data-server-0.6.1 tensorboard-plugin-wit-1.8.1 tensorflow-2.9.3 tensorflow-estimator-2.9.0 typer-0.3.2\n"
          ]
        },
        {
          "data": {
            "application/vnd.colab-display-data+json": {
              "id": "28263e6727894c3cb24e6d832c5e2446",
              "pip_warning": {
                "packages": [
                  "google"
                ]
              }
            }
          },
          "metadata": {},
          "output_type": "display_data"
        }
      ],
      "source": [
        "!pip install spleeter"
      ]
    },
    {
      "cell_type": "code",
      "execution_count": null,
      "metadata": {
        "colab": {
          "base_uri": "https://localhost:8080/"
        },
        "id": "ky9Q3DqFc0hv",
        "outputId": "07c5c4ad-fd61-4d98-a66e-e0acf0622811"
      },
      "outputs": [
        {
          "name": "stdout",
          "output_type": "stream",
          "text": [
            "['ffmpeg', 'soundfile']\n"
          ]
        },
        {
          "name": "stderr",
          "output_type": "stream",
          "text": [
            "<ipython-input-7-3886a1e27a54>:3: UserWarning: torchaudio._backend.set_audio_backend has been deprecated. With dispatcher enabled, this function is no-op. You can remove the function call.\n",
            "  torchaudio.set_audio_backend('ffmpeg')\n"
          ]
        }
      ],
      "source": [
        "import torchaudio\n",
        "\n",
        "torchaudio.set_audio_backend('ffmpeg')\n",
        "print(torchaudio.list_audio_backends())"
      ]
    },
    {
      "cell_type": "code",
      "execution_count": null,
      "metadata": {
        "colab": {
          "base_uri": "https://localhost:8080/"
        },
        "id": "kmuI9Y-jZv25",
        "outputId": "b3f3592d-908a-4f90-b068-09d59b1ec59e"
      },
      "outputs": [
        {
          "name": "stdout",
          "output_type": "stream",
          "text": [
            "Num GPUs Available:  0\n"
          ]
        },
        {
          "name": "stderr",
          "output_type": "stream",
          "text": [
            "Exception ignored in: <generator object Estimator.predict at 0x7f0195d7de00>\n",
            "Traceback (most recent call last):\n",
            "  File \"/usr/local/lib/python3.10/dist-packages/tensorflow_estimator/python/estimator/estimator.py\", line 618, in predict\n",
            "    with tf.Graph().as_default() as g:\n",
            "  File \"/usr/lib/python3.10/contextlib.py\", line 153, in __exit__\n",
            "    self.gen.throw(typ, value, traceback)\n",
            "  File \"/usr/local/lib/python3.10/dist-packages/tensorflow/python/framework/ops.py\", line 5821, in get_controller\n",
            "    with super(_DefaultGraphStack,\n",
            "  File \"/usr/lib/python3.10/contextlib.py\", line 153, in __exit__\n",
            "    self.gen.throw(typ, value, traceback)\n",
            "  File \"/usr/local/lib/python3.10/dist-packages/tensorflow/python/framework/ops.py\", line 5633, in get_controller\n",
            "    raise AssertionError(\n",
            "AssertionError: Nesting violated for default stack of <class 'tensorflow.python.framework.ops.Graph'> objects\n"
          ]
        },
        {
          "name": "stdout",
          "output_type": "stream",
          "text": [
            "INFO:spleeter:File output/[SPOTIFY-DOWNLOADER.COM] Way Less Sad/vocals.wav written succesfully\n"
          ]
        },
        {
          "name": "stderr",
          "output_type": "stream",
          "text": [
            "INFO:spleeter:File output/[SPOTIFY-DOWNLOADER.COM] Way Less Sad/vocals.wav written succesfully\n"
          ]
        },
        {
          "name": "stdout",
          "output_type": "stream",
          "text": [
            "INFO:spleeter:File output/[SPOTIFY-DOWNLOADER.COM] Way Less Sad/accompaniment.wav written succesfully\n"
          ]
        },
        {
          "name": "stderr",
          "output_type": "stream",
          "text": [
            "INFO:spleeter:File output/[SPOTIFY-DOWNLOADER.COM] Way Less Sad/accompaniment.wav written succesfully\n"
          ]
        },
        {
          "name": "stdout",
          "output_type": "stream",
          "text": [
            "INFO:spleeter:File output/[SPOTIFY-DOWNLOADER.COM] Weak/vocals.wav written succesfully\n"
          ]
        },
        {
          "name": "stderr",
          "output_type": "stream",
          "text": [
            "INFO:spleeter:File output/[SPOTIFY-DOWNLOADER.COM] Weak/vocals.wav written succesfully\n"
          ]
        },
        {
          "name": "stdout",
          "output_type": "stream",
          "text": [
            "INFO:spleeter:File output/[SPOTIFY-DOWNLOADER.COM] Weak/accompaniment.wav written succesfully\n"
          ]
        },
        {
          "name": "stderr",
          "output_type": "stream",
          "text": [
            "INFO:spleeter:File output/[SPOTIFY-DOWNLOADER.COM] Weak/accompaniment.wav written succesfully\n"
          ]
        },
        {
          "name": "stdout",
          "output_type": "stream",
          "text": [
            "INFO:spleeter:File output/[SPOTIFY-DOWNLOADER.COM] These Days (feat. Jess Glynne, Macklemore & Dan Caplen) - AJR Remix/vocals.wav written succesfully\n"
          ]
        },
        {
          "name": "stderr",
          "output_type": "stream",
          "text": [
            "INFO:spleeter:File output/[SPOTIFY-DOWNLOADER.COM] These Days (feat. Jess Glynne, Macklemore & Dan Caplen) - AJR Remix/vocals.wav written succesfully\n"
          ]
        },
        {
          "name": "stdout",
          "output_type": "stream",
          "text": [
            "INFO:spleeter:File output/[SPOTIFY-DOWNLOADER.COM] These Days (feat. Jess Glynne, Macklemore & Dan Caplen) - AJR Remix/accompaniment.wav written succesfully\n"
          ]
        },
        {
          "name": "stderr",
          "output_type": "stream",
          "text": [
            "INFO:spleeter:File output/[SPOTIFY-DOWNLOADER.COM] These Days (feat. Jess Glynne, Macklemore & Dan Caplen) - AJR Remix/accompaniment.wav written succesfully\n"
          ]
        },
        {
          "name": "stdout",
          "output_type": "stream",
          "text": [
            "INFO:spleeter:File output/SpotiDown.App - Next Up Forever - AJR/vocals.wav written succesfully\n"
          ]
        },
        {
          "name": "stderr",
          "output_type": "stream",
          "text": [
            "INFO:spleeter:File output/SpotiDown.App - Next Up Forever - AJR/vocals.wav written succesfully\n"
          ]
        },
        {
          "name": "stdout",
          "output_type": "stream",
          "text": [
            "INFO:spleeter:File output/SpotiDown.App - Next Up Forever - AJR/accompaniment.wav written succesfully\n"
          ]
        },
        {
          "name": "stderr",
          "output_type": "stream",
          "text": [
            "INFO:spleeter:File output/SpotiDown.App - Next Up Forever - AJR/accompaniment.wav written succesfully\n"
          ]
        },
        {
          "name": "stdout",
          "output_type": "stream",
          "text": [
            "INFO:spleeter:File output/[SPOTIFY-DOWNLOADER.COM] Record Player (with AJR)/vocals.wav written succesfully\n"
          ]
        },
        {
          "name": "stderr",
          "output_type": "stream",
          "text": [
            "INFO:spleeter:File output/[SPOTIFY-DOWNLOADER.COM] Record Player (with AJR)/vocals.wav written succesfully\n"
          ]
        },
        {
          "name": "stdout",
          "output_type": "stream",
          "text": [
            "INFO:spleeter:File output/[SPOTIFY-DOWNLOADER.COM] Record Player (with AJR)/accompaniment.wav written succesfully\n"
          ]
        },
        {
          "name": "stderr",
          "output_type": "stream",
          "text": [
            "INFO:spleeter:File output/[SPOTIFY-DOWNLOADER.COM] Record Player (with AJR)/accompaniment.wav written succesfully\n"
          ]
        },
        {
          "name": "stdout",
          "output_type": "stream",
          "text": [
            "INFO:spleeter:File output/SpotiDown.App - Overture - AJR/vocals.wav written succesfully\n"
          ]
        },
        {
          "name": "stderr",
          "output_type": "stream",
          "text": [
            "INFO:spleeter:File output/SpotiDown.App - Overture - AJR/vocals.wav written succesfully\n"
          ]
        },
        {
          "name": "stdout",
          "output_type": "stream",
          "text": [
            "INFO:spleeter:File output/SpotiDown.App - Overture - AJR/accompaniment.wav written succesfully\n"
          ]
        },
        {
          "name": "stderr",
          "output_type": "stream",
          "text": [
            "INFO:spleeter:File output/SpotiDown.App - Overture - AJR/accompaniment.wav written succesfully\n"
          ]
        },
        {
          "name": "stdout",
          "output_type": "stream",
          "text": [
            "INFO:spleeter:File output/[SPOTIFY-DOWNLOADER.COM] Beats/vocals.wav written succesfully\n"
          ]
        },
        {
          "name": "stderr",
          "output_type": "stream",
          "text": [
            "INFO:spleeter:File output/[SPOTIFY-DOWNLOADER.COM] Beats/vocals.wav written succesfully\n"
          ]
        },
        {
          "name": "stdout",
          "output_type": "stream",
          "text": [
            "INFO:spleeter:File output/[SPOTIFY-DOWNLOADER.COM] Beats/accompaniment.wav written succesfully\n"
          ]
        },
        {
          "name": "stderr",
          "output_type": "stream",
          "text": [
            "INFO:spleeter:File output/[SPOTIFY-DOWNLOADER.COM] Beats/accompaniment.wav written succesfully\n"
          ]
        },
        {
          "name": "stdout",
          "output_type": "stream",
          "text": [
            "INFO:spleeter:File output/[SPOTIFY-DOWNLOADER.COM] 2085/vocals.wav written succesfully\n"
          ]
        },
        {
          "name": "stderr",
          "output_type": "stream",
          "text": [
            "INFO:spleeter:File output/[SPOTIFY-DOWNLOADER.COM] 2085/vocals.wav written succesfully\n"
          ]
        },
        {
          "name": "stdout",
          "output_type": "stream",
          "text": [
            "INFO:spleeter:File output/[SPOTIFY-DOWNLOADER.COM] 2085/accompaniment.wav written succesfully\n"
          ]
        },
        {
          "name": "stderr",
          "output_type": "stream",
          "text": [
            "INFO:spleeter:File output/[SPOTIFY-DOWNLOADER.COM] 2085/accompaniment.wav written succesfully\n"
          ]
        },
        {
          "name": "stdout",
          "output_type": "stream",
          "text": [
            "INFO:spleeter:File output/[SPOTIFY-DOWNLOADER.COM] Alice by the Hudson/vocals.wav written succesfully\n"
          ]
        },
        {
          "name": "stderr",
          "output_type": "stream",
          "text": [
            "INFO:spleeter:File output/[SPOTIFY-DOWNLOADER.COM] Alice by the Hudson/vocals.wav written succesfully\n"
          ]
        },
        {
          "name": "stdout",
          "output_type": "stream",
          "text": [
            "INFO:spleeter:File output/[SPOTIFY-DOWNLOADER.COM] Alice by the Hudson/accompaniment.wav written succesfully\n"
          ]
        },
        {
          "name": "stderr",
          "output_type": "stream",
          "text": [
            "INFO:spleeter:File output/[SPOTIFY-DOWNLOADER.COM] Alice by the Hudson/accompaniment.wav written succesfully\n"
          ]
        },
        {
          "name": "stdout",
          "output_type": "stream",
          "text": [
            "INFO:spleeter:File output/[SPOTIFY-DOWNLOADER.COM] World's Smallest Violin/vocals.wav written succesfully\n"
          ]
        },
        {
          "name": "stderr",
          "output_type": "stream",
          "text": [
            "INFO:spleeter:File output/[SPOTIFY-DOWNLOADER.COM] World's Smallest Violin/vocals.wav written succesfully\n"
          ]
        },
        {
          "name": "stdout",
          "output_type": "stream",
          "text": [
            "INFO:spleeter:File output/[SPOTIFY-DOWNLOADER.COM] World's Smallest Violin/accompaniment.wav written succesfully\n"
          ]
        },
        {
          "name": "stderr",
          "output_type": "stream",
          "text": [
            "INFO:spleeter:File output/[SPOTIFY-DOWNLOADER.COM] World's Smallest Violin/accompaniment.wav written succesfully\n"
          ]
        },
        {
          "name": "stdout",
          "output_type": "stream",
          "text": [
            "INFO:spleeter:File output/SpotiDown.App - Don't Throw Out My Legos - AJR/vocals.wav written succesfully\n"
          ]
        },
        {
          "name": "stderr",
          "output_type": "stream",
          "text": [
            "INFO:spleeter:File output/SpotiDown.App - Don't Throw Out My Legos - AJR/vocals.wav written succesfully\n"
          ]
        },
        {
          "name": "stdout",
          "output_type": "stream",
          "text": [
            "INFO:spleeter:File output/SpotiDown.App - Don't Throw Out My Legos - AJR/accompaniment.wav written succesfully\n"
          ]
        },
        {
          "name": "stderr",
          "output_type": "stream",
          "text": [
            "INFO:spleeter:File output/SpotiDown.App - Don't Throw Out My Legos - AJR/accompaniment.wav written succesfully\n"
          ]
        },
        {
          "name": "stdout",
          "output_type": "stream",
          "text": [
            "INFO:spleeter:File output/SpotiDown.App - Steve’s Going to London - AJR/vocals.wav written succesfully\n"
          ]
        },
        {
          "name": "stderr",
          "output_type": "stream",
          "text": [
            "INFO:spleeter:File output/SpotiDown.App - Steve’s Going to London - AJR/vocals.wav written succesfully\n"
          ]
        },
        {
          "name": "stdout",
          "output_type": "stream",
          "text": [
            "INFO:spleeter:File output/SpotiDown.App - Steve’s Going to London - AJR/accompaniment.wav written succesfully\n"
          ]
        },
        {
          "name": "stderr",
          "output_type": "stream",
          "text": [
            "INFO:spleeter:File output/SpotiDown.App - Steve’s Going to London - AJR/accompaniment.wav written succesfully\n"
          ]
        },
        {
          "name": "stdout",
          "output_type": "stream",
          "text": [
            "INFO:spleeter:File output/SpotiDown.App - OK Overture - AJR/vocals.wav written succesfully\n"
          ]
        },
        {
          "name": "stderr",
          "output_type": "stream",
          "text": [
            "INFO:spleeter:File output/SpotiDown.App - OK Overture - AJR/vocals.wav written succesfully\n"
          ]
        },
        {
          "name": "stdout",
          "output_type": "stream",
          "text": [
            "INFO:spleeter:File output/SpotiDown.App - OK Overture - AJR/accompaniment.wav written succesfully\n"
          ]
        },
        {
          "name": "stderr",
          "output_type": "stream",
          "text": [
            "INFO:spleeter:File output/SpotiDown.App - OK Overture - AJR/accompaniment.wav written succesfully\n"
          ]
        },
        {
          "name": "stdout",
          "output_type": "stream",
          "text": [
            "INFO:spleeter:File output/[SPOTIFY-DOWNLOADER.COM] God is Really Real/vocals.wav written succesfully\n"
          ]
        },
        {
          "name": "stderr",
          "output_type": "stream",
          "text": [
            "INFO:spleeter:File output/[SPOTIFY-DOWNLOADER.COM] God is Really Real/vocals.wav written succesfully\n"
          ]
        },
        {
          "name": "stdout",
          "output_type": "stream",
          "text": [
            "INFO:spleeter:File output/[SPOTIFY-DOWNLOADER.COM] God is Really Real/accompaniment.wav written succesfully\n"
          ]
        },
        {
          "name": "stderr",
          "output_type": "stream",
          "text": [
            "INFO:spleeter:File output/[SPOTIFY-DOWNLOADER.COM] God is Really Real/accompaniment.wav written succesfully\n"
          ]
        },
        {
          "name": "stdout",
          "output_type": "stream",
          "text": [
            "Error processing data/[SPOTIFY-DOWNLOADER.COM] Hole in the Bottom of My Brain.mp3: Failed to open the input \"data/[SPOTIFY-DOWNLOADER.COM] Hole in the Bottom of My Brain.mp3\" (Invalid argument).\n",
            "Exception raised from get_input_format_context at /__w/audio/audio/pytorch/audio/src/libtorio/ffmpeg/stream_reader/stream_reader.cpp:42 (most recent call first):\n",
            "frame #0: c10::Error::Error(c10::SourceLocation, std::string) + 0x96 (0x7f02c00ef446 in /usr/local/lib/python3.10/dist-packages/torch/lib/libc10.so)\n",
            "frame #1: c10::detail::torchCheckFail(char const*, char const*, unsigned int, std::string const&) + 0x64 (0x7f02c00996e4 in /usr/local/lib/python3.10/dist-packages/torch/lib/libc10.so)\n",
            "frame #2: <unknown function> + 0x42134 (0x7f02b1ec6134 in /usr/local/lib/python3.10/dist-packages/torio/lib/libtorio_ffmpeg4.so)\n",
            "frame #3: torio::io::StreamingMediaDecoder::StreamingMediaDecoder(std::string const&, std::optional<std::string> const&, std::optional<std::map<std::string, std::string, std::less<std::string>, std::allocator<std::pair<std::string const, std::string> > > > const&) + 0x14 (0x7f02b1ec8b34 in /usr/local/lib/python3.10/dist-packages/torio/lib/libtorio_ffmpeg4.so)\n",
            "frame #4: <unknown function> + 0x3a19e (0x7f01efb4b19e in /usr/local/lib/python3.10/dist-packages/torio/lib/_torio_ffmpeg4.so)\n",
            "frame #5: <unknown function> + 0x31d47 (0x7f01efb42d47 in /usr/local/lib/python3.10/dist-packages/torio/lib/_torio_ffmpeg4.so)\n",
            "frame #6: <unknown function> + 0x15cb2e (0x5891ff4d7b2e in /usr/bin/python3)\n",
            "frame #7: _PyObject_MakeTpCall + 0x25b (0x5891ff4ce2db in /usr/bin/python3)\n",
            "frame #8: <unknown function> + 0x16b6b0 (0x5891ff4e66b0 in /usr/bin/python3)\n",
            "frame #9: <unknown function> + 0x167ad7 (0x5891ff4e2ad7 in /usr/bin/python3)\n",
            "frame #10: <unknown function> + 0x15368b (0x5891ff4ce68b in /usr/bin/python3)\n",
            "frame #11: <unknown function> + 0xf72b (0x7f02c2e4e72b in /usr/local/lib/python3.10/dist-packages/torchaudio/lib/_torchaudio.so)\n",
            "frame #12: _PyObject_MakeTpCall + 0x25b (0x5891ff4ce2db in /usr/bin/python3)\n",
            "frame #13: _PyEval_EvalFrameDefault + 0x6b17 (0x5891ff4c6d27 in /usr/bin/python3)\n",
            "frame #14: _PyObject_FastCallDictTstate + 0xc4 (0x5891ff4cd474 in /usr/bin/python3)\n",
            "frame #15: <unknown function> + 0x1674b4 (0x5891ff4e24b4 in /usr/bin/python3)\n",
            "frame #16: _PyObject_MakeTpCall + 0x1fc (0x5891ff4ce27c in /usr/bin/python3)\n",
            "frame #17: _PyEval_EvalFrameDefault + 0x6b17 (0x5891ff4c6d27 in /usr/bin/python3)\n",
            "frame #18: _PyFunction_Vectorcall + 0x7c (0x5891ff4d842c in /usr/bin/python3)\n",
            "frame #19: _PyEval_EvalFrameDefault + 0x6bc (0x5891ff4c08cc in /usr/bin/python3)\n",
            "frame #20: _PyFunction_Vectorcall + 0x7c (0x5891ff4d842c in /usr/bin/python3)\n",
            "frame #21: _PyEval_EvalFrameDefault + 0x613a (0x5891ff4c634a in /usr/bin/python3)\n",
            "frame #22: _PyFunction_Vectorcall + 0x7c (0x5891ff4d842c in /usr/bin/python3)\n",
            "frame #23: _PyEval_EvalFrameDefault + 0x613a (0x5891ff4c634a in /usr/bin/python3)\n",
            "frame #24: <unknown function> + 0x142016 (0x5891ff4bd016 in /usr/bin/python3)\n",
            "frame #25: PyEval_EvalCode + 0x86 (0x5891ff5b28b6 in /usr/bin/python3)\n",
            "frame #26: <unknown function> + 0x23d5fd (0x5891ff5b85fd in /usr/bin/python3)\n",
            "frame #27: <unknown function> + 0x15d689 (0x5891ff4d8689 in /usr/bin/python3)\n",
            "frame #28: _PyEval_EvalFrameDefault + 0x6bc (0x5891ff4c08cc in /usr/bin/python3)\n",
            "frame #29: <unknown function> + 0x17a8b0 (0x5891ff4f58b0 in /usr/bin/python3)\n",
            "frame #30: _PyEval_EvalFrameDefault + 0x26f4 (0x5891ff4c2904 in /usr/bin/python3)\n",
            "frame #31: <unknown function> + 0x17a8b0 (0x5891ff4f58b0 in /usr/bin/python3)\n",
            "frame #32: _PyEval_EvalFrameDefault + 0x26f4 (0x5891ff4c2904 in /usr/bin/python3)\n",
            "frame #33: <unknown function> + 0x17a8b0 (0x5891ff4f58b0 in /usr/bin/python3)\n",
            "frame #34: <unknown function> + 0x257fef (0x5891ff5d2fef in /usr/bin/python3)\n",
            "frame #35: <unknown function> + 0x168d1a (0x5891ff4e3d1a in /usr/bin/python3)\n",
            "frame #36: _PyEval_EvalFrameDefault + 0x8ab (0x5891ff4c0abb in /usr/bin/python3)\n",
            "frame #37: _PyFunction_Vectorcall + 0x7c (0x5891ff4d842c in /usr/bin/python3)\n",
            "frame #38: _PyEval_EvalFrameDefault + 0x6bc (0x5891ff4c08cc in /usr/bin/python3)\n",
            "frame #39: _PyFunction_Vectorcall + 0x7c (0x5891ff4d842c in /usr/bin/python3)\n",
            "frame #40: _PyEval_EvalFrameDefault + 0x8ab (0x5891ff4c0abb in /usr/bin/python3)\n",
            "frame #41: <unknown function> + 0x16b281 (0x5891ff4e6281 in /usr/bin/python3)\n",
            "frame #42: PyObject_Call + 0x122 (0x5891ff4e6f22 in /usr/bin/python3)\n",
            "frame #43: _PyEval_EvalFrameDefault + 0x285e (0x5891ff4c2a6e in /usr/bin/python3)\n",
            "frame #44: <unknown function> + 0x16b281 (0x5891ff4e6281 in /usr/bin/python3)\n",
            "frame #45: _PyEval_EvalFrameDefault + 0x1983 (0x5891ff4c1b93 in /usr/bin/python3)\n",
            "frame #46: <unknown function> + 0x203c75 (0x5891ff57ec75 in /usr/bin/python3)\n",
            "frame #47: <unknown function> + 0x15d689 (0x5891ff4d8689 in /usr/bin/python3)\n",
            "frame #48: <unknown function> + 0x239505 (0x5891ff5b4505 in /usr/bin/python3)\n",
            "frame #49: <unknown function> + 0x2b5e82 (0x5891ff630e82 in /usr/bin/python3)\n",
            "frame #50: <unknown function> + 0x15020b (0x5891ff4cb20b in /usr/bin/python3)\n",
            "frame #51: _PyEval_EvalFrameDefault + 0x6bc (0x5891ff4c08cc in /usr/bin/python3)\n",
            "frame #52: _PyFunction_Vectorcall + 0x7c (0x5891ff4d842c in /usr/bin/python3)\n",
            "frame #53: _PyEval_EvalFrameDefault + 0x8ab (0x5891ff4c0abb in /usr/bin/python3)\n",
            "frame #54: <unknown function> + 0x203c75 (0x5891ff57ec75 in /usr/bin/python3)\n",
            "frame #55: <unknown function> + 0x15d689 (0x5891ff4d8689 in /usr/bin/python3)\n",
            "frame #56: <unknown function> + 0x239505 (0x5891ff5b4505 in /usr/bin/python3)\n",
            "frame #57: <unknown function> + 0x2b5e82 (0x5891ff630e82 in /usr/bin/python3)\n",
            "frame #58: <unknown function> + 0x15020b (0x5891ff4cb20b in /usr/bin/python3)\n",
            "frame #59: _PyEval_EvalFrameDefault + 0x6bc (0x5891ff4c08cc in /usr/bin/python3)\n",
            "frame #60: <unknown function> + 0x16b281 (0x5891ff4e6281 in /usr/bin/python3)\n",
            "frame #61: _PyEval_EvalFrameDefault + 0x6bc (0x5891ff4c08cc in /usr/bin/python3)\n",
            "frame #62: <unknown function> + 0x203c75 (0x5891ff57ec75 in /usr/bin/python3)\n",
            "\n",
            "INFO:spleeter:File output/[SPOTIFY-DOWNLOADER.COM] Normal/vocals.wav written succesfully\n"
          ]
        },
        {
          "name": "stderr",
          "output_type": "stream",
          "text": [
            "INFO:spleeter:File output/[SPOTIFY-DOWNLOADER.COM] Normal/vocals.wav written succesfully\n"
          ]
        },
        {
          "name": "stdout",
          "output_type": "stream",
          "text": [
            "INFO:spleeter:File output/[SPOTIFY-DOWNLOADER.COM] Normal/accompaniment.wav written succesfully\n"
          ]
        },
        {
          "name": "stderr",
          "output_type": "stream",
          "text": [
            "INFO:spleeter:File output/[SPOTIFY-DOWNLOADER.COM] Normal/accompaniment.wav written succesfully\n"
          ]
        },
        {
          "name": "stdout",
          "output_type": "stream",
          "text": [
            "INFO:spleeter:File output/SpotiDown.App - I'm Ready - AJR/vocals.wav written succesfully\n"
          ]
        },
        {
          "name": "stderr",
          "output_type": "stream",
          "text": [
            "INFO:spleeter:File output/SpotiDown.App - I'm Ready - AJR/vocals.wav written succesfully\n"
          ]
        },
        {
          "name": "stdout",
          "output_type": "stream",
          "text": [
            "INFO:spleeter:File output/SpotiDown.App - I'm Ready - AJR/accompaniment.wav written succesfully\n"
          ]
        },
        {
          "name": "stderr",
          "output_type": "stream",
          "text": [
            "INFO:spleeter:File output/SpotiDown.App - I'm Ready - AJR/accompaniment.wav written succesfully\n"
          ]
        },
        {
          "name": "stdout",
          "output_type": "stream",
          "text": [
            "INFO:spleeter:File output/[SPOTIFY-DOWNLOADER.COM] My Play/vocals.wav written succesfully\n"
          ]
        },
        {
          "name": "stderr",
          "output_type": "stream",
          "text": [
            "INFO:spleeter:File output/[SPOTIFY-DOWNLOADER.COM] My Play/vocals.wav written succesfully\n"
          ]
        },
        {
          "name": "stdout",
          "output_type": "stream",
          "text": [
            "INFO:spleeter:File output/[SPOTIFY-DOWNLOADER.COM] My Play/accompaniment.wav written succesfully\n"
          ]
        },
        {
          "name": "stderr",
          "output_type": "stream",
          "text": [
            "INFO:spleeter:File output/[SPOTIFY-DOWNLOADER.COM] My Play/accompaniment.wav written succesfully\n"
          ]
        },
        {
          "name": "stdout",
          "output_type": "stream",
          "text": [
            "INFO:spleeter:File output/SpotiDown.App - Christmas in June - AJR/vocals.wav written succesfully\n"
          ]
        },
        {
          "name": "stderr",
          "output_type": "stream",
          "text": [
            "INFO:spleeter:File output/SpotiDown.App - Christmas in June - AJR/vocals.wav written succesfully\n"
          ]
        },
        {
          "name": "stdout",
          "output_type": "stream",
          "text": [
            "INFO:spleeter:File output/SpotiDown.App - Christmas in June - AJR/accompaniment.wav written succesfully\n"
          ]
        },
        {
          "name": "stderr",
          "output_type": "stream",
          "text": [
            "INFO:spleeter:File output/SpotiDown.App - Christmas in June - AJR/accompaniment.wav written succesfully\n"
          ]
        },
        {
          "name": "stdout",
          "output_type": "stream",
          "text": [
            "INFO:spleeter:File output/[SPOTIFY-DOWNLOADER.COM] Infinity/vocals.wav written succesfully\n"
          ]
        },
        {
          "name": "stderr",
          "output_type": "stream",
          "text": [
            "INFO:spleeter:File output/[SPOTIFY-DOWNLOADER.COM] Infinity/vocals.wav written succesfully\n"
          ]
        },
        {
          "name": "stdout",
          "output_type": "stream",
          "text": [
            "INFO:spleeter:File output/[SPOTIFY-DOWNLOADER.COM] Infinity/accompaniment.wav written succesfully\n"
          ]
        },
        {
          "name": "stderr",
          "output_type": "stream",
          "text": [
            "INFO:spleeter:File output/[SPOTIFY-DOWNLOADER.COM] Infinity/accompaniment.wav written succesfully\n"
          ]
        },
        {
          "name": "stdout",
          "output_type": "stream",
          "text": [
            "INFO:spleeter:File output/SpotiDown.App - Inertia - AJR/vocals.wav written succesfully\n"
          ]
        },
        {
          "name": "stderr",
          "output_type": "stream",
          "text": [
            "INFO:spleeter:File output/SpotiDown.App - Inertia - AJR/vocals.wav written succesfully\n"
          ]
        },
        {
          "name": "stdout",
          "output_type": "stream",
          "text": [
            "INFO:spleeter:File output/SpotiDown.App - Inertia - AJR/accompaniment.wav written succesfully\n"
          ]
        },
        {
          "name": "stderr",
          "output_type": "stream",
          "text": [
            "INFO:spleeter:File output/SpotiDown.App - Inertia - AJR/accompaniment.wav written succesfully\n"
          ]
        },
        {
          "name": "stdout",
          "output_type": "stream",
          "text": [
            "INFO:spleeter:File output/[SPOTIFY-DOWNLOADER.COM] Role Models/vocals.wav written succesfully\n"
          ]
        },
        {
          "name": "stderr",
          "output_type": "stream",
          "text": [
            "INFO:spleeter:File output/[SPOTIFY-DOWNLOADER.COM] Role Models/vocals.wav written succesfully\n"
          ]
        },
        {
          "name": "stdout",
          "output_type": "stream",
          "text": [
            "INFO:spleeter:File output/[SPOTIFY-DOWNLOADER.COM] Role Models/accompaniment.wav written succesfully\n"
          ]
        },
        {
          "name": "stderr",
          "output_type": "stream",
          "text": [
            "INFO:spleeter:File output/[SPOTIFY-DOWNLOADER.COM] Role Models/accompaniment.wav written succesfully\n"
          ]
        },
        {
          "name": "stdout",
          "output_type": "stream",
          "text": [
            "INFO:spleeter:File output/[SPOTIFY-DOWNLOADER.COM] The Dumb Song/vocals.wav written succesfully\n"
          ]
        },
        {
          "name": "stderr",
          "output_type": "stream",
          "text": [
            "INFO:spleeter:File output/[SPOTIFY-DOWNLOADER.COM] The Dumb Song/vocals.wav written succesfully\n"
          ]
        },
        {
          "name": "stdout",
          "output_type": "stream",
          "text": [
            "INFO:spleeter:File output/[SPOTIFY-DOWNLOADER.COM] The Dumb Song/accompaniment.wav written succesfully\n"
          ]
        },
        {
          "name": "stderr",
          "output_type": "stream",
          "text": [
            "INFO:spleeter:File output/[SPOTIFY-DOWNLOADER.COM] The Dumb Song/accompaniment.wav written succesfully\n"
          ]
        },
        {
          "name": "stdout",
          "output_type": "stream",
          "text": [
            "INFO:spleeter:File output/[SPOTIFY-DOWNLOADER.COM] Adventure Is Out There/vocals.wav written succesfully\n"
          ]
        },
        {
          "name": "stderr",
          "output_type": "stream",
          "text": [
            "INFO:spleeter:File output/[SPOTIFY-DOWNLOADER.COM] Adventure Is Out There/vocals.wav written succesfully\n"
          ]
        },
        {
          "name": "stdout",
          "output_type": "stream",
          "text": [
            "INFO:spleeter:File output/[SPOTIFY-DOWNLOADER.COM] Adventure Is Out There/accompaniment.wav written succesfully\n"
          ]
        },
        {
          "name": "stderr",
          "output_type": "stream",
          "text": [
            "INFO:spleeter:File output/[SPOTIFY-DOWNLOADER.COM] Adventure Is Out There/accompaniment.wav written succesfully\n"
          ]
        },
        {
          "name": "stdout",
          "output_type": "stream",
          "text": [
            "INFO:spleeter:File output/[SPOTIFY-DOWNLOADER.COM] The Trick/vocals.wav written succesfully\n"
          ]
        },
        {
          "name": "stderr",
          "output_type": "stream",
          "text": [
            "INFO:spleeter:File output/[SPOTIFY-DOWNLOADER.COM] The Trick/vocals.wav written succesfully\n"
          ]
        },
        {
          "name": "stdout",
          "output_type": "stream",
          "text": [
            "INFO:spleeter:File output/[SPOTIFY-DOWNLOADER.COM] The Trick/accompaniment.wav written succesfully\n"
          ]
        },
        {
          "name": "stderr",
          "output_type": "stream",
          "text": [
            "INFO:spleeter:File output/[SPOTIFY-DOWNLOADER.COM] The Trick/accompaniment.wav written succesfully\n"
          ]
        },
        {
          "name": "stdout",
          "output_type": "stream",
          "text": [
            "INFO:spleeter:File output/[SPOTIFY-DOWNLOADER.COM] Growing Old on Bleecker Street/vocals.wav written succesfully\n"
          ]
        },
        {
          "name": "stderr",
          "output_type": "stream",
          "text": [
            "INFO:spleeter:File output/[SPOTIFY-DOWNLOADER.COM] Growing Old on Bleecker Street/vocals.wav written succesfully\n"
          ]
        },
        {
          "name": "stdout",
          "output_type": "stream",
          "text": [
            "INFO:spleeter:File output/[SPOTIFY-DOWNLOADER.COM] Growing Old on Bleecker Street/accompaniment.wav written succesfully\n"
          ]
        },
        {
          "name": "stderr",
          "output_type": "stream",
          "text": [
            "INFO:spleeter:File output/[SPOTIFY-DOWNLOADER.COM] Growing Old on Bleecker Street/accompaniment.wav written succesfully\n"
          ]
        },
        {
          "name": "stdout",
          "output_type": "stream",
          "text": [
            "INFO:spleeter:File output/[SPOTIFY-DOWNLOADER.COM] Big White Bed/vocals.wav written succesfully\n"
          ]
        },
        {
          "name": "stderr",
          "output_type": "stream",
          "text": [
            "INFO:spleeter:File output/[SPOTIFY-DOWNLOADER.COM] Big White Bed/vocals.wav written succesfully\n"
          ]
        },
        {
          "name": "stdout",
          "output_type": "stream",
          "text": [
            "INFO:spleeter:File output/[SPOTIFY-DOWNLOADER.COM] Big White Bed/accompaniment.wav written succesfully\n"
          ]
        },
        {
          "name": "stderr",
          "output_type": "stream",
          "text": [
            "INFO:spleeter:File output/[SPOTIFY-DOWNLOADER.COM] Big White Bed/accompaniment.wav written succesfully\n"
          ]
        },
        {
          "name": "stdout",
          "output_type": "stream",
          "text": [
            "INFO:spleeter:File output/[SPOTIFY-DOWNLOADER.COM] Buy You a Rose/vocals.wav written succesfully\n"
          ]
        },
        {
          "name": "stderr",
          "output_type": "stream",
          "text": [
            "INFO:spleeter:File output/[SPOTIFY-DOWNLOADER.COM] Buy You a Rose/vocals.wav written succesfully\n"
          ]
        },
        {
          "name": "stdout",
          "output_type": "stream",
          "text": [
            "INFO:spleeter:File output/[SPOTIFY-DOWNLOADER.COM] Buy You a Rose/accompaniment.wav written succesfully\n"
          ]
        },
        {
          "name": "stderr",
          "output_type": "stream",
          "text": [
            "INFO:spleeter:File output/[SPOTIFY-DOWNLOADER.COM] Buy You a Rose/accompaniment.wav written succesfully\n"
          ]
        },
        {
          "name": "stdout",
          "output_type": "stream",
          "text": [
            "INFO:spleeter:File output/[SPOTIFY-DOWNLOADER.COM] The Entertainment's Here/vocals.wav written succesfully\n"
          ]
        },
        {
          "name": "stderr",
          "output_type": "stream",
          "text": [
            "INFO:spleeter:File output/[SPOTIFY-DOWNLOADER.COM] The Entertainment's Here/vocals.wav written succesfully\n"
          ]
        },
        {
          "name": "stdout",
          "output_type": "stream",
          "text": [
            "INFO:spleeter:File output/[SPOTIFY-DOWNLOADER.COM] The Entertainment's Here/accompaniment.wav written succesfully\n"
          ]
        },
        {
          "name": "stderr",
          "output_type": "stream",
          "text": [
            "INFO:spleeter:File output/[SPOTIFY-DOWNLOADER.COM] The Entertainment's Here/accompaniment.wav written succesfully\n"
          ]
        },
        {
          "name": "stdout",
          "output_type": "stream",
          "text": [
            "INFO:spleeter:File output/SpotiDown.App - Dear Winter 2.0 - AJR/vocals.wav written succesfully\n"
          ]
        },
        {
          "name": "stderr",
          "output_type": "stream",
          "text": [
            "INFO:spleeter:File output/SpotiDown.App - Dear Winter 2.0 - AJR/vocals.wav written succesfully\n"
          ]
        },
        {
          "name": "stdout",
          "output_type": "stream",
          "text": [
            "INFO:spleeter:File output/SpotiDown.App - Dear Winter 2.0 - AJR/accompaniment.wav written succesfully\n"
          ]
        },
        {
          "name": "stderr",
          "output_type": "stream",
          "text": [
            "INFO:spleeter:File output/SpotiDown.App - Dear Winter 2.0 - AJR/accompaniment.wav written succesfully\n"
          ]
        },
        {
          "name": "stdout",
          "output_type": "stream",
          "text": [
            "INFO:spleeter:File output/[SPOTIFY-DOWNLOADER.COM] Location - Recorded at Spotify Studios NYC/vocals.wav written succesfully\n"
          ]
        },
        {
          "name": "stderr",
          "output_type": "stream",
          "text": [
            "INFO:spleeter:File output/[SPOTIFY-DOWNLOADER.COM] Location - Recorded at Spotify Studios NYC/vocals.wav written succesfully\n"
          ]
        },
        {
          "name": "stdout",
          "output_type": "stream",
          "text": [
            "INFO:spleeter:File output/[SPOTIFY-DOWNLOADER.COM] Location - Recorded at Spotify Studios NYC/accompaniment.wav written succesfully\n"
          ]
        },
        {
          "name": "stderr",
          "output_type": "stream",
          "text": [
            "INFO:spleeter:File output/[SPOTIFY-DOWNLOADER.COM] Location - Recorded at Spotify Studios NYC/accompaniment.wav written succesfully\n"
          ]
        },
        {
          "name": "stdout",
          "output_type": "stream",
          "text": [
            "INFO:spleeter:File output/[SPOTIFY-DOWNLOADER.COM] Pretender (feat. Lil Yachty & AJR)/vocals.wav written succesfully\n"
          ]
        },
        {
          "name": "stderr",
          "output_type": "stream",
          "text": [
            "INFO:spleeter:File output/[SPOTIFY-DOWNLOADER.COM] Pretender (feat. Lil Yachty & AJR)/vocals.wav written succesfully\n"
          ]
        },
        {
          "name": "stdout",
          "output_type": "stream",
          "text": [
            "INFO:spleeter:File output/[SPOTIFY-DOWNLOADER.COM] Pretender (feat. Lil Yachty & AJR)/accompaniment.wav written succesfully\n"
          ]
        },
        {
          "name": "stderr",
          "output_type": "stream",
          "text": [
            "INFO:spleeter:File output/[SPOTIFY-DOWNLOADER.COM] Pretender (feat. Lil Yachty & AJR)/accompaniment.wav written succesfully\n"
          ]
        },
        {
          "name": "stdout",
          "output_type": "stream",
          "text": [
            "INFO:spleeter:File output/SpotiDown.App - I'm Not Famous - AJR/vocals.wav written succesfully\n"
          ]
        },
        {
          "name": "stderr",
          "output_type": "stream",
          "text": [
            "INFO:spleeter:File output/SpotiDown.App - I'm Not Famous - AJR/vocals.wav written succesfully\n"
          ]
        },
        {
          "name": "stdout",
          "output_type": "stream",
          "text": [
            "INFO:spleeter:File output/SpotiDown.App - I'm Not Famous - AJR/accompaniment.wav written succesfully\n"
          ]
        },
        {
          "name": "stderr",
          "output_type": "stream",
          "text": [
            "INFO:spleeter:File output/SpotiDown.App - I'm Not Famous - AJR/accompaniment.wav written succesfully\n"
          ]
        },
        {
          "name": "stdout",
          "output_type": "stream",
          "text": [
            "INFO:spleeter:File output/[SPOTIFY-DOWNLOADER.COM] Big Idea/vocals.wav written succesfully\n"
          ]
        },
        {
          "name": "stderr",
          "output_type": "stream",
          "text": [
            "INFO:spleeter:File output/[SPOTIFY-DOWNLOADER.COM] Big Idea/vocals.wav written succesfully\n"
          ]
        },
        {
          "name": "stdout",
          "output_type": "stream",
          "text": [
            "INFO:spleeter:File output/[SPOTIFY-DOWNLOADER.COM] Big Idea/accompaniment.wav written succesfully\n"
          ]
        },
        {
          "name": "stderr",
          "output_type": "stream",
          "text": [
            "INFO:spleeter:File output/[SPOTIFY-DOWNLOADER.COM] Big Idea/accompaniment.wav written succesfully\n"
          ]
        },
        {
          "name": "stdout",
          "output_type": "stream",
          "text": [
            "INFO:spleeter:File output/[SPOTIFY-DOWNLOADER.COM] Bud Like You/vocals.wav written succesfully\n"
          ]
        },
        {
          "name": "stderr",
          "output_type": "stream",
          "text": [
            "INFO:spleeter:File output/[SPOTIFY-DOWNLOADER.COM] Bud Like You/vocals.wav written succesfully\n"
          ]
        },
        {
          "name": "stdout",
          "output_type": "stream",
          "text": [
            "INFO:spleeter:File output/[SPOTIFY-DOWNLOADER.COM] Bud Like You/accompaniment.wav written succesfully\n"
          ]
        },
        {
          "name": "stderr",
          "output_type": "stream",
          "text": [
            "INFO:spleeter:File output/[SPOTIFY-DOWNLOADER.COM] Bud Like You/accompaniment.wav written succesfully\n"
          ]
        },
        {
          "name": "stdout",
          "output_type": "stream",
          "text": [
            "INFO:spleeter:File output/SpotiDown.App - Yes I'm A Mess - AJR/vocals.wav written succesfully\n"
          ]
        },
        {
          "name": "stderr",
          "output_type": "stream",
          "text": [
            "INFO:spleeter:File output/SpotiDown.App - Yes I'm A Mess - AJR/vocals.wav written succesfully\n"
          ]
        },
        {
          "name": "stdout",
          "output_type": "stream",
          "text": [
            "INFO:spleeter:File output/SpotiDown.App - Yes I'm A Mess - AJR/accompaniment.wav written succesfully\n"
          ]
        },
        {
          "name": "stderr",
          "output_type": "stream",
          "text": [
            "INFO:spleeter:File output/SpotiDown.App - Yes I'm A Mess - AJR/accompaniment.wav written succesfully\n"
          ]
        },
        {
          "name": "stdout",
          "output_type": "stream",
          "text": [
            "INFO:spleeter:File output/[SPOTIFY-DOWNLOADER.COM] Ordinaryish People (feat. Blue Man Group)/vocals.wav written succesfully\n"
          ]
        },
        {
          "name": "stderr",
          "output_type": "stream",
          "text": [
            "INFO:spleeter:File output/[SPOTIFY-DOWNLOADER.COM] Ordinaryish People (feat. Blue Man Group)/vocals.wav written succesfully\n"
          ]
        },
        {
          "name": "stdout",
          "output_type": "stream",
          "text": [
            "INFO:spleeter:File output/[SPOTIFY-DOWNLOADER.COM] Ordinaryish People (feat. Blue Man Group)/accompaniment.wav written succesfully\n"
          ]
        },
        {
          "name": "stderr",
          "output_type": "stream",
          "text": [
            "INFO:spleeter:File output/[SPOTIFY-DOWNLOADER.COM] Ordinaryish People (feat. Blue Man Group)/accompaniment.wav written succesfully\n"
          ]
        },
        {
          "name": "stdout",
          "output_type": "stream",
          "text": [
            "INFO:spleeter:File output/[SPOTIFY-DOWNLOADER.COM] Pitchfork Kids/vocals.wav written succesfully\n"
          ]
        },
        {
          "name": "stderr",
          "output_type": "stream",
          "text": [
            "INFO:spleeter:File output/[SPOTIFY-DOWNLOADER.COM] Pitchfork Kids/vocals.wav written succesfully\n"
          ]
        },
        {
          "name": "stdout",
          "output_type": "stream",
          "text": [
            "INFO:spleeter:File output/[SPOTIFY-DOWNLOADER.COM] Pitchfork Kids/accompaniment.wav written succesfully\n"
          ]
        },
        {
          "name": "stderr",
          "output_type": "stream",
          "text": [
            "INFO:spleeter:File output/[SPOTIFY-DOWNLOADER.COM] Pitchfork Kids/accompaniment.wav written succesfully\n"
          ]
        },
        {
          "name": "stdout",
          "output_type": "stream",
          "text": [
            "INFO:spleeter:File output/SpotiDown.App - Thirsty - AJR/vocals.wav written succesfully\n"
          ]
        },
        {
          "name": "stderr",
          "output_type": "stream",
          "text": [
            "INFO:spleeter:File output/SpotiDown.App - Thirsty - AJR/vocals.wav written succesfully\n"
          ]
        },
        {
          "name": "stdout",
          "output_type": "stream",
          "text": [
            "INFO:spleeter:File output/SpotiDown.App - Thirsty - AJR/accompaniment.wav written succesfully\n"
          ]
        },
        {
          "name": "stderr",
          "output_type": "stream",
          "text": [
            "INFO:spleeter:File output/SpotiDown.App - Thirsty - AJR/accompaniment.wav written succesfully\n"
          ]
        },
        {
          "name": "stdout",
          "output_type": "stream",
          "text": [
            "INFO:spleeter:File output/SpotiDown.App - Bang! - AJR/vocals.wav written succesfully\n"
          ]
        },
        {
          "name": "stderr",
          "output_type": "stream",
          "text": [
            "INFO:spleeter:File output/SpotiDown.App - Bang! - AJR/vocals.wav written succesfully\n"
          ]
        },
        {
          "name": "stdout",
          "output_type": "stream",
          "text": [
            "INFO:spleeter:File output/SpotiDown.App - Bang! - AJR/accompaniment.wav written succesfully\n"
          ]
        },
        {
          "name": "stderr",
          "output_type": "stream",
          "text": [
            "INFO:spleeter:File output/SpotiDown.App - Bang! - AJR/accompaniment.wav written succesfully\n"
          ]
        },
        {
          "name": "stdout",
          "output_type": "stream",
          "text": [
            "INFO:spleeter:File output/SpotiDown.App - Touchy Feely Fool - AJR/vocals.wav written succesfully\n"
          ]
        },
        {
          "name": "stderr",
          "output_type": "stream",
          "text": [
            "INFO:spleeter:File output/SpotiDown.App - Touchy Feely Fool - AJR/vocals.wav written succesfully\n"
          ]
        },
        {
          "name": "stdout",
          "output_type": "stream",
          "text": [
            "INFO:spleeter:File output/SpotiDown.App - Touchy Feely Fool - AJR/accompaniment.wav written succesfully\n"
          ]
        },
        {
          "name": "stderr",
          "output_type": "stream",
          "text": [
            "INFO:spleeter:File output/SpotiDown.App - Touchy Feely Fool - AJR/accompaniment.wav written succesfully\n"
          ]
        },
        {
          "name": "stdout",
          "output_type": "stream",
          "text": [
            "INFO:spleeter:File output/[SPOTIFY-DOWNLOADER.COM] Let the Games Begin/vocals.wav written succesfully\n"
          ]
        },
        {
          "name": "stderr",
          "output_type": "stream",
          "text": [
            "INFO:spleeter:File output/[SPOTIFY-DOWNLOADER.COM] Let the Games Begin/vocals.wav written succesfully\n"
          ]
        },
        {
          "name": "stdout",
          "output_type": "stream",
          "text": [
            "INFO:spleeter:File output/[SPOTIFY-DOWNLOADER.COM] Let the Games Begin/accompaniment.wav written succesfully\n"
          ]
        },
        {
          "name": "stderr",
          "output_type": "stream",
          "text": [
            "INFO:spleeter:File output/[SPOTIFY-DOWNLOADER.COM] Let the Games Begin/accompaniment.wav written succesfully\n"
          ]
        },
        {
          "name": "stdout",
          "output_type": "stream",
          "text": [
            "INFO:spleeter:File output/[SPOTIFY-DOWNLOADER.COM] I Won't/vocals.wav written succesfully\n"
          ]
        },
        {
          "name": "stderr",
          "output_type": "stream",
          "text": [
            "INFO:spleeter:File output/[SPOTIFY-DOWNLOADER.COM] I Won't/vocals.wav written succesfully\n"
          ]
        },
        {
          "name": "stdout",
          "output_type": "stream",
          "text": [
            "INFO:spleeter:File output/[SPOTIFY-DOWNLOADER.COM] I Won't/accompaniment.wav written succesfully\n"
          ]
        },
        {
          "name": "stderr",
          "output_type": "stream",
          "text": [
            "INFO:spleeter:File output/[SPOTIFY-DOWNLOADER.COM] I Won't/accompaniment.wav written succesfully\n"
          ]
        },
        {
          "name": "stdout",
          "output_type": "stream",
          "text": [
            "INFO:spleeter:File output/SpotiDown.App - Joe - AJR/vocals.wav written succesfully\n"
          ]
        },
        {
          "name": "stderr",
          "output_type": "stream",
          "text": [
            "INFO:spleeter:File output/SpotiDown.App - Joe - AJR/vocals.wav written succesfully\n"
          ]
        },
        {
          "name": "stdout",
          "output_type": "stream",
          "text": [
            "INFO:spleeter:File output/SpotiDown.App - Joe - AJR/accompaniment.wav written succesfully\n"
          ]
        },
        {
          "name": "stderr",
          "output_type": "stream",
          "text": [
            "INFO:spleeter:File output/SpotiDown.App - Joe - AJR/accompaniment.wav written succesfully\n"
          ]
        },
        {
          "name": "stdout",
          "output_type": "stream",
          "text": [
            "INFO:spleeter:File output/SpotiDown.App - The Lotto - Ingrid Michaelson/vocals.wav written succesfully\n"
          ]
        },
        {
          "name": "stderr",
          "output_type": "stream",
          "text": [
            "INFO:spleeter:File output/SpotiDown.App - The Lotto - Ingrid Michaelson/vocals.wav written succesfully\n"
          ]
        },
        {
          "name": "stdout",
          "output_type": "stream",
          "text": [
            "INFO:spleeter:File output/SpotiDown.App - The Lotto - Ingrid Michaelson/accompaniment.wav written succesfully\n"
          ]
        },
        {
          "name": "stderr",
          "output_type": "stream",
          "text": [
            "INFO:spleeter:File output/SpotiDown.App - The Lotto - Ingrid Michaelson/accompaniment.wav written succesfully\n"
          ]
        },
        {
          "name": "stdout",
          "output_type": "stream",
          "text": [
            "INFO:spleeter:File output/[SPOTIFY-DOWNLOADER.COM] The World Is a Marble Heart/vocals.wav written succesfully\n"
          ]
        },
        {
          "name": "stderr",
          "output_type": "stream",
          "text": [
            "INFO:spleeter:File output/[SPOTIFY-DOWNLOADER.COM] The World Is a Marble Heart/vocals.wav written succesfully\n"
          ]
        },
        {
          "name": "stdout",
          "output_type": "stream",
          "text": [
            "INFO:spleeter:File output/[SPOTIFY-DOWNLOADER.COM] The World Is a Marble Heart/accompaniment.wav written succesfully\n"
          ]
        },
        {
          "name": "stderr",
          "output_type": "stream",
          "text": [
            "INFO:spleeter:File output/[SPOTIFY-DOWNLOADER.COM] The World Is a Marble Heart/accompaniment.wav written succesfully\n"
          ]
        },
        {
          "name": "stdout",
          "output_type": "stream",
          "text": [
            "INFO:spleeter:File output/[SPOTIFY-DOWNLOADER.COM] 3 O'Clock Things/vocals.wav written succesfully\n"
          ]
        },
        {
          "name": "stderr",
          "output_type": "stream",
          "text": [
            "INFO:spleeter:File output/[SPOTIFY-DOWNLOADER.COM] 3 O'Clock Things/vocals.wav written succesfully\n"
          ]
        },
        {
          "name": "stdout",
          "output_type": "stream",
          "text": [
            "INFO:spleeter:File output/[SPOTIFY-DOWNLOADER.COM] 3 O'Clock Things/accompaniment.wav written succesfully\n"
          ]
        },
        {
          "name": "stderr",
          "output_type": "stream",
          "text": [
            "INFO:spleeter:File output/[SPOTIFY-DOWNLOADER.COM] 3 O'Clock Things/accompaniment.wav written succesfully\n"
          ]
        },
        {
          "name": "stdout",
          "output_type": "stream",
          "text": [
            "INFO:spleeter:File output/[SPOTIFY-DOWNLOADER.COM] Turning Out Pt. ii/vocals.wav written succesfully\n"
          ]
        },
        {
          "name": "stderr",
          "output_type": "stream",
          "text": [
            "INFO:spleeter:File output/[SPOTIFY-DOWNLOADER.COM] Turning Out Pt. ii/vocals.wav written succesfully\n"
          ]
        },
        {
          "name": "stdout",
          "output_type": "stream",
          "text": [
            "INFO:spleeter:File output/[SPOTIFY-DOWNLOADER.COM] Turning Out Pt. ii/accompaniment.wav written succesfully\n"
          ]
        },
        {
          "name": "stderr",
          "output_type": "stream",
          "text": [
            "INFO:spleeter:File output/[SPOTIFY-DOWNLOADER.COM] Turning Out Pt. ii/accompaniment.wav written succesfully\n"
          ]
        },
        {
          "name": "stdout",
          "output_type": "stream",
          "text": [
            "INFO:spleeter:File output/SpotiDown.App - No Grass Today - AJR/vocals.wav written succesfully\n"
          ]
        },
        {
          "name": "stderr",
          "output_type": "stream",
          "text": [
            "INFO:spleeter:File output/SpotiDown.App - No Grass Today - AJR/vocals.wav written succesfully\n"
          ]
        },
        {
          "name": "stdout",
          "output_type": "stream",
          "text": [
            "INFO:spleeter:File output/SpotiDown.App - No Grass Today - AJR/accompaniment.wav written succesfully\n"
          ]
        },
        {
          "name": "stderr",
          "output_type": "stream",
          "text": [
            "INFO:spleeter:File output/SpotiDown.App - No Grass Today - AJR/accompaniment.wav written succesfully\n"
          ]
        },
        {
          "name": "stdout",
          "output_type": "stream",
          "text": [
            "Error processing data/[SPOTIFY-DOWNLOADER.COM] Dear Winter 2.0.mp3: Failed to open the input \"data/[SPOTIFY-DOWNLOADER.COM] Dear Winter 2.0.mp3\" (Invalid argument).\n",
            "Exception raised from get_input_format_context at /__w/audio/audio/pytorch/audio/src/libtorio/ffmpeg/stream_reader/stream_reader.cpp:42 (most recent call first):\n",
            "frame #0: c10::Error::Error(c10::SourceLocation, std::string) + 0x96 (0x7f02c00ef446 in /usr/local/lib/python3.10/dist-packages/torch/lib/libc10.so)\n",
            "frame #1: c10::detail::torchCheckFail(char const*, char const*, unsigned int, std::string const&) + 0x64 (0x7f02c00996e4 in /usr/local/lib/python3.10/dist-packages/torch/lib/libc10.so)\n",
            "frame #2: <unknown function> + 0x42134 (0x7f02b1ec6134 in /usr/local/lib/python3.10/dist-packages/torio/lib/libtorio_ffmpeg4.so)\n",
            "frame #3: torio::io::StreamingMediaDecoder::StreamingMediaDecoder(std::string const&, std::optional<std::string> const&, std::optional<std::map<std::string, std::string, std::less<std::string>, std::allocator<std::pair<std::string const, std::string> > > > const&) + 0x14 (0x7f02b1ec8b34 in /usr/local/lib/python3.10/dist-packages/torio/lib/libtorio_ffmpeg4.so)\n",
            "frame #4: <unknown function> + 0x3a19e (0x7f01efb4b19e in /usr/local/lib/python3.10/dist-packages/torio/lib/_torio_ffmpeg4.so)\n",
            "frame #5: <unknown function> + 0x31d47 (0x7f01efb42d47 in /usr/local/lib/python3.10/dist-packages/torio/lib/_torio_ffmpeg4.so)\n",
            "frame #6: <unknown function> + 0x15cb2e (0x5891ff4d7b2e in /usr/bin/python3)\n",
            "frame #7: _PyObject_MakeTpCall + 0x25b (0x5891ff4ce2db in /usr/bin/python3)\n",
            "frame #8: <unknown function> + 0x16b6b0 (0x5891ff4e66b0 in /usr/bin/python3)\n",
            "frame #9: <unknown function> + 0x167ad7 (0x5891ff4e2ad7 in /usr/bin/python3)\n",
            "frame #10: <unknown function> + 0x15368b (0x5891ff4ce68b in /usr/bin/python3)\n",
            "frame #11: <unknown function> + 0xf72b (0x7f02c2e4e72b in /usr/local/lib/python3.10/dist-packages/torchaudio/lib/_torchaudio.so)\n",
            "frame #12: _PyObject_MakeTpCall + 0x25b (0x5891ff4ce2db in /usr/bin/python3)\n",
            "frame #13: _PyEval_EvalFrameDefault + 0x6b17 (0x5891ff4c6d27 in /usr/bin/python3)\n",
            "frame #14: _PyObject_FastCallDictTstate + 0xc4 (0x5891ff4cd474 in /usr/bin/python3)\n",
            "frame #15: <unknown function> + 0x1674b4 (0x5891ff4e24b4 in /usr/bin/python3)\n",
            "frame #16: _PyObject_MakeTpCall + 0x1fc (0x5891ff4ce27c in /usr/bin/python3)\n",
            "frame #17: _PyEval_EvalFrameDefault + 0x6b17 (0x5891ff4c6d27 in /usr/bin/python3)\n",
            "frame #18: _PyFunction_Vectorcall + 0x7c (0x5891ff4d842c in /usr/bin/python3)\n",
            "frame #19: _PyEval_EvalFrameDefault + 0x6bc (0x5891ff4c08cc in /usr/bin/python3)\n",
            "frame #20: _PyFunction_Vectorcall + 0x7c (0x5891ff4d842c in /usr/bin/python3)\n",
            "frame #21: _PyEval_EvalFrameDefault + 0x613a (0x5891ff4c634a in /usr/bin/python3)\n",
            "frame #22: _PyFunction_Vectorcall + 0x7c (0x5891ff4d842c in /usr/bin/python3)\n",
            "frame #23: _PyEval_EvalFrameDefault + 0x613a (0x5891ff4c634a in /usr/bin/python3)\n",
            "frame #24: <unknown function> + 0x142016 (0x5891ff4bd016 in /usr/bin/python3)\n",
            "frame #25: PyEval_EvalCode + 0x86 (0x5891ff5b28b6 in /usr/bin/python3)\n",
            "frame #26: <unknown function> + 0x23d5fd (0x5891ff5b85fd in /usr/bin/python3)\n",
            "frame #27: <unknown function> + 0x15d689 (0x5891ff4d8689 in /usr/bin/python3)\n",
            "frame #28: _PyEval_EvalFrameDefault + 0x6bc (0x5891ff4c08cc in /usr/bin/python3)\n",
            "frame #29: <unknown function> + 0x17a8b0 (0x5891ff4f58b0 in /usr/bin/python3)\n",
            "frame #30: _PyEval_EvalFrameDefault + 0x26f4 (0x5891ff4c2904 in /usr/bin/python3)\n",
            "frame #31: <unknown function> + 0x17a8b0 (0x5891ff4f58b0 in /usr/bin/python3)\n",
            "frame #32: _PyEval_EvalFrameDefault + 0x26f4 (0x5891ff4c2904 in /usr/bin/python3)\n",
            "frame #33: <unknown function> + 0x17a8b0 (0x5891ff4f58b0 in /usr/bin/python3)\n",
            "frame #34: <unknown function> + 0x257fef (0x5891ff5d2fef in /usr/bin/python3)\n",
            "frame #35: <unknown function> + 0x168d1a (0x5891ff4e3d1a in /usr/bin/python3)\n",
            "frame #36: _PyEval_EvalFrameDefault + 0x8ab (0x5891ff4c0abb in /usr/bin/python3)\n",
            "frame #37: _PyFunction_Vectorcall + 0x7c (0x5891ff4d842c in /usr/bin/python3)\n",
            "frame #38: _PyEval_EvalFrameDefault + 0x6bc (0x5891ff4c08cc in /usr/bin/python3)\n",
            "frame #39: _PyFunction_Vectorcall + 0x7c (0x5891ff4d842c in /usr/bin/python3)\n",
            "frame #40: _PyEval_EvalFrameDefault + 0x8ab (0x5891ff4c0abb in /usr/bin/python3)\n",
            "frame #41: <unknown function> + 0x16b281 (0x5891ff4e6281 in /usr/bin/python3)\n",
            "frame #42: PyObject_Call + 0x122 (0x5891ff4e6f22 in /usr/bin/python3)\n",
            "frame #43: _PyEval_EvalFrameDefault + 0x285e (0x5891ff4c2a6e in /usr/bin/python3)\n",
            "frame #44: <unknown function> + 0x16b281 (0x5891ff4e6281 in /usr/bin/python3)\n",
            "frame #45: _PyEval_EvalFrameDefault + 0x1983 (0x5891ff4c1b93 in /usr/bin/python3)\n",
            "frame #46: <unknown function> + 0x203c75 (0x5891ff57ec75 in /usr/bin/python3)\n",
            "frame #47: <unknown function> + 0x15d689 (0x5891ff4d8689 in /usr/bin/python3)\n",
            "frame #48: <unknown function> + 0x239505 (0x5891ff5b4505 in /usr/bin/python3)\n",
            "frame #49: <unknown function> + 0x2b5e82 (0x5891ff630e82 in /usr/bin/python3)\n",
            "frame #50: <unknown function> + 0x15020b (0x5891ff4cb20b in /usr/bin/python3)\n",
            "frame #51: _PyEval_EvalFrameDefault + 0x6bc (0x5891ff4c08cc in /usr/bin/python3)\n",
            "frame #52: _PyFunction_Vectorcall + 0x7c (0x5891ff4d842c in /usr/bin/python3)\n",
            "frame #53: _PyEval_EvalFrameDefault + 0x8ab (0x5891ff4c0abb in /usr/bin/python3)\n",
            "frame #54: <unknown function> + 0x203c75 (0x5891ff57ec75 in /usr/bin/python3)\n",
            "frame #55: <unknown function> + 0x15d689 (0x5891ff4d8689 in /usr/bin/python3)\n",
            "frame #56: <unknown function> + 0x239505 (0x5891ff5b4505 in /usr/bin/python3)\n",
            "frame #57: <unknown function> + 0x2b5e82 (0x5891ff630e82 in /usr/bin/python3)\n",
            "frame #58: <unknown function> + 0x15020b (0x5891ff4cb20b in /usr/bin/python3)\n",
            "frame #59: _PyEval_EvalFrameDefault + 0x6bc (0x5891ff4c08cc in /usr/bin/python3)\n",
            "frame #60: <unknown function> + 0x16b281 (0x5891ff4e6281 in /usr/bin/python3)\n",
            "frame #61: _PyEval_EvalFrameDefault + 0x6bc (0x5891ff4c08cc in /usr/bin/python3)\n",
            "frame #62: <unknown function> + 0x203c75 (0x5891ff57ec75 in /usr/bin/python3)\n",
            "\n",
            "INFO:spleeter:File output/SpotiDown.App - Come Hang Out - AJR/vocals.wav written succesfully\n"
          ]
        },
        {
          "name": "stderr",
          "output_type": "stream",
          "text": [
            "INFO:spleeter:File output/SpotiDown.App - Come Hang Out - AJR/vocals.wav written succesfully\n"
          ]
        },
        {
          "name": "stdout",
          "output_type": "stream",
          "text": [
            "INFO:spleeter:File output/SpotiDown.App - Come Hang Out - AJR/accompaniment.wav written succesfully\n"
          ]
        },
        {
          "name": "stderr",
          "output_type": "stream",
          "text": [
            "INFO:spleeter:File output/SpotiDown.App - Come Hang Out - AJR/accompaniment.wav written succesfully\n"
          ]
        },
        {
          "name": "stdout",
          "output_type": "stream",
          "text": [
            "INFO:spleeter:File output/[SPOTIFY-DOWNLOADER.COM] My Calling/vocals.wav written succesfully\n"
          ]
        },
        {
          "name": "stderr",
          "output_type": "stream",
          "text": [
            "INFO:spleeter:File output/[SPOTIFY-DOWNLOADER.COM] My Calling/vocals.wav written succesfully\n"
          ]
        },
        {
          "name": "stdout",
          "output_type": "stream",
          "text": [
            "INFO:spleeter:File output/[SPOTIFY-DOWNLOADER.COM] My Calling/accompaniment.wav written succesfully\n"
          ]
        },
        {
          "name": "stderr",
          "output_type": "stream",
          "text": [
            "INFO:spleeter:File output/[SPOTIFY-DOWNLOADER.COM] My Calling/accompaniment.wav written succesfully\n"
          ]
        },
        {
          "name": "stdout",
          "output_type": "stream",
          "text": [
            "INFO:spleeter:File output/[SPOTIFY-DOWNLOADER.COM] Bummerland/vocals.wav written succesfully\n"
          ]
        },
        {
          "name": "stderr",
          "output_type": "stream",
          "text": [
            "INFO:spleeter:File output/[SPOTIFY-DOWNLOADER.COM] Bummerland/vocals.wav written succesfully\n"
          ]
        },
        {
          "name": "stdout",
          "output_type": "stream",
          "text": [
            "INFO:spleeter:File output/[SPOTIFY-DOWNLOADER.COM] Bummerland/accompaniment.wav written succesfully\n"
          ]
        },
        {
          "name": "stderr",
          "output_type": "stream",
          "text": [
            "INFO:spleeter:File output/[SPOTIFY-DOWNLOADER.COM] Bummerland/accompaniment.wav written succesfully\n"
          ]
        },
        {
          "name": "stdout",
          "output_type": "stream",
          "text": [
            "INFO:spleeter:File output/[SPOTIFY-DOWNLOADER.COM] The Good Part/vocals.wav written succesfully\n"
          ]
        },
        {
          "name": "stderr",
          "output_type": "stream",
          "text": [
            "INFO:spleeter:File output/[SPOTIFY-DOWNLOADER.COM] The Good Part/vocals.wav written succesfully\n"
          ]
        },
        {
          "name": "stdout",
          "output_type": "stream",
          "text": [
            "INFO:spleeter:File output/[SPOTIFY-DOWNLOADER.COM] The Good Part/accompaniment.wav written succesfully\n"
          ]
        },
        {
          "name": "stderr",
          "output_type": "stream",
          "text": [
            "INFO:spleeter:File output/[SPOTIFY-DOWNLOADER.COM] The Good Part/accompaniment.wav written succesfully\n"
          ]
        },
        {
          "name": "stdout",
          "output_type": "stream",
          "text": [
            "INFO:spleeter:File output/SpotiDown.App - Wow, I'm Not Crazy - AJR/vocals.wav written succesfully\n"
          ]
        },
        {
          "name": "stderr",
          "output_type": "stream",
          "text": [
            "INFO:spleeter:File output/SpotiDown.App - Wow, I'm Not Crazy - AJR/vocals.wav written succesfully\n"
          ]
        },
        {
          "name": "stdout",
          "output_type": "stream",
          "text": [
            "INFO:spleeter:File output/SpotiDown.App - Wow, I'm Not Crazy - AJR/accompaniment.wav written succesfully\n"
          ]
        },
        {
          "name": "stderr",
          "output_type": "stream",
          "text": [
            "INFO:spleeter:File output/SpotiDown.App - Wow, I'm Not Crazy - AJR/accompaniment.wav written succesfully\n"
          ]
        },
        {
          "name": "stdout",
          "output_type": "stream",
          "text": [
            "INFO:spleeter:File output/[SPOTIFY-DOWNLOADER.COM] Inertia - Acoustic/vocals.wav written succesfully\n"
          ]
        },
        {
          "name": "stderr",
          "output_type": "stream",
          "text": [
            "INFO:spleeter:File output/[SPOTIFY-DOWNLOADER.COM] Inertia - Acoustic/vocals.wav written succesfully\n"
          ]
        },
        {
          "name": "stdout",
          "output_type": "stream",
          "text": [
            "INFO:spleeter:File output/[SPOTIFY-DOWNLOADER.COM] Inertia - Acoustic/accompaniment.wav written succesfully\n"
          ]
        },
        {
          "name": "stderr",
          "output_type": "stream",
          "text": [
            "INFO:spleeter:File output/[SPOTIFY-DOWNLOADER.COM] Inertia - Acoustic/accompaniment.wav written succesfully\n"
          ]
        },
        {
          "name": "stdout",
          "output_type": "stream",
          "text": [
            "INFO:spleeter:File output/[SPOTIFY-DOWNLOADER.COM] Sober Up/vocals.wav written succesfully\n"
          ]
        },
        {
          "name": "stderr",
          "output_type": "stream",
          "text": [
            "INFO:spleeter:File output/[SPOTIFY-DOWNLOADER.COM] Sober Up/vocals.wav written succesfully\n"
          ]
        },
        {
          "name": "stdout",
          "output_type": "stream",
          "text": [
            "INFO:spleeter:File output/[SPOTIFY-DOWNLOADER.COM] Sober Up/accompaniment.wav written succesfully\n"
          ]
        },
        {
          "name": "stderr",
          "output_type": "stream",
          "text": [
            "INFO:spleeter:File output/[SPOTIFY-DOWNLOADER.COM] Sober Up/accompaniment.wav written succesfully\n"
          ]
        },
        {
          "name": "stdout",
          "output_type": "stream",
          "text": [
            "Error processing data/[SPOTIFY-DOWNLOADER.COM] Woody Allen.mp3: Failed to open the input \"data/[SPOTIFY-DOWNLOADER.COM] Woody Allen.mp3\" (Invalid argument).\n",
            "Exception raised from get_input_format_context at /__w/audio/audio/pytorch/audio/src/libtorio/ffmpeg/stream_reader/stream_reader.cpp:42 (most recent call first):\n",
            "frame #0: c10::Error::Error(c10::SourceLocation, std::string) + 0x96 (0x7f02c00ef446 in /usr/local/lib/python3.10/dist-packages/torch/lib/libc10.so)\n",
            "frame #1: c10::detail::torchCheckFail(char const*, char const*, unsigned int, std::string const&) + 0x64 (0x7f02c00996e4 in /usr/local/lib/python3.10/dist-packages/torch/lib/libc10.so)\n",
            "frame #2: <unknown function> + 0x42134 (0x7f02b1ec6134 in /usr/local/lib/python3.10/dist-packages/torio/lib/libtorio_ffmpeg4.so)\n",
            "frame #3: torio::io::StreamingMediaDecoder::StreamingMediaDecoder(std::string const&, std::optional<std::string> const&, std::optional<std::map<std::string, std::string, std::less<std::string>, std::allocator<std::pair<std::string const, std::string> > > > const&) + 0x14 (0x7f02b1ec8b34 in /usr/local/lib/python3.10/dist-packages/torio/lib/libtorio_ffmpeg4.so)\n",
            "frame #4: <unknown function> + 0x3a19e (0x7f01efb4b19e in /usr/local/lib/python3.10/dist-packages/torio/lib/_torio_ffmpeg4.so)\n",
            "frame #5: <unknown function> + 0x31d47 (0x7f01efb42d47 in /usr/local/lib/python3.10/dist-packages/torio/lib/_torio_ffmpeg4.so)\n",
            "frame #6: <unknown function> + 0x15cb2e (0x5891ff4d7b2e in /usr/bin/python3)\n",
            "frame #7: _PyObject_MakeTpCall + 0x25b (0x5891ff4ce2db in /usr/bin/python3)\n",
            "frame #8: <unknown function> + 0x16b6b0 (0x5891ff4e66b0 in /usr/bin/python3)\n",
            "frame #9: <unknown function> + 0x167ad7 (0x5891ff4e2ad7 in /usr/bin/python3)\n",
            "frame #10: <unknown function> + 0x15368b (0x5891ff4ce68b in /usr/bin/python3)\n",
            "frame #11: <unknown function> + 0xf72b (0x7f02c2e4e72b in /usr/local/lib/python3.10/dist-packages/torchaudio/lib/_torchaudio.so)\n",
            "frame #12: _PyObject_MakeTpCall + 0x25b (0x5891ff4ce2db in /usr/bin/python3)\n",
            "frame #13: _PyEval_EvalFrameDefault + 0x6b17 (0x5891ff4c6d27 in /usr/bin/python3)\n",
            "frame #14: _PyObject_FastCallDictTstate + 0xc4 (0x5891ff4cd474 in /usr/bin/python3)\n",
            "frame #15: <unknown function> + 0x1674b4 (0x5891ff4e24b4 in /usr/bin/python3)\n",
            "frame #16: _PyObject_MakeTpCall + 0x1fc (0x5891ff4ce27c in /usr/bin/python3)\n",
            "frame #17: _PyEval_EvalFrameDefault + 0x6b17 (0x5891ff4c6d27 in /usr/bin/python3)\n",
            "frame #18: _PyFunction_Vectorcall + 0x7c (0x5891ff4d842c in /usr/bin/python3)\n",
            "frame #19: _PyEval_EvalFrameDefault + 0x6bc (0x5891ff4c08cc in /usr/bin/python3)\n",
            "frame #20: _PyFunction_Vectorcall + 0x7c (0x5891ff4d842c in /usr/bin/python3)\n",
            "frame #21: _PyEval_EvalFrameDefault + 0x613a (0x5891ff4c634a in /usr/bin/python3)\n",
            "frame #22: _PyFunction_Vectorcall + 0x7c (0x5891ff4d842c in /usr/bin/python3)\n",
            "frame #23: _PyEval_EvalFrameDefault + 0x613a (0x5891ff4c634a in /usr/bin/python3)\n",
            "frame #24: <unknown function> + 0x142016 (0x5891ff4bd016 in /usr/bin/python3)\n",
            "frame #25: PyEval_EvalCode + 0x86 (0x5891ff5b28b6 in /usr/bin/python3)\n",
            "frame #26: <unknown function> + 0x23d5fd (0x5891ff5b85fd in /usr/bin/python3)\n",
            "frame #27: <unknown function> + 0x15d689 (0x5891ff4d8689 in /usr/bin/python3)\n",
            "frame #28: _PyEval_EvalFrameDefault + 0x6bc (0x5891ff4c08cc in /usr/bin/python3)\n",
            "frame #29: <unknown function> + 0x17a8b0 (0x5891ff4f58b0 in /usr/bin/python3)\n",
            "frame #30: _PyEval_EvalFrameDefault + 0x26f4 (0x5891ff4c2904 in /usr/bin/python3)\n",
            "frame #31: <unknown function> + 0x17a8b0 (0x5891ff4f58b0 in /usr/bin/python3)\n",
            "frame #32: _PyEval_EvalFrameDefault + 0x26f4 (0x5891ff4c2904 in /usr/bin/python3)\n",
            "frame #33: <unknown function> + 0x17a8b0 (0x5891ff4f58b0 in /usr/bin/python3)\n",
            "frame #34: <unknown function> + 0x257fef (0x5891ff5d2fef in /usr/bin/python3)\n",
            "frame #35: <unknown function> + 0x168d1a (0x5891ff4e3d1a in /usr/bin/python3)\n",
            "frame #36: _PyEval_EvalFrameDefault + 0x8ab (0x5891ff4c0abb in /usr/bin/python3)\n",
            "frame #37: _PyFunction_Vectorcall + 0x7c (0x5891ff4d842c in /usr/bin/python3)\n",
            "frame #38: _PyEval_EvalFrameDefault + 0x6bc (0x5891ff4c08cc in /usr/bin/python3)\n",
            "frame #39: _PyFunction_Vectorcall + 0x7c (0x5891ff4d842c in /usr/bin/python3)\n",
            "frame #40: _PyEval_EvalFrameDefault + 0x8ab (0x5891ff4c0abb in /usr/bin/python3)\n",
            "frame #41: <unknown function> + 0x16b281 (0x5891ff4e6281 in /usr/bin/python3)\n",
            "frame #42: PyObject_Call + 0x122 (0x5891ff4e6f22 in /usr/bin/python3)\n",
            "frame #43: _PyEval_EvalFrameDefault + 0x285e (0x5891ff4c2a6e in /usr/bin/python3)\n",
            "frame #44: <unknown function> + 0x16b281 (0x5891ff4e6281 in /usr/bin/python3)\n",
            "frame #45: _PyEval_EvalFrameDefault + 0x1983 (0x5891ff4c1b93 in /usr/bin/python3)\n",
            "frame #46: <unknown function> + 0x203c75 (0x5891ff57ec75 in /usr/bin/python3)\n",
            "frame #47: <unknown function> + 0x15d689 (0x5891ff4d8689 in /usr/bin/python3)\n",
            "frame #48: <unknown function> + 0x239505 (0x5891ff5b4505 in /usr/bin/python3)\n",
            "frame #49: <unknown function> + 0x2b5e82 (0x5891ff630e82 in /usr/bin/python3)\n",
            "frame #50: <unknown function> + 0x15020b (0x5891ff4cb20b in /usr/bin/python3)\n",
            "frame #51: _PyEval_EvalFrameDefault + 0x6bc (0x5891ff4c08cc in /usr/bin/python3)\n",
            "frame #52: _PyFunction_Vectorcall + 0x7c (0x5891ff4d842c in /usr/bin/python3)\n",
            "frame #53: _PyEval_EvalFrameDefault + 0x8ab (0x5891ff4c0abb in /usr/bin/python3)\n",
            "frame #54: <unknown function> + 0x203c75 (0x5891ff57ec75 in /usr/bin/python3)\n",
            "frame #55: <unknown function> + 0x15d689 (0x5891ff4d8689 in /usr/bin/python3)\n",
            "frame #56: <unknown function> + 0x239505 (0x5891ff5b4505 in /usr/bin/python3)\n",
            "frame #57: <unknown function> + 0x2b5e82 (0x5891ff630e82 in /usr/bin/python3)\n",
            "frame #58: <unknown function> + 0x15020b (0x5891ff4cb20b in /usr/bin/python3)\n",
            "frame #59: _PyEval_EvalFrameDefault + 0x6bc (0x5891ff4c08cc in /usr/bin/python3)\n",
            "frame #60: <unknown function> + 0x16b281 (0x5891ff4e6281 in /usr/bin/python3)\n",
            "frame #61: _PyEval_EvalFrameDefault + 0x6bc (0x5891ff4c08cc in /usr/bin/python3)\n",
            "frame #62: <unknown function> + 0x203c75 (0x5891ff57ec75 in /usr/bin/python3)\n",
            "\n",
            "INFO:spleeter:File output/[SPOTIFY-DOWNLOADER.COM] Turning Out/vocals.wav written succesfully\n"
          ]
        },
        {
          "name": "stderr",
          "output_type": "stream",
          "text": [
            "INFO:spleeter:File output/[SPOTIFY-DOWNLOADER.COM] Turning Out/vocals.wav written succesfully\n"
          ]
        },
        {
          "name": "stdout",
          "output_type": "stream",
          "text": [
            "INFO:spleeter:File output/[SPOTIFY-DOWNLOADER.COM] Turning Out/accompaniment.wav written succesfully\n"
          ]
        },
        {
          "name": "stderr",
          "output_type": "stream",
          "text": [
            "INFO:spleeter:File output/[SPOTIFY-DOWNLOADER.COM] Turning Out/accompaniment.wav written succesfully\n"
          ]
        },
        {
          "name": "stdout",
          "output_type": "stream",
          "text": [
            "INFO:spleeter:File output/SpotiDown.App - Finale (Can't Wait To See What You Do Next) - AJR/vocals.wav written succesfully\n"
          ]
        },
        {
          "name": "stderr",
          "output_type": "stream",
          "text": [
            "INFO:spleeter:File output/SpotiDown.App - Finale (Can't Wait To See What You Do Next) - AJR/vocals.wav written succesfully\n"
          ]
        },
        {
          "name": "stdout",
          "output_type": "stream",
          "text": [
            "INFO:spleeter:File output/SpotiDown.App - Finale (Can't Wait To See What You Do Next) - AJR/accompaniment.wav written succesfully\n"
          ]
        },
        {
          "name": "stderr",
          "output_type": "stream",
          "text": [
            "INFO:spleeter:File output/SpotiDown.App - Finale (Can't Wait To See What You Do Next) - AJR/accompaniment.wav written succesfully\n"
          ]
        },
        {
          "name": "stdout",
          "output_type": "stream",
          "text": [
            "INFO:spleeter:File output/[SPOTIFY-DOWNLOADER.COM] Turning Out Pt. iii/vocals.wav written succesfully\n"
          ]
        },
        {
          "name": "stderr",
          "output_type": "stream",
          "text": [
            "INFO:spleeter:File output/[SPOTIFY-DOWNLOADER.COM] Turning Out Pt. iii/vocals.wav written succesfully\n"
          ]
        },
        {
          "name": "stdout",
          "output_type": "stream",
          "text": [
            "INFO:spleeter:File output/[SPOTIFY-DOWNLOADER.COM] Turning Out Pt. iii/accompaniment.wav written succesfully\n"
          ]
        },
        {
          "name": "stderr",
          "output_type": "stream",
          "text": [
            "INFO:spleeter:File output/[SPOTIFY-DOWNLOADER.COM] Turning Out Pt. iii/accompaniment.wav written succesfully\n"
          ]
        },
        {
          "name": "stdout",
          "output_type": "stream",
          "text": [
            "INFO:spleeter:File output/SpotiDown.App - The Green and the Town - AJR/vocals.wav written succesfully\n"
          ]
        },
        {
          "name": "stderr",
          "output_type": "stream",
          "text": [
            "INFO:spleeter:File output/SpotiDown.App - The Green and the Town - AJR/vocals.wav written succesfully\n"
          ]
        },
        {
          "name": "stdout",
          "output_type": "stream",
          "text": [
            "INFO:spleeter:File output/SpotiDown.App - The Green and the Town - AJR/accompaniment.wav written succesfully\n"
          ]
        },
        {
          "name": "stderr",
          "output_type": "stream",
          "text": [
            "INFO:spleeter:File output/SpotiDown.App - The Green and the Town - AJR/accompaniment.wav written succesfully\n"
          ]
        },
        {
          "name": "stdout",
          "output_type": "stream",
          "text": [
            "INFO:spleeter:File output/[SPOTIFY-DOWNLOADER.COM] Maybe Man/vocals.wav written succesfully\n"
          ]
        },
        {
          "name": "stderr",
          "output_type": "stream",
          "text": [
            "INFO:spleeter:File output/[SPOTIFY-DOWNLOADER.COM] Maybe Man/vocals.wav written succesfully\n"
          ]
        },
        {
          "name": "stdout",
          "output_type": "stream",
          "text": [
            "INFO:spleeter:File output/[SPOTIFY-DOWNLOADER.COM] Maybe Man/accompaniment.wav written succesfully\n"
          ]
        },
        {
          "name": "stderr",
          "output_type": "stream",
          "text": [
            "INFO:spleeter:File output/[SPOTIFY-DOWNLOADER.COM] Maybe Man/accompaniment.wav written succesfully\n"
          ]
        },
        {
          "name": "stdout",
          "output_type": "stream",
          "text": [
            "INFO:spleeter:File output/[SPOTIFY-DOWNLOADER.COM] Karma/vocals.wav written succesfully\n"
          ]
        },
        {
          "name": "stderr",
          "output_type": "stream",
          "text": [
            "INFO:spleeter:File output/[SPOTIFY-DOWNLOADER.COM] Karma/vocals.wav written succesfully\n"
          ]
        },
        {
          "name": "stdout",
          "output_type": "stream",
          "text": [
            "INFO:spleeter:File output/[SPOTIFY-DOWNLOADER.COM] Karma/accompaniment.wav written succesfully\n"
          ]
        },
        {
          "name": "stderr",
          "output_type": "stream",
          "text": [
            "INFO:spleeter:File output/[SPOTIFY-DOWNLOADER.COM] Karma/accompaniment.wav written succesfully\n"
          ]
        },
        {
          "name": "stdout",
          "output_type": "stream",
          "text": [
            "INFO:spleeter:File output/[SPOTIFY-DOWNLOADER.COM] Break My Face/vocals.wav written succesfully\n"
          ]
        },
        {
          "name": "stderr",
          "output_type": "stream",
          "text": [
            "INFO:spleeter:File output/[SPOTIFY-DOWNLOADER.COM] Break My Face/vocals.wav written succesfully\n"
          ]
        },
        {
          "name": "stdout",
          "output_type": "stream",
          "text": [
            "INFO:spleeter:File output/[SPOTIFY-DOWNLOADER.COM] Break My Face/accompaniment.wav written succesfully\n"
          ]
        },
        {
          "name": "stderr",
          "output_type": "stream",
          "text": [
            "INFO:spleeter:File output/[SPOTIFY-DOWNLOADER.COM] Break My Face/accompaniment.wav written succesfully\n"
          ]
        },
        {
          "name": "stdout",
          "output_type": "stream",
          "text": [
            "INFO:spleeter:File output/SpotiDown.App - Humpty Dumpty - AJR/vocals.wav written succesfully\n"
          ]
        },
        {
          "name": "stderr",
          "output_type": "stream",
          "text": [
            "INFO:spleeter:File output/SpotiDown.App - Humpty Dumpty - AJR/vocals.wav written succesfully\n"
          ]
        },
        {
          "name": "stdout",
          "output_type": "stream",
          "text": [
            "INFO:spleeter:File output/SpotiDown.App - Humpty Dumpty - AJR/accompaniment.wav written succesfully\n"
          ]
        },
        {
          "name": "stderr",
          "output_type": "stream",
          "text": [
            "INFO:spleeter:File output/SpotiDown.App - Humpty Dumpty - AJR/accompaniment.wav written succesfully\n"
          ]
        },
        {
          "name": "stdout",
          "output_type": "stream",
          "text": [
            "INFO:spleeter:File output/[SPOTIFY-DOWNLOADER.COM] Drama - Recorded at Spotify Studios NYC/vocals.wav written succesfully\n"
          ]
        },
        {
          "name": "stderr",
          "output_type": "stream",
          "text": [
            "INFO:spleeter:File output/[SPOTIFY-DOWNLOADER.COM] Drama - Recorded at Spotify Studios NYC/vocals.wav written succesfully\n"
          ]
        },
        {
          "name": "stdout",
          "output_type": "stream",
          "text": [
            "INFO:spleeter:File output/[SPOTIFY-DOWNLOADER.COM] Drama - Recorded at Spotify Studios NYC/accompaniment.wav written succesfully\n"
          ]
        },
        {
          "name": "stderr",
          "output_type": "stream",
          "text": [
            "INFO:spleeter:File output/[SPOTIFY-DOWNLOADER.COM] Drama - Recorded at Spotify Studios NYC/accompaniment.wav written succesfully\n"
          ]
        },
        {
          "name": "stdout",
          "output_type": "stream",
          "text": [
            "INFO:spleeter:File output/[SPOTIFY-DOWNLOADER.COM] Livin' on Love/vocals.wav written succesfully\n"
          ]
        },
        {
          "name": "stderr",
          "output_type": "stream",
          "text": [
            "INFO:spleeter:File output/[SPOTIFY-DOWNLOADER.COM] Livin' on Love/vocals.wav written succesfully\n"
          ]
        },
        {
          "name": "stdout",
          "output_type": "stream",
          "text": [
            "INFO:spleeter:File output/[SPOTIFY-DOWNLOADER.COM] Livin' on Love/accompaniment.wav written succesfully\n"
          ]
        },
        {
          "name": "stderr",
          "output_type": "stream",
          "text": [
            "INFO:spleeter:File output/[SPOTIFY-DOWNLOADER.COM] Livin' on Love/accompaniment.wav written succesfully\n"
          ]
        },
        {
          "name": "stdout",
          "output_type": "stream",
          "text": [
            "Error processing data/[SPOTIFY-DOWNLOADER.COM] No Grass Today.mp3: Failed to open the input \"data/[SPOTIFY-DOWNLOADER.COM] No Grass Today.mp3\" (Invalid argument).\n",
            "Exception raised from get_input_format_context at /__w/audio/audio/pytorch/audio/src/libtorio/ffmpeg/stream_reader/stream_reader.cpp:42 (most recent call first):\n",
            "frame #0: c10::Error::Error(c10::SourceLocation, std::string) + 0x96 (0x7f02c00ef446 in /usr/local/lib/python3.10/dist-packages/torch/lib/libc10.so)\n",
            "frame #1: c10::detail::torchCheckFail(char const*, char const*, unsigned int, std::string const&) + 0x64 (0x7f02c00996e4 in /usr/local/lib/python3.10/dist-packages/torch/lib/libc10.so)\n",
            "frame #2: <unknown function> + 0x42134 (0x7f02b1ec6134 in /usr/local/lib/python3.10/dist-packages/torio/lib/libtorio_ffmpeg4.so)\n",
            "frame #3: torio::io::StreamingMediaDecoder::StreamingMediaDecoder(std::string const&, std::optional<std::string> const&, std::optional<std::map<std::string, std::string, std::less<std::string>, std::allocator<std::pair<std::string const, std::string> > > > const&) + 0x14 (0x7f02b1ec8b34 in /usr/local/lib/python3.10/dist-packages/torio/lib/libtorio_ffmpeg4.so)\n",
            "frame #4: <unknown function> + 0x3a19e (0x7f01efb4b19e in /usr/local/lib/python3.10/dist-packages/torio/lib/_torio_ffmpeg4.so)\n",
            "frame #5: <unknown function> + 0x31d47 (0x7f01efb42d47 in /usr/local/lib/python3.10/dist-packages/torio/lib/_torio_ffmpeg4.so)\n",
            "frame #6: <unknown function> + 0x15cb2e (0x5891ff4d7b2e in /usr/bin/python3)\n",
            "frame #7: _PyObject_MakeTpCall + 0x25b (0x5891ff4ce2db in /usr/bin/python3)\n",
            "frame #8: <unknown function> + 0x16b6b0 (0x5891ff4e66b0 in /usr/bin/python3)\n",
            "frame #9: <unknown function> + 0x167ad7 (0x5891ff4e2ad7 in /usr/bin/python3)\n",
            "frame #10: <unknown function> + 0x15368b (0x5891ff4ce68b in /usr/bin/python3)\n",
            "frame #11: <unknown function> + 0xf72b (0x7f02c2e4e72b in /usr/local/lib/python3.10/dist-packages/torchaudio/lib/_torchaudio.so)\n",
            "frame #12: _PyObject_MakeTpCall + 0x25b (0x5891ff4ce2db in /usr/bin/python3)\n",
            "frame #13: _PyEval_EvalFrameDefault + 0x6b17 (0x5891ff4c6d27 in /usr/bin/python3)\n",
            "frame #14: _PyObject_FastCallDictTstate + 0xc4 (0x5891ff4cd474 in /usr/bin/python3)\n",
            "frame #15: <unknown function> + 0x1674b4 (0x5891ff4e24b4 in /usr/bin/python3)\n",
            "frame #16: _PyObject_MakeTpCall + 0x1fc (0x5891ff4ce27c in /usr/bin/python3)\n",
            "frame #17: _PyEval_EvalFrameDefault + 0x6b17 (0x5891ff4c6d27 in /usr/bin/python3)\n",
            "frame #18: _PyFunction_Vectorcall + 0x7c (0x5891ff4d842c in /usr/bin/python3)\n",
            "frame #19: _PyEval_EvalFrameDefault + 0x6bc (0x5891ff4c08cc in /usr/bin/python3)\n",
            "frame #20: _PyFunction_Vectorcall + 0x7c (0x5891ff4d842c in /usr/bin/python3)\n",
            "frame #21: _PyEval_EvalFrameDefault + 0x613a (0x5891ff4c634a in /usr/bin/python3)\n",
            "frame #22: _PyFunction_Vectorcall + 0x7c (0x5891ff4d842c in /usr/bin/python3)\n",
            "frame #23: _PyEval_EvalFrameDefault + 0x613a (0x5891ff4c634a in /usr/bin/python3)\n",
            "frame #24: <unknown function> + 0x142016 (0x5891ff4bd016 in /usr/bin/python3)\n",
            "frame #25: PyEval_EvalCode + 0x86 (0x5891ff5b28b6 in /usr/bin/python3)\n",
            "frame #26: <unknown function> + 0x23d5fd (0x5891ff5b85fd in /usr/bin/python3)\n",
            "frame #27: <unknown function> + 0x15d689 (0x5891ff4d8689 in /usr/bin/python3)\n",
            "frame #28: _PyEval_EvalFrameDefault + 0x6bc (0x5891ff4c08cc in /usr/bin/python3)\n",
            "frame #29: <unknown function> + 0x17a8b0 (0x5891ff4f58b0 in /usr/bin/python3)\n",
            "frame #30: _PyEval_EvalFrameDefault + 0x26f4 (0x5891ff4c2904 in /usr/bin/python3)\n",
            "frame #31: <unknown function> + 0x17a8b0 (0x5891ff4f58b0 in /usr/bin/python3)\n",
            "frame #32: _PyEval_EvalFrameDefault + 0x26f4 (0x5891ff4c2904 in /usr/bin/python3)\n",
            "frame #33: <unknown function> + 0x17a8b0 (0x5891ff4f58b0 in /usr/bin/python3)\n",
            "frame #34: <unknown function> + 0x257fef (0x5891ff5d2fef in /usr/bin/python3)\n",
            "frame #35: <unknown function> + 0x168d1a (0x5891ff4e3d1a in /usr/bin/python3)\n",
            "frame #36: _PyEval_EvalFrameDefault + 0x8ab (0x5891ff4c0abb in /usr/bin/python3)\n",
            "frame #37: _PyFunction_Vectorcall + 0x7c (0x5891ff4d842c in /usr/bin/python3)\n",
            "frame #38: _PyEval_EvalFrameDefault + 0x6bc (0x5891ff4c08cc in /usr/bin/python3)\n",
            "frame #39: _PyFunction_Vectorcall + 0x7c (0x5891ff4d842c in /usr/bin/python3)\n",
            "frame #40: _PyEval_EvalFrameDefault + 0x8ab (0x5891ff4c0abb in /usr/bin/python3)\n",
            "frame #41: <unknown function> + 0x16b281 (0x5891ff4e6281 in /usr/bin/python3)\n",
            "frame #42: PyObject_Call + 0x122 (0x5891ff4e6f22 in /usr/bin/python3)\n",
            "frame #43: _PyEval_EvalFrameDefault + 0x285e (0x5891ff4c2a6e in /usr/bin/python3)\n",
            "frame #44: <unknown function> + 0x16b281 (0x5891ff4e6281 in /usr/bin/python3)\n",
            "frame #45: _PyEval_EvalFrameDefault + 0x1983 (0x5891ff4c1b93 in /usr/bin/python3)\n",
            "frame #46: <unknown function> + 0x203c75 (0x5891ff57ec75 in /usr/bin/python3)\n",
            "frame #47: <unknown function> + 0x15d689 (0x5891ff4d8689 in /usr/bin/python3)\n",
            "frame #48: <unknown function> + 0x239505 (0x5891ff5b4505 in /usr/bin/python3)\n",
            "frame #49: <unknown function> + 0x2b5e82 (0x5891ff630e82 in /usr/bin/python3)\n",
            "frame #50: <unknown function> + 0x15020b (0x5891ff4cb20b in /usr/bin/python3)\n",
            "frame #51: _PyEval_EvalFrameDefault + 0x6bc (0x5891ff4c08cc in /usr/bin/python3)\n",
            "frame #52: _PyFunction_Vectorcall + 0x7c (0x5891ff4d842c in /usr/bin/python3)\n",
            "frame #53: _PyEval_EvalFrameDefault + 0x8ab (0x5891ff4c0abb in /usr/bin/python3)\n",
            "frame #54: <unknown function> + 0x203c75 (0x5891ff57ec75 in /usr/bin/python3)\n",
            "frame #55: <unknown function> + 0x15d689 (0x5891ff4d8689 in /usr/bin/python3)\n",
            "frame #56: <unknown function> + 0x239505 (0x5891ff5b4505 in /usr/bin/python3)\n",
            "frame #57: <unknown function> + 0x2b5e82 (0x5891ff630e82 in /usr/bin/python3)\n",
            "frame #58: <unknown function> + 0x15020b (0x5891ff4cb20b in /usr/bin/python3)\n",
            "frame #59: _PyEval_EvalFrameDefault + 0x6bc (0x5891ff4c08cc in /usr/bin/python3)\n",
            "frame #60: <unknown function> + 0x16b281 (0x5891ff4e6281 in /usr/bin/python3)\n",
            "frame #61: _PyEval_EvalFrameDefault + 0x6bc (0x5891ff4c08cc in /usr/bin/python3)\n",
            "frame #62: <unknown function> + 0x203c75 (0x5891ff57ec75 in /usr/bin/python3)\n",
            "\n",
            "INFO:spleeter:File output/[SPOTIFY-DOWNLOADER.COM] All My Favorite Songs (feat. AJR)/vocals.wav written succesfully\n"
          ]
        },
        {
          "name": "stderr",
          "output_type": "stream",
          "text": [
            "INFO:spleeter:File output/[SPOTIFY-DOWNLOADER.COM] All My Favorite Songs (feat. AJR)/vocals.wav written succesfully\n"
          ]
        },
        {
          "name": "stdout",
          "output_type": "stream",
          "text": [
            "INFO:spleeter:File output/[SPOTIFY-DOWNLOADER.COM] All My Favorite Songs (feat. AJR)/accompaniment.wav written succesfully\n"
          ]
        },
        {
          "name": "stderr",
          "output_type": "stream",
          "text": [
            "INFO:spleeter:File output/[SPOTIFY-DOWNLOADER.COM] All My Favorite Songs (feat. AJR)/accompaniment.wav written succesfully\n"
          ]
        }
      ],
      "source": [
        "import os\n",
        "from spleeter.separator import Separator\n",
        "import time\n",
        "import tensorflow as tf\n",
        "\n",
        "# Check if GPU is available\n",
        "print(\"Num GPUs Available: \", len(tf.config.list_physical_devices('GPU')))\n",
        "\n",
        "# Initialize the Spleeter separator (2 stems = vocals + accompaniment)\n",
        "separator = Separator('spleeter:2stems')\n",
        "\n",
        "# Set up output directory\n",
        "output_dir = 'output/'\n",
        "os.makedirs(output_dir, exist_ok=True)\n",
        "\n",
        "for audio_path in audio_files:\n",
        "  try:\n",
        "    waveform, sample_rate = torchaudio.load(audio_path)\n",
        "    if sample_rate != 44100:\n",
        "      resampler = torchaudio.transforms.Resample(sample_rate, 44100)\n",
        "      waveform = resampler(waveform)\n",
        "      torchaudio.save(audio_path, waveform, sample_rate)\n",
        "\n",
        "    # Separate the audio into vocals and accompaniment\n",
        "    separator.separate_to_file(audio_path, output_dir)\n",
        "\n",
        "    # Load separated vocals (using torchaudio or another tool if needed)\n",
        "    vocals_path = os.path.join(output_dir,'music.wav', 'vocals.wav')\n",
        "  except Exception as e:\n",
        "    print(f\"Error processing {audio_path}: {e}\")"
      ]
    },
    {
      "cell_type": "code",
      "execution_count": null,
      "metadata": {
        "colab": {
          "base_uri": "https://localhost:8080/"
        },
        "id": "fy2zbLz1CQL4",
        "outputId": "84e89cef-5001-415d-c4d3-aa69b93f1319"
      },
      "outputs": [
        {
          "name": "stdout",
          "output_type": "stream",
          "text": [
            "66\n"
          ]
        }
      ],
      "source": [
        "path = \"output\"\n",
        "\n",
        "num = 0\n",
        "\n",
        "for x in os.listdir(path):\n",
        "    num += 1\n",
        "print(num)"
      ]
    },
    {
      "cell_type": "code",
      "execution_count": null,
      "metadata": {
        "colab": {
          "base_uri": "https://localhost:8080/"
        },
        "id": "qZq0EkuBIlJS",
        "outputId": "83c0cfb1-abda-4f14-a00e-036d87d01094"
      },
      "outputs": [
        {
          "name": "stdout",
          "output_type": "stream",
          "text": [
            "  adding: content/output/ (stored 0%)\n",
            "  adding: content/output/[SPOTIFY-DOWNLOADER.COM] The Entertainment's Here/ (stored 0%)\n",
            "  adding: content/output/[SPOTIFY-DOWNLOADER.COM] The Entertainment's Here/vocals.wav (deflated 15%)\n",
            "  adding: content/output/[SPOTIFY-DOWNLOADER.COM] The Entertainment's Here/accompaniment.wav (deflated 6%)\n",
            "  adding: content/output/[SPOTIFY-DOWNLOADER.COM] 3 O'Clock Things/ (stored 0%)\n",
            "  adding: content/output/[SPOTIFY-DOWNLOADER.COM] 3 O'Clock Things/vocals.wav (deflated 21%)\n",
            "  adding: content/output/[SPOTIFY-DOWNLOADER.COM] 3 O'Clock Things/accompaniment.wav (deflated 9%)\n",
            "  adding: content/output/SpotiDown.App - No Grass Today - AJR/ (stored 0%)\n",
            "  adding: content/output/SpotiDown.App - No Grass Today - AJR/vocals.wav (deflated 9%)\n",
            "  adding: content/output/SpotiDown.App - No Grass Today - AJR/accompaniment.wav (deflated 8%)\n",
            "  adding: content/output/[SPOTIFY-DOWNLOADER.COM] These Days (feat. Jess Glynne, Macklemore & Dan Caplen) - AJR Remix/ (stored 0%)\n",
            "  adding: content/output/[SPOTIFY-DOWNLOADER.COM] These Days (feat. Jess Glynne, Macklemore & Dan Caplen) - AJR Remix/vocals.wav (deflated 15%)\n",
            "  adding: content/output/[SPOTIFY-DOWNLOADER.COM] These Days (feat. Jess Glynne, Macklemore & Dan Caplen) - AJR Remix/accompaniment.wav (deflated 7%)\n",
            "  adding: content/output/SpotiDown.App - OK Overture - AJR/ (stored 0%)\n",
            "  adding: content/output/SpotiDown.App - OK Overture - AJR/vocals.wav (deflated 17%)\n",
            "  adding: content/output/SpotiDown.App - OK Overture - AJR/accompaniment.wav (deflated 9%)\n",
            "  adding: content/output/[SPOTIFY-DOWNLOADER.COM] Adventure Is Out There/ (stored 0%)\n",
            "  adding: content/output/[SPOTIFY-DOWNLOADER.COM] Adventure Is Out There/vocals.wav (deflated 27%)\n",
            "  adding: content/output/[SPOTIFY-DOWNLOADER.COM] Adventure Is Out There/accompaniment.wav (deflated 5%)\n",
            "  adding: content/output/[SPOTIFY-DOWNLOADER.COM] Infinity/ (stored 0%)\n",
            "  adding: content/output/[SPOTIFY-DOWNLOADER.COM] Infinity/vocals.wav (deflated 13%)\n",
            "  adding: content/output/[SPOTIFY-DOWNLOADER.COM] Infinity/accompaniment.wav (deflated 5%)\n",
            "  adding: content/output/[SPOTIFY-DOWNLOADER.COM] Big Idea/ (stored 0%)\n",
            "  adding: content/output/[SPOTIFY-DOWNLOADER.COM] Big Idea/vocals.wav (deflated 12%)\n",
            "  adding: content/output/[SPOTIFY-DOWNLOADER.COM] Big Idea/accompaniment.wav (deflated 6%)\n",
            "  adding: content/output/[SPOTIFY-DOWNLOADER.COM] Ordinaryish People (feat. Blue Man Group)/ (stored 0%)\n",
            "  adding: content/output/[SPOTIFY-DOWNLOADER.COM] Ordinaryish People (feat. Blue Man Group)/vocals.wav (deflated 22%)\n",
            "  adding: content/output/[SPOTIFY-DOWNLOADER.COM] Ordinaryish People (feat. Blue Man Group)/accompaniment.wav (deflated 9%)\n",
            "  adding: content/output/SpotiDown.App - The Green and the Town - AJR/ (stored 0%)\n",
            "  adding: content/output/SpotiDown.App - The Green and the Town - AJR/vocals.wav (deflated 16%)\n",
            "  adding: content/output/SpotiDown.App - The Green and the Town - AJR/accompaniment.wav (deflated 6%)\n",
            "  adding: content/output/[SPOTIFY-DOWNLOADER.COM] I Won't/ (stored 0%)\n",
            "  adding: content/output/[SPOTIFY-DOWNLOADER.COM] I Won't/vocals.wav (deflated 9%)\n",
            "  adding: content/output/[SPOTIFY-DOWNLOADER.COM] I Won't/accompaniment.wav (deflated 7%)\n",
            "  adding: content/output/SpotiDown.App - The Lotto - Ingrid Michaelson/ (stored 0%)\n",
            "  adding: content/output/SpotiDown.App - The Lotto - Ingrid Michaelson/vocals.wav (deflated 11%)\n",
            "  adding: content/output/SpotiDown.App - The Lotto - Ingrid Michaelson/accompaniment.wav (deflated 7%)\n",
            "  adding: content/output/[SPOTIFY-DOWNLOADER.COM] Normal/ (stored 0%)\n",
            "  adding: content/output/[SPOTIFY-DOWNLOADER.COM] Normal/vocals.wav (deflated 30%)\n",
            "  adding: content/output/[SPOTIFY-DOWNLOADER.COM] Normal/accompaniment.wav (deflated 8%)\n",
            "  adding: content/output/[SPOTIFY-DOWNLOADER.COM] Way Less Sad/ (stored 0%)\n",
            "  adding: content/output/[SPOTIFY-DOWNLOADER.COM] Way Less Sad/vocals.wav (deflated 15%)\n",
            "  adding: content/output/[SPOTIFY-DOWNLOADER.COM] Way Less Sad/accompaniment.wav (deflated 6%)\n",
            "  adding: content/output/SpotiDown.App - Finale (Can't Wait To See What You Do Next) - AJR/ (stored 0%)\n",
            "  adding: content/output/SpotiDown.App - Finale (Can't Wait To See What You Do Next) - AJR/vocals.wav (deflated 8%)\n",
            "  adding: content/output/SpotiDown.App - Finale (Can't Wait To See What You Do Next) - AJR/accompaniment.wav (deflated 5%)\n",
            "  adding: content/output/SpotiDown.App - Touchy Feely Fool - AJR/ (stored 0%)\n",
            "  adding: content/output/SpotiDown.App - Touchy Feely Fool - AJR/vocals.wav (deflated 8%)\n",
            "  adding: content/output/SpotiDown.App - Touchy Feely Fool - AJR/accompaniment.wav (deflated 4%)\n",
            "  adding: content/output/SpotiDown.App - Inertia - AJR/ (stored 0%)\n",
            "  adding: content/output/SpotiDown.App - Inertia - AJR/vocals.wav (deflated 7%)\n",
            "  adding: content/output/SpotiDown.App - Inertia - AJR/accompaniment.wav (deflated 4%)\n",
            "  adding: content/output/SpotiDown.App - Don't Throw Out My Legos - AJR/ (stored 0%)\n",
            "  adding: content/output/SpotiDown.App - Don't Throw Out My Legos - AJR/vocals.wav (deflated 15%)\n",
            "  adding: content/output/SpotiDown.App - Don't Throw Out My Legos - AJR/accompaniment.wav (deflated 8%)\n",
            "  adding: content/output/[SPOTIFY-DOWNLOADER.COM] Weak/ (stored 0%)\n",
            "  adding: content/output/[SPOTIFY-DOWNLOADER.COM] Weak/vocals.wav (deflated 11%)\n",
            "  adding: content/output/[SPOTIFY-DOWNLOADER.COM] Weak/accompaniment.wav (deflated 7%)\n",
            "  adding: content/output/[SPOTIFY-DOWNLOADER.COM] All My Favorite Songs (feat. AJR)/ (stored 0%)\n",
            "  adding: content/output/[SPOTIFY-DOWNLOADER.COM] All My Favorite Songs (feat. AJR)/vocals.wav (deflated 13%)\n",
            "  adding: content/output/[SPOTIFY-DOWNLOADER.COM] All My Favorite Songs (feat. AJR)/accompaniment.wav (deflated 6%)\n",
            "  adding: content/output/[SPOTIFY-DOWNLOADER.COM] The World Is a Marble Heart/ (stored 0%)\n",
            "  adding: content/output/[SPOTIFY-DOWNLOADER.COM] The World Is a Marble Heart/vocals.wav (deflated 9%)\n",
            "  adding: content/output/[SPOTIFY-DOWNLOADER.COM] The World Is a Marble Heart/accompaniment.wav (deflated 5%)\n",
            "  adding: content/output/[SPOTIFY-DOWNLOADER.COM] Record Player (with AJR)/ (stored 0%)\n",
            "  adding: content/output/[SPOTIFY-DOWNLOADER.COM] Record Player (with AJR)/vocals.wav (deflated 11%)\n",
            "  adding: content/output/[SPOTIFY-DOWNLOADER.COM] Record Player (with AJR)/accompaniment.wav (deflated 11%)\n",
            "  adding: content/output/SpotiDown.App - Wow, I'm Not Crazy - AJR/ (stored 0%)\n",
            "  adding: content/output/SpotiDown.App - Wow, I'm Not Crazy - AJR/vocals.wav (deflated 14%)\n",
            "  adding: content/output/SpotiDown.App - Wow, I'm Not Crazy - AJR/accompaniment.wav (deflated 7%)\n",
            "  adding: content/output/SpotiDown.App - Joe - AJR/ (stored 0%)\n",
            "  adding: content/output/SpotiDown.App - Joe - AJR/vocals.wav (deflated 18%)\n",
            "  adding: content/output/SpotiDown.App - Joe - AJR/accompaniment.wav (deflated 8%)\n",
            "  adding: content/output/[SPOTIFY-DOWNLOADER.COM] Role Models/ (stored 0%)\n",
            "  adding: content/output/[SPOTIFY-DOWNLOADER.COM] Role Models/vocals.wav (deflated 14%)\n",
            "  adding: content/output/[SPOTIFY-DOWNLOADER.COM] Role Models/accompaniment.wav (deflated 6%)\n",
            "  adding: content/output/SpotiDown.App - Come Hang Out - AJR/ (stored 0%)\n",
            "  adding: content/output/SpotiDown.App - Come Hang Out - AJR/vocals.wav (deflated 14%)\n",
            "  adding: content/output/SpotiDown.App - Come Hang Out - AJR/accompaniment.wav (deflated 8%)\n",
            "  adding: content/output/[SPOTIFY-DOWNLOADER.COM] World's Smallest Violin/ (stored 0%)\n",
            "  adding: content/output/[SPOTIFY-DOWNLOADER.COM] World's Smallest Violin/vocals.wav (deflated 14%)\n",
            "  adding: content/output/[SPOTIFY-DOWNLOADER.COM] World's Smallest Violin/accompaniment.wav (deflated 9%)\n",
            "  adding: content/output/[SPOTIFY-DOWNLOADER.COM] My Calling/ (stored 0%)\n",
            "  adding: content/output/[SPOTIFY-DOWNLOADER.COM] My Calling/vocals.wav (deflated 11%)\n",
            "  adding: content/output/[SPOTIFY-DOWNLOADER.COM] My Calling/accompaniment.wav (deflated 5%)\n",
            "  adding: content/output/[SPOTIFY-DOWNLOADER.COM] The Dumb Song/ (stored 0%)\n",
            "  adding: content/output/[SPOTIFY-DOWNLOADER.COM] The Dumb Song/vocals.wav (deflated 16%)\n",
            "  adding: content/output/[SPOTIFY-DOWNLOADER.COM] The Dumb Song/accompaniment.wav (deflated 9%)\n",
            "  adding: content/output/[SPOTIFY-DOWNLOADER.COM] Buy You a Rose/ (stored 0%)\n",
            "  adding: content/output/[SPOTIFY-DOWNLOADER.COM] Buy You a Rose/vocals.wav (deflated 15%)\n",
            "  adding: content/output/[SPOTIFY-DOWNLOADER.COM] Buy You a Rose/accompaniment.wav (deflated 7%)\n",
            "  adding: content/output/SpotiDown.App - I'm Ready - AJR/ (stored 0%)\n",
            "  adding: content/output/SpotiDown.App - I'm Ready - AJR/vocals.wav (deflated 20%)\n",
            "  adding: content/output/SpotiDown.App - I'm Ready - AJR/accompaniment.wav (deflated 17%)\n",
            "  adding: content/output/[SPOTIFY-DOWNLOADER.COM] Turning Out Pt. iii/ (stored 0%)\n",
            "  adding: content/output/[SPOTIFY-DOWNLOADER.COM] Turning Out Pt. iii/vocals.wav (deflated 13%)\n",
            "  adding: content/output/[SPOTIFY-DOWNLOADER.COM] Turning Out Pt. iii/accompaniment.wav (deflated 5%)\n",
            "  adding: content/output/[SPOTIFY-DOWNLOADER.COM] Bud Like You/ (stored 0%)\n",
            "  adding: content/output/[SPOTIFY-DOWNLOADER.COM] Bud Like You/vocals.wav (deflated 7%)\n",
            "  adding: content/output/[SPOTIFY-DOWNLOADER.COM] Bud Like You/accompaniment.wav (deflated 7%)\n",
            "  adding: content/output/[SPOTIFY-DOWNLOADER.COM] Maybe Man/ (stored 0%)\n",
            "  adding: content/output/[SPOTIFY-DOWNLOADER.COM] Maybe Man/vocals.wav (deflated 9%)\n",
            "  adding: content/output/[SPOTIFY-DOWNLOADER.COM] Maybe Man/accompaniment.wav (deflated 6%)\n",
            "  adding: content/output/[SPOTIFY-DOWNLOADER.COM] Inertia - Acoustic/ (stored 0%)\n",
            "  adding: content/output/[SPOTIFY-DOWNLOADER.COM] Inertia - Acoustic/vocals.wav (deflated 13%)\n",
            "  adding: content/output/[SPOTIFY-DOWNLOADER.COM] Inertia - Acoustic/accompaniment.wav (deflated 4%)\n",
            "  adding: content/output/[SPOTIFY-DOWNLOADER.COM] Karma/ (stored 0%)\n",
            "  adding: content/output/[SPOTIFY-DOWNLOADER.COM] Karma/vocals.wav (deflated 15%)\n",
            "  adding: content/output/[SPOTIFY-DOWNLOADER.COM] Karma/accompaniment.wav (deflated 4%)\n",
            "  adding: content/output/[SPOTIFY-DOWNLOADER.COM] Sober Up/ (stored 0%)\n",
            "  adding: content/output/[SPOTIFY-DOWNLOADER.COM] Sober Up/vocals.wav (deflated 22%)\n",
            "  adding: content/output/[SPOTIFY-DOWNLOADER.COM] Sober Up/accompaniment.wav (deflated 6%)\n",
            "  adding: content/output/[SPOTIFY-DOWNLOADER.COM] Pitchfork Kids/ (stored 0%)\n",
            "  adding: content/output/[SPOTIFY-DOWNLOADER.COM] Pitchfork Kids/vocals.wav (deflated 11%)\n",
            "  adding: content/output/[SPOTIFY-DOWNLOADER.COM] Pitchfork Kids/accompaniment.wav (deflated 8%)\n",
            "  adding: content/output/SpotiDown.App - Dear Winter 2.0 - AJR/ (stored 0%)\n",
            "  adding: content/output/SpotiDown.App - Dear Winter 2.0 - AJR/vocals.wav (deflated 19%)\n",
            "  adding: content/output/SpotiDown.App - Dear Winter 2.0 - AJR/accompaniment.wav (deflated 6%)\n",
            "  adding: content/output/[SPOTIFY-DOWNLOADER.COM] My Play/ (stored 0%)\n",
            "  adding: content/output/[SPOTIFY-DOWNLOADER.COM] My Play/vocals.wav (deflated 14%)\n",
            "  adding: content/output/[SPOTIFY-DOWNLOADER.COM] My Play/accompaniment.wav (deflated 6%)\n",
            "  adding: content/output/SpotiDown.App - Steve’s Going to London - AJR/ (stored 0%)\n",
            "  adding: content/output/SpotiDown.App - Steve’s Going to London - AJR/vocals.wav (deflated 10%)\n",
            "  adding: content/output/SpotiDown.App - Steve’s Going to London - AJR/accompaniment.wav (deflated 6%)\n",
            "  adding: content/output/[SPOTIFY-DOWNLOADER.COM] The Good Part/ (stored 0%)\n",
            "  adding: content/output/[SPOTIFY-DOWNLOADER.COM] The Good Part/vocals.wav (deflated 11%)\n",
            "  adding: content/output/[SPOTIFY-DOWNLOADER.COM] The Good Part/accompaniment.wav (deflated 5%)\n",
            "  adding: content/output/[SPOTIFY-DOWNLOADER.COM] Pretender (feat. Lil Yachty & AJR)/ (stored 0%)\n",
            "  adding: content/output/[SPOTIFY-DOWNLOADER.COM] Pretender (feat. Lil Yachty & AJR)/vocals.wav (deflated 26%)\n",
            "  adding: content/output/[SPOTIFY-DOWNLOADER.COM] Pretender (feat. Lil Yachty & AJR)/accompaniment.wav (deflated 17%)\n",
            "  adding: content/output/SpotiDown.App - Christmas in June - AJR/ (stored 0%)\n",
            "  adding: content/output/SpotiDown.App - Christmas in June - AJR/vocals.wav (deflated 16%)\n",
            "  adding: content/output/SpotiDown.App - Christmas in June - AJR/accompaniment.wav (deflated 6%)\n",
            "  adding: content/output/[SPOTIFY-DOWNLOADER.COM] Turning Out Pt. ii/ (stored 0%)\n",
            "  adding: content/output/[SPOTIFY-DOWNLOADER.COM] Turning Out Pt. ii/vocals.wav (deflated 16%)\n",
            "  adding: content/output/[SPOTIFY-DOWNLOADER.COM] Turning Out Pt. ii/accompaniment.wav (deflated 6%)\n",
            "  adding: content/output/SpotiDown.App - Yes I'm A Mess - AJR/ (stored 0%)\n",
            "  adding: content/output/SpotiDown.App - Yes I'm A Mess - AJR/vocals.wav (deflated 10%)\n",
            "  adding: content/output/SpotiDown.App - Yes I'm A Mess - AJR/accompaniment.wav (deflated 6%)\n",
            "  adding: content/output/[SPOTIFY-DOWNLOADER.COM] Break My Face/ (stored 0%)\n",
            "  adding: content/output/[SPOTIFY-DOWNLOADER.COM] Break My Face/vocals.wav (deflated 15%)\n",
            "  adding: content/output/[SPOTIFY-DOWNLOADER.COM] Break My Face/accompaniment.wav (deflated 6%)\n",
            "  adding: content/output/SpotiDown.App - Thirsty - AJR/ (stored 0%)\n",
            "  adding: content/output/SpotiDown.App - Thirsty - AJR/vocals.wav (deflated 7%)\n",
            "  adding: content/output/SpotiDown.App - Thirsty - AJR/accompaniment.wav (deflated 8%)\n",
            "  adding: content/output/[SPOTIFY-DOWNLOADER.COM] Beats/ (stored 0%)\n",
            "  adding: content/output/[SPOTIFY-DOWNLOADER.COM] Beats/vocals.wav (deflated 11%)\n",
            "  adding: content/output/[SPOTIFY-DOWNLOADER.COM] Beats/accompaniment.wav (deflated 5%)\n",
            "  adding: content/output/SpotiDown.App - Overture - AJR/ (stored 0%)\n",
            "  adding: content/output/SpotiDown.App - Overture - AJR/vocals.wav (deflated 17%)\n",
            "  adding: content/output/SpotiDown.App - Overture - AJR/accompaniment.wav (deflated 6%)\n",
            "  adding: content/output/[SPOTIFY-DOWNLOADER.COM] Livin' on Love/ (stored 0%)\n",
            "  adding: content/output/[SPOTIFY-DOWNLOADER.COM] Livin' on Love/vocals.wav (deflated 9%)\n",
            "  adding: content/output/[SPOTIFY-DOWNLOADER.COM] Livin' on Love/accompaniment.wav (deflated 5%)\n",
            "  adding: content/output/SpotiDown.App - I'm Not Famous - AJR/ (stored 0%)\n",
            "  adding: content/output/SpotiDown.App - I'm Not Famous - AJR/vocals.wav (deflated 9%)\n",
            "  adding: content/output/SpotiDown.App - I'm Not Famous - AJR/accompaniment.wav (deflated 6%)\n",
            "  adding: content/output/[SPOTIFY-DOWNLOADER.COM] The Trick/ (stored 0%)\n",
            "  adding: content/output/[SPOTIFY-DOWNLOADER.COM] The Trick/vocals.wav (deflated 14%)\n",
            "  adding: content/output/[SPOTIFY-DOWNLOADER.COM] The Trick/accompaniment.wav (deflated 6%)\n",
            "  adding: content/output/[SPOTIFY-DOWNLOADER.COM] Let the Games Begin/ (stored 0%)\n",
            "  adding: content/output/[SPOTIFY-DOWNLOADER.COM] Let the Games Begin/vocals.wav (deflated 14%)\n",
            "  adding: content/output/[SPOTIFY-DOWNLOADER.COM] Let the Games Begin/accompaniment.wav (deflated 6%)\n",
            "  adding: content/output/[SPOTIFY-DOWNLOADER.COM] Bummerland/ (stored 0%)\n",
            "  adding: content/output/[SPOTIFY-DOWNLOADER.COM] Bummerland/vocals.wav (deflated 18%)\n",
            "  adding: content/output/[SPOTIFY-DOWNLOADER.COM] Bummerland/accompaniment.wav (deflated 7%)\n",
            "  adding: content/output/[SPOTIFY-DOWNLOADER.COM] Growing Old on Bleecker Street/ (stored 0%)\n",
            "  adding: content/output/[SPOTIFY-DOWNLOADER.COM] Growing Old on Bleecker Street/vocals.wav (deflated 30%)\n",
            "  adding: content/output/[SPOTIFY-DOWNLOADER.COM] Growing Old on Bleecker Street/accompaniment.wav (deflated 7%)\n",
            "  adding: content/output/[SPOTIFY-DOWNLOADER.COM] Location - Recorded at Spotify Studios NYC/ (stored 0%)\n",
            "  adding: content/output/[SPOTIFY-DOWNLOADER.COM] Location - Recorded at Spotify Studios NYC/vocals.wav (deflated 29%)\n",
            "  adding: content/output/[SPOTIFY-DOWNLOADER.COM] Location - Recorded at Spotify Studios NYC/accompaniment.wav (deflated 40%)\n",
            "  adding: content/output/[SPOTIFY-DOWNLOADER.COM] 2085/ (stored 0%)\n",
            "  adding: content/output/[SPOTIFY-DOWNLOADER.COM] 2085/vocals.wav (deflated 11%)\n",
            "  adding: content/output/[SPOTIFY-DOWNLOADER.COM] 2085/accompaniment.wav (deflated 6%)\n",
            "  adding: content/output/[SPOTIFY-DOWNLOADER.COM] Turning Out/ (stored 0%)\n",
            "  adding: content/output/[SPOTIFY-DOWNLOADER.COM] Turning Out/vocals.wav (deflated 20%)\n",
            "  adding: content/output/[SPOTIFY-DOWNLOADER.COM] Turning Out/accompaniment.wav (deflated 12%)\n",
            "  adding: content/output/SpotiDown.App - Next Up Forever - AJR/ (stored 0%)\n",
            "  adding: content/output/SpotiDown.App - Next Up Forever - AJR/vocals.wav (deflated 15%)\n",
            "  adding: content/output/SpotiDown.App - Next Up Forever - AJR/accompaniment.wav (deflated 8%)\n",
            "  adding: content/output/[SPOTIFY-DOWNLOADER.COM] Drama - Recorded at Spotify Studios NYC/ (stored 0%)\n",
            "  adding: content/output/[SPOTIFY-DOWNLOADER.COM] Drama - Recorded at Spotify Studios NYC/vocals.wav (deflated 29%)\n",
            "  adding: content/output/[SPOTIFY-DOWNLOADER.COM] Drama - Recorded at Spotify Studios NYC/accompaniment.wav (deflated 40%)\n",
            "  adding: content/output/[SPOTIFY-DOWNLOADER.COM] Alice by the Hudson/ (stored 0%)\n",
            "  adding: content/output/[SPOTIFY-DOWNLOADER.COM] Alice by the Hudson/vocals.wav (deflated 11%)\n",
            "  adding: content/output/[SPOTIFY-DOWNLOADER.COM] Alice by the Hudson/accompaniment.wav (deflated 5%)\n",
            "  adding: content/output/[SPOTIFY-DOWNLOADER.COM] God is Really Real/ (stored 0%)\n",
            "  adding: content/output/[SPOTIFY-DOWNLOADER.COM] God is Really Real/vocals.wav (deflated 21%)\n",
            "  adding: content/output/[SPOTIFY-DOWNLOADER.COM] God is Really Real/accompaniment.wav (deflated 9%)\n",
            "  adding: content/output/SpotiDown.App - Humpty Dumpty - AJR/ (stored 0%)\n",
            "  adding: content/output/SpotiDown.App - Humpty Dumpty - AJR/vocals.wav (deflated 14%)\n",
            "  adding: content/output/SpotiDown.App - Humpty Dumpty - AJR/accompaniment.wav (deflated 6%)\n",
            "  adding: content/output/[SPOTIFY-DOWNLOADER.COM] Big White Bed/ (stored 0%)\n",
            "  adding: content/output/[SPOTIFY-DOWNLOADER.COM] Big White Bed/vocals.wav (deflated 15%)\n",
            "  adding: content/output/[SPOTIFY-DOWNLOADER.COM] Big White Bed/accompaniment.wav (deflated 8%)\n",
            "  adding: content/output/SpotiDown.App - Bang! - AJR/ (stored 0%)\n",
            "  adding: content/output/SpotiDown.App - Bang! - AJR/vocals.wav (deflated 13%)\n",
            "  adding: content/output/SpotiDown.App - Bang! - AJR/accompaniment.wav (deflated 8%)\n"
          ]
        }
      ],
      "source": [
        "!zip -r /content/output.zip /content/output"
      ]
    },
    {
      "cell_type": "markdown",
      "metadata": {
        "id": "lT3__q4TDQCB"
      },
      "source": [
        "# data pre-processing"
      ]
    },
    {
      "cell_type": "code",
      "execution_count": null,
      "metadata": {
        "id": "IEshEpnB_GuQ"
      },
      "outputs": [],
      "source": [
        "import torch\n",
        "\n",
        "device = \"cuda\" if torch.cuda.is_available() else \"cpu\""
      ]
    },
    {
      "cell_type": "markdown",
      "metadata": {
        "id": "6acnf4v7RvoW"
      },
      "source": [
        "#labels for labelling process"
      ]
    },
    {
      "cell_type": "code",
      "execution_count": null,
      "metadata": {
        "id": "NaxvJkjHnYLG"
      },
      "outputs": [],
      "source": [
        "genre_labels = [\n",
        "    \"Blues, Boogie Woogie\",\n",
        "    \"Blues, Chicago Blues\",\n",
        "    \"Blues, Country Blues\",\n",
        "    \"Blues, Delta Blues\",\n",
        "    \"Blues, Electric Blues\",\n",
        "    \"Blues, Harmonica Blues\",\n",
        "    \"Blues, Jump Blues\",\n",
        "    \"Blues, Louisiana Blues\",\n",
        "    \"Blues, Modern Electric Blues\",\n",
        "    \"Blues, Piano Blues\",\n",
        "    \"Blues, Rhythm & Blues\",\n",
        "    \"Blues, Texas Blues\",\n",
        "    \"Brass & Military, Brass Band\",\n",
        "    \"Brass & Military, Marches\",\n",
        "    \"Brass & Military, Military\",\n",
        "    \"Children's, Educational\",\n",
        "    \"Children's, Nursery Rhymes\",\n",
        "    \"Children's, Story\",\n",
        "    \"Classical, Baroque\",\n",
        "    \"Classical, Choral\",\n",
        "    \"Classical, Classical\",\n",
        "    \"Classical, Contemporary\",\n",
        "    \"Classical, Impressionist\",\n",
        "    \"Classical, Medieval\",\n",
        "    \"Classical, Modern\",\n",
        "    \"Classical, Neo-Classical\",\n",
        "    \"Classical, Neo-Romantic\",\n",
        "    \"Classical, Opera\",\n",
        "    \"Classical, Post-Modern\",\n",
        "    \"Classical, Renaissance\",\n",
        "    \"Classical, Romantic\",\n",
        "    \"Electronic, Abstract\",\n",
        "    \"Electronic, Acid\",\n",
        "    \"Electronic, Acid House\",\n",
        "    \"Electronic, Acid Jazz\",\n",
        "    \"Electronic, Ambient\",\n",
        "    \"Electronic, Bassline\",\n",
        "    \"Electronic, Beatdown\",\n",
        "    \"Electronic, Berlin-School\",\n",
        "    \"Electronic, Big Beat\",\n",
        "    \"Electronic, Bleep\",\n",
        "    \"Electronic, Breakbeat\",\n",
        "    \"Electronic, Breakcore\",\n",
        "    \"Electronic, Breaks\",\n",
        "    \"Electronic, Broken Beat\",\n",
        "    \"Electronic, Chillwave\",\n",
        "    \"Electronic, Chiptune\",\n",
        "    \"Electronic, Dance-pop\",\n",
        "    \"Electronic, Dark Ambient\",\n",
        "    \"Electronic, Darkwave\",\n",
        "    \"Electronic, Deep House\",\n",
        "    \"Electronic, Deep Techno\",\n",
        "    \"Electronic, Disco\",\n",
        "    \"Electronic, Disco Polo\",\n",
        "    \"Electronic, Donk\",\n",
        "    \"Electronic, Downtempo\",\n",
        "    \"Electronic, Drone\",\n",
        "    \"Electronic, Drum n Bass\",\n",
        "    \"Electronic, Dub\",\n",
        "    \"Electronic, Dub Techno\",\n",
        "    \"Electronic, Dubstep\",\n",
        "    \"Electronic, Dungeon Synth\",\n",
        "    \"Electronic, EBM\",\n",
        "    \"Electronic, Electro\",\n",
        "    \"Electronic, Electro House\",\n",
        "    \"Electronic, Electroclash\",\n",
        "    \"Electronic, Euro House\",\n",
        "    \"Electronic, Euro-Disco\",\n",
        "    \"Electronic, Eurobeat\",\n",
        "    \"Electronic, Eurodance\",\n",
        "    \"Electronic, Experimental\",\n",
        "    \"Electronic, Freestyle\",\n",
        "    \"Electronic, Future Jazz\",\n",
        "    \"Electronic, Gabber\",\n",
        "    \"Electronic, Garage House\",\n",
        "    \"Electronic, Ghetto\",\n",
        "    \"Electronic, Ghetto House\",\n",
        "    \"Electronic, Glitch\",\n",
        "    \"Electronic, Goa Trance\",\n",
        "    \"Electronic, Grime\",\n",
        "    \"Electronic, Halftime\",\n",
        "    \"Electronic, Hands Up\",\n",
        "    \"Electronic, Happy Hardcore\",\n",
        "    \"Electronic, Hard House\",\n",
        "    \"Electronic, Hard Techno\",\n",
        "    \"Electronic, Hard Trance\",\n",
        "    \"Electronic, Hardcore\",\n",
        "    \"Electronic, Hardstyle\",\n",
        "    \"Electronic, Hi NRG\",\n",
        "    \"Electronic, Hip Hop\",\n",
        "    \"Electronic, Hip-House\",\n",
        "    \"Electronic, House\",\n",
        "    \"Electronic, IDM\",\n",
        "    \"Electronic, Illbient\",\n",
        "    \"Electronic, Industrial\",\n",
        "    \"Electronic, Italo House\",\n",
        "    \"Electronic, Italo-Disco\",\n",
        "    \"Electronic, Italodance\",\n",
        "    \"Electronic, Jazzdance\",\n",
        "    \"Electronic, Juke\",\n",
        "    \"Electronic, Jumpstyle\",\n",
        "    \"Electronic, Jungle\",\n",
        "    \"Electronic, Latin\",\n",
        "    \"Electronic, Leftfield\",\n",
        "    \"Electronic, Makina\",\n",
        "    \"Electronic, Minimal\",\n",
        "    \"Electronic, Minimal Techno\",\n",
        "    \"Electronic, Modern Classical\",\n",
        "    \"Electronic, Musique Concrète\",\n",
        "    \"Electronic, Neofolk\",\n",
        "    \"Electronic, New Age\",\n",
        "    \"Electronic, New Beat\",\n",
        "    \"Electronic, New Wave\",\n",
        "    \"Electronic, Noise\",\n",
        "    \"Electronic, Nu-Disco\",\n",
        "    \"Electronic, Power Electronics\",\n",
        "    \"Electronic, Progressive Breaks\",\n",
        "    \"Electronic, Progressive House\",\n",
        "    \"Electronic, Progressive Trance\",\n",
        "    \"Electronic, Psy-Trance\",\n",
        "    \"Electronic, Rhythmic Noise\",\n",
        "    \"Electronic, Schranz\",\n",
        "    \"Electronic, Sound Collage\",\n",
        "    \"Electronic, Speed Garage\",\n",
        "    \"Electronic, Speedcore\",\n",
        "    \"Electronic, Synth-pop\",\n",
        "    \"Electronic, Synthwave\",\n",
        "    \"Electronic, Tech House\",\n",
        "    \"Electronic, Tech Trance\",\n",
        "    \"Electronic, Techno\",\n",
        "    \"Electronic, Trance\",\n",
        "    \"Electronic, Tribal\",\n",
        "    \"Electronic, Tribal House\",\n",
        "    \"Electronic, Trip Hop\",\n",
        "    \"Electronic, Tropical House\",\n",
        "    \"Electronic, UK Garage\",\n",
        "    \"Electronic, Vaporwave\",\n",
        "    \"Folk, World, & Country, African\",\n",
        "    \"Folk, World, & Country, Bluegrass\",\n",
        "    \"Folk, World, & Country, Cajun\",\n",
        "    \"Folk, World, & Country, Canzone Napoletana\",\n",
        "    \"Folk, World, & Country, Catalan Music\",\n",
        "    \"Folk, World, & Country, Celtic\",\n",
        "    \"Folk, World, & Country, Country\",\n",
        "    \"Folk, World, & Country, Fado\",\n",
        "    \"Folk, World, & Country, Flamenco\",\n",
        "    \"Folk, World, & Country, Folk\",\n",
        "    \"Folk, World, & Country, Gospel\",\n",
        "    \"Folk, World, & Country, Highlife\",\n",
        "    \"Folk, World, & Country, Hillbilly\",\n",
        "    \"Folk, World, & Country, Hindustani\",\n",
        "    \"Folk, World, & Country, Honky Tonk\",\n",
        "    \"Folk, World, & Country, Indian Classical\",\n",
        "    \"Folk, World, & Country, Laïkó\",\n",
        "    \"Folk, World, & Country, Nordic\",\n",
        "    \"Folk, World, & Country, Pacific\",\n",
        "    \"Folk, World, & Country, Polka\",\n",
        "    \"Folk, World, & Country, Raï\",\n",
        "    \"Folk, World, & Country, Romani\",\n",
        "    \"Folk, World, & Country, Soukous\",\n",
        "    \"Folk, World, & Country, Séga\",\n",
        "    \"Folk, World, & Country, Volksmusik\",\n",
        "    \"Folk, World, & Country, Zouk\",\n",
        "    \"Folk, World, & Country, Éntekhno\",\n",
        "    \"Funk / Soul, Afrobeat\",\n",
        "    \"Funk / Soul, Boogie\",\n",
        "    \"Funk / Soul, Contemporary R&B\",\n",
        "    \"Funk / Soul, Disco\",\n",
        "    \"Funk / Soul, Free Funk\",\n",
        "    \"Funk / Soul, Funk\",\n",
        "    \"Funk / Soul, Gospel\",\n",
        "    \"Funk / Soul, Neo Soul\",\n",
        "    \"Funk / Soul, New Jack Swing\",\n",
        "    \"Funk / Soul, P.Funk\",\n",
        "    \"Funk / Soul, Psychedelic\",\n",
        "    \"Funk / Soul, Rhythm & Blues\",\n",
        "    \"Funk / Soul, Soul\",\n",
        "    \"Funk / Soul, Swingbeat\",\n",
        "    \"Funk / Soul, UK Street Soul\",\n",
        "    \"Hip Hop, Bass Music\",\n",
        "    \"Hip Hop, Boom Bap\",\n",
        "    \"Hip Hop, Bounce\",\n",
        "    \"Hip Hop, Britcore\",\n",
        "    \"Hip Hop, Cloud Rap\",\n",
        "    \"Hip Hop, Conscious\",\n",
        "    \"Hip Hop, Crunk\",\n",
        "    \"Hip Hop, Cut-up/DJ\",\n",
        "    \"Hip Hop, DJ Battle Tool\",\n",
        "    \"Hip Hop, Electro\",\n",
        "    \"Hip Hop, G-Funk\",\n",
        "    \"Hip Hop, Gangsta\",\n",
        "    \"Hip Hop, Grime\",\n",
        "    \"Hip Hop, Hardcore Hip-Hop\",\n",
        "    \"Hip Hop, Horrorcore\",\n",
        "    \"Hip Hop, Instrumental\",\n",
        "    \"Hip Hop, Jazzy Hip-Hop\",\n",
        "    \"Hip Hop, Miami Bass\",\n",
        "    \"Hip Hop, Pop Rap\",\n",
        "    \"Hip Hop, Ragga HipHop\",\n",
        "    \"Hip Hop, RnB/Swing\",\n",
        "    \"Hip Hop, Screw\",\n",
        "    \"Hip Hop, Thug Rap\",\n",
        "    \"Hip Hop, Trap\",\n",
        "    \"Hip Hop, Trip Hop\",\n",
        "    \"Hip Hop, Turntablism\",\n",
        "    \"Jazz, Afro-Cuban Jazz\",\n",
        "    \"Jazz, Afrobeat\",\n",
        "    \"Jazz, Avant-garde Jazz\",\n",
        "    \"Jazz, Big Band\",\n",
        "    \"Jazz, Bop\",\n",
        "    \"Jazz, Bossa Nova\",\n",
        "    \"Jazz, Contemporary Jazz\",\n",
        "    \"Jazz, Cool Jazz\",\n",
        "    \"Jazz, Dixieland\",\n",
        "    \"Jazz, Easy Listening\",\n",
        "    \"Jazz, Free Improvisation\",\n",
        "    \"Jazz, Free Jazz\",\n",
        "    \"Jazz, Fusion\",\n",
        "    \"Jazz, Gypsy Jazz\",\n",
        "    \"Jazz, Hard Bop\",\n",
        "    \"Jazz, Jazz-Funk\",\n",
        "    \"Jazz, Jazz-Rock\",\n",
        "    \"Jazz, Latin Jazz\",\n",
        "    \"Jazz, Modal\",\n",
        "    \"Jazz, Post Bop\",\n",
        "    \"Jazz, Ragtime\",\n",
        "    \"Jazz, Smooth Jazz\",\n",
        "    \"Jazz, Soul-Jazz\",\n",
        "    \"Jazz, Space-Age\",\n",
        "    \"Jazz, Swing\",\n",
        "    \"Latin, Afro-Cuban\",\n",
        "    \"Latin, Baião\",\n",
        "    \"Latin, Batucada\",\n",
        "    \"Latin, Beguine\",\n",
        "    \"Latin, Bolero\",\n",
        "    \"Latin, Boogaloo\",\n",
        "    \"Latin, Bossanova\",\n",
        "    \"Latin, Cha-Cha\",\n",
        "    \"Latin, Charanga\",\n",
        "    \"Latin, Compas\",\n",
        "    \"Latin, Cubano\",\n",
        "    \"Latin, Cumbia\",\n",
        "    \"Latin, Descarga\",\n",
        "    \"Latin, Forró\",\n",
        "    \"Latin, Guaguancó\",\n",
        "    \"Latin, Guajira\",\n",
        "    \"Latin, Guaracha\",\n",
        "    \"Latin, MPB\",\n",
        "    \"Latin, Mambo\",\n",
        "    \"Latin, Mariachi\",\n",
        "    \"Latin, Merengue\",\n",
        "    \"Latin, Norteño\",\n",
        "    \"Latin, Nueva Cancion\",\n",
        "    \"Latin, Pachanga\",\n",
        "    \"Latin, Porro\",\n",
        "    \"Latin, Ranchera\",\n",
        "    \"Latin, Reggaeton\",\n",
        "    \"Latin, Rumba\",\n",
        "    \"Latin, Salsa\",\n",
        "    \"Latin, Samba\",\n",
        "    \"Latin, Son\",\n",
        "    \"Latin, Son Montuno\",\n",
        "    \"Latin, Tango\",\n",
        "    \"Latin, Tejano\",\n",
        "    \"Latin, Vallenato\",\n",
        "    \"Non-Music, Audiobook\",\n",
        "    \"Non-Music, Comedy\",\n",
        "    \"Non-Music, Dialogue\",\n",
        "    \"Non-Music, Education\",\n",
        "    \"Non-Music, Field Recording\",\n",
        "    \"Non-Music, Interview\",\n",
        "    \"Non-Music, Monolog\",\n",
        "    \"Non-Music, Poetry\",\n",
        "    \"Non-Music, Political\",\n",
        "    \"Non-Music, Promotional\",\n",
        "    \"Non-Music, Radioplay\",\n",
        "    \"Non-Music, Religious\",\n",
        "    \"Non-Music, Spoken Word\",\n",
        "    \"Pop, Ballad\",\n",
        "    \"Pop, Bollywood\",\n",
        "    \"Pop, Bubblegum\",\n",
        "    \"Pop, Chanson\",\n",
        "    \"Pop, City Pop\",\n",
        "    \"Pop, Europop\",\n",
        "    \"Pop, Indie Pop\",\n",
        "    \"Pop, J-pop\",\n",
        "    \"Pop, K-pop\",\n",
        "    \"Pop, Kayōkyoku\",\n",
        "    \"Pop, Light Music\",\n",
        "    \"Pop, Music Hall\",\n",
        "    \"Pop, Novelty\",\n",
        "    \"Pop, Parody\",\n",
        "    \"Pop, Schlager\",\n",
        "    \"Pop, Vocal\",\n",
        "    \"Reggae, Calypso\",\n",
        "    \"Reggae, Dancehall\",\n",
        "    \"Reggae, Dub\",\n",
        "    \"Reggae, Lovers Rock\",\n",
        "    \"Reggae, Ragga\",\n",
        "    \"Reggae, Reggae\",\n",
        "    \"Reggae, Reggae-Pop\",\n",
        "    \"Reggae, Rocksteady\",\n",
        "    \"Reggae, Roots Reggae\",\n",
        "    \"Reggae, Ska\",\n",
        "    \"Reggae, Soca\",\n",
        "    \"Rock, AOR\",\n",
        "    \"Rock, Acid Rock\",\n",
        "    \"Rock, Acoustic\",\n",
        "    \"Rock, Alternative Rock\",\n",
        "    \"Rock, Arena Rock\",\n",
        "    \"Rock, Art Rock\",\n",
        "    \"Rock, Atmospheric Black Metal\",\n",
        "    \"Rock, Avantgarde\",\n",
        "    \"Rock, Beat\",\n",
        "    \"Rock, Black Metal\",\n",
        "    \"Rock, Blues Rock\",\n",
        "    \"Rock, Brit Pop\",\n",
        "    \"Rock, Classic Rock\",\n",
        "    \"Rock, Coldwave\",\n",
        "    \"Rock, Country Rock\",\n",
        "    \"Rock, Crust\",\n",
        "    \"Rock, Death Metal\",\n",
        "    \"Rock, Deathcore\",\n",
        "    \"Rock, Deathrock\",\n",
        "    \"Rock, Depressive Black Metal\",\n",
        "    \"Rock, Doo Wop\",\n",
        "    \"Rock, Doom Metal\",\n",
        "    \"Rock, Dream Pop\",\n",
        "    \"Rock, Emo\",\n",
        "    \"Rock, Ethereal\",\n",
        "    \"Rock, Experimental\",\n",
        "    \"Rock, Folk Metal\",\n",
        "    \"Rock, Folk Rock\",\n",
        "    \"Rock, Funeral Doom Metal\",\n",
        "    \"Rock, Funk Metal\",\n",
        "    \"Rock, Garage Rock\",\n",
        "    \"Rock, Glam\",\n",
        "    \"Rock, Goregrind\",\n",
        "    \"Rock, Goth Rock\",\n",
        "    \"Rock, Gothic Metal\",\n",
        "    \"Rock, Grindcore\",\n",
        "    \"Rock, Grunge\",\n",
        "    \"Rock, Hard Rock\",\n",
        "    \"Rock, Hardcore\",\n",
        "    \"Rock, Heavy Metal\",\n",
        "    \"Rock, Indie Rock\",\n",
        "    \"Rock, Industrial\",\n",
        "    \"Rock, Krautrock\",\n",
        "    \"Rock, Lo-Fi\",\n",
        "    \"Rock, Lounge\",\n",
        "    \"Rock, Math Rock\",\n",
        "    \"Rock, Melodic Death Metal\",\n",
        "    \"Rock, Melodic Hardcore\",\n",
        "    \"Rock, Metalcore\",\n",
        "    \"Rock, Mod\",\n",
        "    \"Rock, Neofolk\",\n",
        "    \"Rock, New Wave\",\n",
        "    \"Rock, No Wave\",\n",
        "    \"Rock, Noise\",\n",
        "    \"Rock, Noisecore\",\n",
        "    \"Rock, Nu Metal\",\n",
        "    \"Rock, Oi\",\n",
        "    \"Rock, Parody\",\n",
        "    \"Rock, Pop Punk\",\n",
        "    \"Rock, Pop Rock\",\n",
        "    \"Rock, Pornogrind\",\n",
        "    \"Rock, Post Rock\",\n",
        "    \"Rock, Post-Hardcore\",\n",
        "    \"Rock, Post-Metal\",\n",
        "    \"Rock, Post-Punk\",\n",
        "    \"Rock, Power Metal\",\n",
        "    \"Rock, Power Pop\",\n",
        "    \"Rock, Power Violence\",\n",
        "    \"Rock, Prog Rock\",\n",
        "    \"Rock, Progressive Metal\",\n",
        "    \"Rock, Psychedelic Rock\",\n",
        "    \"Rock, Psychobilly\",\n",
        "    \"Rock, Pub Rock\",\n",
        "    \"Rock, Punk\",\n",
        "    \"Rock, Rock & Roll\",\n",
        "    \"Rock, Rockabilly\",\n",
        "    \"Rock, Shoegaze\",\n",
        "    \"Rock, Ska\",\n",
        "    \"Rock, Sludge Metal\",\n",
        "    \"Rock, Soft Rock\",\n",
        "    \"Rock, Southern Rock\",\n",
        "    \"Rock, Space Rock\",\n",
        "    \"Rock, Speed Metal\",\n",
        "    \"Rock, Stoner Rock\",\n",
        "    \"Rock, Surf\",\n",
        "    \"Rock, Symphonic Rock\",\n",
        "    \"Rock, Technical Death Metal\",\n",
        "    \"Rock, Thrash\",\n",
        "    \"Rock, Twist\",\n",
        "    \"Rock, Viking Metal\",\n",
        "    \"Rock, Yé-Yé\",\n",
        "    \"Stage & Screen, Musical\",\n",
        "    \"Stage & Screen, Score\",\n",
        "    \"Stage & Screen, Soundtrack\",\n",
        "    \"Stage & Screen, Theme\",\n",
        "]\n",
        "mood_theme_classes = [\n",
        "    \"action\",\n",
        "    \"adventure\",\n",
        "    \"advertising\",\n",
        "    \"background\",\n",
        "    \"ballad\",\n",
        "    \"calm\",\n",
        "    \"children\",\n",
        "    \"christmas\",\n",
        "    \"commercial\",\n",
        "    \"cool\",\n",
        "    \"corporate\",\n",
        "    \"dark\",\n",
        "    \"deep\",\n",
        "    \"documentary\",\n",
        "    \"drama\",\n",
        "    \"dramatic\",\n",
        "    \"dream\",\n",
        "    \"emotional\",\n",
        "    \"energetic\",\n",
        "    \"epic\",\n",
        "    \"fast\",\n",
        "    \"film\",\n",
        "    \"fun\",\n",
        "    \"funny\",\n",
        "    \"game\",\n",
        "    \"groovy\",\n",
        "    \"happy\",\n",
        "    \"heavy\",\n",
        "    \"holiday\",\n",
        "    \"hopeful\",\n",
        "    \"inspiring\",\n",
        "    \"love\",\n",
        "    \"meditative\",\n",
        "    \"melancholic\",\n",
        "    \"melodic\",\n",
        "    \"motivational\",\n",
        "    \"movie\",\n",
        "    \"nature\",\n",
        "    \"party\",\n",
        "    \"positive\",\n",
        "    \"powerful\",\n",
        "    \"relaxing\",\n",
        "    \"retro\",\n",
        "    \"romantic\",\n",
        "    \"sad\",\n",
        "    \"sexy\",\n",
        "    \"slow\",\n",
        "    \"soft\",\n",
        "    \"soundscape\",\n",
        "    \"space\",\n",
        "    \"sport\",\n",
        "    \"summer\",\n",
        "    \"trailer\",\n",
        "    \"travel\",\n",
        "    \"upbeat\",\n",
        "    \"uplifting\",\n",
        "]\n",
        "instrument_classes = [\n",
        "    \"acapella\",\n",
        "    \"accordion\",\n",
        "    \"acousticbassguitar\",\n",
        "    \"acousticguitar\",\n",
        "    \"bass\",\n",
        "    \"beat\",\n",
        "    \"bell\",\n",
        "    \"bongo\",\n",
        "    \"brass\",\n",
        "    \"cello\",\n",
        "    \"clarinet\",\n",
        "    \"classicalguitar\",\n",
        "    \"computer\",\n",
        "    \"doublebass\",\n",
        "    \"drummachine\",\n",
        "    \"drums\",\n",
        "    \"electricguitar\",\n",
        "    \"electricpiano\",\n",
        "    \"flute\",\n",
        "    \"guitar\",\n",
        "    \"harmonica\",\n",
        "    \"harp\",\n",
        "    \"horn\",\n",
        "    \"keyboard\",\n",
        "    \"oboe\",\n",
        "    \"orchestra\",\n",
        "    \"organ\",\n",
        "    \"pad\",\n",
        "    \"percussion\",\n",
        "    \"piano\",\n",
        "    \"pipeorgan\",\n",
        "    \"rhodes\",\n",
        "    \"sampler\",\n",
        "    \"saxophone\",\n",
        "    \"strings\",\n",
        "    \"synthesizer\",\n",
        "    \"trombone\",\n",
        "    \"trumpet\",\n",
        "    \"viola\",\n",
        "    \"violin\",\n",
        "    \"voice\",\n",
        "]"
      ]
    },
    {
      "cell_type": "markdown",
      "metadata": {
        "id": "82RWRmI9Rlbu"
      },
      "source": [
        "#labeling"
      ]
    },
    {
      "cell_type": "code",
      "execution_count": null,
      "metadata": {
        "colab": {
          "base_uri": "https://localhost:8080/",
          "height": 1000
        },
        "id": "mYGS5fPrGDep",
        "outputId": "48c3f8c5-74ca-4fec-8602-57b7fd7182a8"
      },
      "outputs": [
        {
          "output_type": "stream",
          "name": "stdout",
          "text": [
            "Found existing installation: torch 2.5.0+cu121\n",
            "Uninstalling torch-2.5.0+cu121:\n",
            "  Successfully uninstalled torch-2.5.0+cu121\n",
            "Collecting torch==2.4\n",
            "  Downloading torch-2.4.0-cp310-cp310-manylinux1_x86_64.whl.metadata (26 kB)\n",
            "Requirement already satisfied: filelock in /usr/local/lib/python3.10/dist-packages (from torch==2.4) (3.16.1)\n",
            "Requirement already satisfied: typing-extensions>=4.8.0 in /usr/local/lib/python3.10/dist-packages (from torch==2.4) (4.12.2)\n",
            "Requirement already satisfied: sympy in /usr/local/lib/python3.10/dist-packages (from torch==2.4) (1.13.1)\n",
            "Requirement already satisfied: networkx in /usr/local/lib/python3.10/dist-packages (from torch==2.4) (3.4.2)\n",
            "Requirement already satisfied: jinja2 in /usr/local/lib/python3.10/dist-packages (from torch==2.4) (3.1.4)\n",
            "Requirement already satisfied: fsspec in /usr/local/lib/python3.10/dist-packages (from torch==2.4) (2024.10.0)\n",
            "Collecting nvidia-cuda-nvrtc-cu12==12.1.105 (from torch==2.4)\n",
            "  Downloading nvidia_cuda_nvrtc_cu12-12.1.105-py3-none-manylinux1_x86_64.whl.metadata (1.5 kB)\n",
            "Collecting nvidia-cuda-runtime-cu12==12.1.105 (from torch==2.4)\n",
            "  Downloading nvidia_cuda_runtime_cu12-12.1.105-py3-none-manylinux1_x86_64.whl.metadata (1.5 kB)\n",
            "Collecting nvidia-cuda-cupti-cu12==12.1.105 (from torch==2.4)\n",
            "  Downloading nvidia_cuda_cupti_cu12-12.1.105-py3-none-manylinux1_x86_64.whl.metadata (1.6 kB)\n",
            "Collecting nvidia-cudnn-cu12==9.1.0.70 (from torch==2.4)\n",
            "  Downloading nvidia_cudnn_cu12-9.1.0.70-py3-none-manylinux2014_x86_64.whl.metadata (1.6 kB)\n",
            "Collecting nvidia-cublas-cu12==12.1.3.1 (from torch==2.4)\n",
            "  Downloading nvidia_cublas_cu12-12.1.3.1-py3-none-manylinux1_x86_64.whl.metadata (1.5 kB)\n",
            "Collecting nvidia-cufft-cu12==11.0.2.54 (from torch==2.4)\n",
            "  Downloading nvidia_cufft_cu12-11.0.2.54-py3-none-manylinux1_x86_64.whl.metadata (1.5 kB)\n",
            "Collecting nvidia-curand-cu12==10.3.2.106 (from torch==2.4)\n",
            "  Downloading nvidia_curand_cu12-10.3.2.106-py3-none-manylinux1_x86_64.whl.metadata (1.5 kB)\n",
            "Collecting nvidia-cusolver-cu12==11.4.5.107 (from torch==2.4)\n",
            "  Downloading nvidia_cusolver_cu12-11.4.5.107-py3-none-manylinux1_x86_64.whl.metadata (1.6 kB)\n",
            "Collecting nvidia-cusparse-cu12==12.1.0.106 (from torch==2.4)\n",
            "  Downloading nvidia_cusparse_cu12-12.1.0.106-py3-none-manylinux1_x86_64.whl.metadata (1.6 kB)\n",
            "Collecting nvidia-nccl-cu12==2.20.5 (from torch==2.4)\n",
            "  Downloading nvidia_nccl_cu12-2.20.5-py3-none-manylinux2014_x86_64.whl.metadata (1.8 kB)\n",
            "Collecting nvidia-nvtx-cu12==12.1.105 (from torch==2.4)\n",
            "  Downloading nvidia_nvtx_cu12-12.1.105-py3-none-manylinux1_x86_64.whl.metadata (1.7 kB)\n",
            "Collecting triton==3.0.0 (from torch==2.4)\n",
            "  Downloading triton-3.0.0-1-cp310-cp310-manylinux2014_x86_64.manylinux_2_17_x86_64.whl.metadata (1.3 kB)\n",
            "Requirement already satisfied: nvidia-nvjitlink-cu12 in /usr/local/lib/python3.10/dist-packages (from nvidia-cusolver-cu12==11.4.5.107->torch==2.4) (12.6.77)\n",
            "Requirement already satisfied: MarkupSafe>=2.0 in /usr/local/lib/python3.10/dist-packages (from jinja2->torch==2.4) (3.0.2)\n",
            "Requirement already satisfied: mpmath<1.4,>=1.1.0 in /usr/local/lib/python3.10/dist-packages (from sympy->torch==2.4) (1.3.0)\n",
            "Downloading torch-2.4.0-cp310-cp310-manylinux1_x86_64.whl (797.2 MB)\n",
            "\u001b[2K   \u001b[90m━━━━━━━━━━━━━━━━━━━━━━━━━━━━━━━━━━━━━━━━\u001b[0m \u001b[32m797.2/797.2 MB\u001b[0m \u001b[31m2.4 MB/s\u001b[0m eta \u001b[36m0:00:00\u001b[0m\n",
            "\u001b[?25hDownloading nvidia_cublas_cu12-12.1.3.1-py3-none-manylinux1_x86_64.whl (410.6 MB)\n",
            "\u001b[2K   \u001b[90m━━━━━━━━━━━━━━━━━━━━━━━━━━━━━━━━━━━━━━━━\u001b[0m \u001b[32m410.6/410.6 MB\u001b[0m \u001b[31m4.0 MB/s\u001b[0m eta \u001b[36m0:00:00\u001b[0m\n",
            "\u001b[?25hDownloading nvidia_cuda_cupti_cu12-12.1.105-py3-none-manylinux1_x86_64.whl (14.1 MB)\n",
            "\u001b[2K   \u001b[90m━━━━━━━━━━━━━━━━━━━━━━━━━━━━━━━━━━━━━━━━\u001b[0m \u001b[32m14.1/14.1 MB\u001b[0m \u001b[31m64.4 MB/s\u001b[0m eta \u001b[36m0:00:00\u001b[0m\n",
            "\u001b[?25hDownloading nvidia_cuda_nvrtc_cu12-12.1.105-py3-none-manylinux1_x86_64.whl (23.7 MB)\n",
            "\u001b[2K   \u001b[90m━━━━━━━━━━━━━━━━━━━━━━━━━━━━━━━━━━━━━━━━\u001b[0m \u001b[32m23.7/23.7 MB\u001b[0m \u001b[31m50.0 MB/s\u001b[0m eta \u001b[36m0:00:00\u001b[0m\n",
            "\u001b[?25hDownloading nvidia_cuda_runtime_cu12-12.1.105-py3-none-manylinux1_x86_64.whl (823 kB)\n",
            "\u001b[2K   \u001b[90m━━━━━━━━━━━━━━━━━━━━━━━━━━━━━━━━━━━━━━━━\u001b[0m \u001b[32m823.6/823.6 kB\u001b[0m \u001b[31m37.7 MB/s\u001b[0m eta \u001b[36m0:00:00\u001b[0m\n",
            "\u001b[?25hDownloading nvidia_cudnn_cu12-9.1.0.70-py3-none-manylinux2014_x86_64.whl (664.8 MB)\n",
            "\u001b[2K   \u001b[90m━━━━━━━━━━━━━━━━━━━━━━━━━━━━━━━━━━━━━━━━\u001b[0m \u001b[32m664.8/664.8 MB\u001b[0m \u001b[31m2.0 MB/s\u001b[0m eta \u001b[36m0:00:00\u001b[0m\n",
            "\u001b[?25hDownloading nvidia_cufft_cu12-11.0.2.54-py3-none-manylinux1_x86_64.whl (121.6 MB)\n",
            "\u001b[2K   \u001b[90m━━━━━━━━━━━━━━━━━━━━━━━━━━━━━━━━━━━━━━━━\u001b[0m \u001b[32m121.6/121.6 MB\u001b[0m \u001b[31m7.5 MB/s\u001b[0m eta \u001b[36m0:00:00\u001b[0m\n",
            "\u001b[?25hDownloading nvidia_curand_cu12-10.3.2.106-py3-none-manylinux1_x86_64.whl (56.5 MB)\n",
            "\u001b[2K   \u001b[90m━━━━━━━━━━━━━━━━━━━━━━━━━━━━━━━━━━━━━━━━\u001b[0m \u001b[32m56.5/56.5 MB\u001b[0m \u001b[31m12.3 MB/s\u001b[0m eta \u001b[36m0:00:00\u001b[0m\n",
            "\u001b[?25hDownloading nvidia_cusolver_cu12-11.4.5.107-py3-none-manylinux1_x86_64.whl (124.2 MB)\n",
            "\u001b[2K   \u001b[90m━━━━━━━━━━━━━━━━━━━━━━━━━━━━━━━━━━━━━━━━\u001b[0m \u001b[32m124.2/124.2 MB\u001b[0m \u001b[31m7.9 MB/s\u001b[0m eta \u001b[36m0:00:00\u001b[0m\n",
            "\u001b[?25hDownloading nvidia_cusparse_cu12-12.1.0.106-py3-none-manylinux1_x86_64.whl (196.0 MB)\n",
            "\u001b[2K   \u001b[90m━━━━━━━━━━━━━━━━━━━━━━━━━━━━━━━━━━━━━━━━\u001b[0m \u001b[32m196.0/196.0 MB\u001b[0m \u001b[31m6.9 MB/s\u001b[0m eta \u001b[36m0:00:00\u001b[0m\n",
            "\u001b[?25hDownloading nvidia_nccl_cu12-2.20.5-py3-none-manylinux2014_x86_64.whl (176.2 MB)\n",
            "\u001b[2K   \u001b[90m━━━━━━━━━━━━━━━━━━━━━━━━━━━━━━━━━━━━━━━━\u001b[0m \u001b[32m176.2/176.2 MB\u001b[0m \u001b[31m6.1 MB/s\u001b[0m eta \u001b[36m0:00:00\u001b[0m\n",
            "\u001b[?25hDownloading nvidia_nvtx_cu12-12.1.105-py3-none-manylinux1_x86_64.whl (99 kB)\n",
            "\u001b[2K   \u001b[90m━━━━━━━━━━━━━━━━━━━━━━━━━━━━━━━━━━━━━━━━\u001b[0m \u001b[32m99.1/99.1 kB\u001b[0m \u001b[31m6.1 MB/s\u001b[0m eta \u001b[36m0:00:00\u001b[0m\n",
            "\u001b[?25hDownloading triton-3.0.0-1-cp310-cp310-manylinux2014_x86_64.manylinux_2_17_x86_64.whl (209.4 MB)\n",
            "\u001b[2K   \u001b[90m━━━━━━━━━━━━━━━━━━━━━━━━━━━━━━━━━━━━━━━━\u001b[0m \u001b[32m209.4/209.4 MB\u001b[0m \u001b[31m6.6 MB/s\u001b[0m eta \u001b[36m0:00:00\u001b[0m\n",
            "\u001b[?25hInstalling collected packages: triton, nvidia-nvtx-cu12, nvidia-nccl-cu12, nvidia-cusparse-cu12, nvidia-curand-cu12, nvidia-cufft-cu12, nvidia-cuda-runtime-cu12, nvidia-cuda-nvrtc-cu12, nvidia-cuda-cupti-cu12, nvidia-cublas-cu12, nvidia-cusolver-cu12, nvidia-cudnn-cu12, torch\n",
            "  Attempting uninstall: nvidia-nccl-cu12\n",
            "    Found existing installation: nvidia-nccl-cu12 2.23.4\n",
            "    Uninstalling nvidia-nccl-cu12-2.23.4:\n",
            "      Successfully uninstalled nvidia-nccl-cu12-2.23.4\n",
            "  Attempting uninstall: nvidia-cusparse-cu12\n",
            "    Found existing installation: nvidia-cusparse-cu12 12.5.4.2\n",
            "    Uninstalling nvidia-cusparse-cu12-12.5.4.2:\n",
            "      Successfully uninstalled nvidia-cusparse-cu12-12.5.4.2\n",
            "  Attempting uninstall: nvidia-curand-cu12\n",
            "    Found existing installation: nvidia-curand-cu12 10.3.7.77\n",
            "    Uninstalling nvidia-curand-cu12-10.3.7.77:\n",
            "      Successfully uninstalled nvidia-curand-cu12-10.3.7.77\n",
            "  Attempting uninstall: nvidia-cufft-cu12\n",
            "    Found existing installation: nvidia-cufft-cu12 11.3.0.4\n",
            "    Uninstalling nvidia-cufft-cu12-11.3.0.4:\n",
            "      Successfully uninstalled nvidia-cufft-cu12-11.3.0.4\n",
            "  Attempting uninstall: nvidia-cuda-runtime-cu12\n",
            "    Found existing installation: nvidia-cuda-runtime-cu12 12.6.77\n",
            "    Uninstalling nvidia-cuda-runtime-cu12-12.6.77:\n",
            "      Successfully uninstalled nvidia-cuda-runtime-cu12-12.6.77\n",
            "  Attempting uninstall: nvidia-cuda-cupti-cu12\n",
            "    Found existing installation: nvidia-cuda-cupti-cu12 12.6.80\n",
            "    Uninstalling nvidia-cuda-cupti-cu12-12.6.80:\n",
            "      Successfully uninstalled nvidia-cuda-cupti-cu12-12.6.80\n",
            "  Attempting uninstall: nvidia-cublas-cu12\n",
            "    Found existing installation: nvidia-cublas-cu12 12.6.3.3\n",
            "    Uninstalling nvidia-cublas-cu12-12.6.3.3:\n",
            "      Successfully uninstalled nvidia-cublas-cu12-12.6.3.3\n",
            "  Attempting uninstall: nvidia-cusolver-cu12\n",
            "    Found existing installation: nvidia-cusolver-cu12 11.7.1.2\n",
            "    Uninstalling nvidia-cusolver-cu12-11.7.1.2:\n",
            "      Successfully uninstalled nvidia-cusolver-cu12-11.7.1.2\n",
            "  Attempting uninstall: nvidia-cudnn-cu12\n",
            "    Found existing installation: nvidia-cudnn-cu12 9.5.1.17\n",
            "    Uninstalling nvidia-cudnn-cu12-9.5.1.17:\n",
            "      Successfully uninstalled nvidia-cudnn-cu12-9.5.1.17\n",
            "\u001b[31mERROR: pip's dependency resolver does not currently take into account all the packages that are installed. This behaviour is the source of the following dependency conflicts.\n",
            "torchaudio 2.5.0+cu121 requires torch==2.5.0, but you have torch 2.4.0 which is incompatible.\n",
            "torchvision 0.20.0+cu121 requires torch==2.5.0, but you have torch 2.4.0 which is incompatible.\u001b[0m\u001b[31m\n",
            "\u001b[0mSuccessfully installed nvidia-cublas-cu12-12.1.3.1 nvidia-cuda-cupti-cu12-12.1.105 nvidia-cuda-nvrtc-cu12-12.1.105 nvidia-cuda-runtime-cu12-12.1.105 nvidia-cudnn-cu12-9.1.0.70 nvidia-cufft-cu12-11.0.2.54 nvidia-curand-cu12-10.3.2.106 nvidia-cusolver-cu12-11.4.5.107 nvidia-cusparse-cu12-12.1.0.106 nvidia-nccl-cu12-2.20.5 nvidia-nvtx-cu12-12.1.105 torch-2.4.0 triton-3.0.0\n"
          ]
        },
        {
          "output_type": "display_data",
          "data": {
            "application/vnd.colab-display-data+json": {
              "pip_warning": {
                "packages": [
                  "torch",
                  "torchgen"
                ]
              },
              "id": "45218ffd9d3d444eb083fafed0ed11f2"
            }
          },
          "metadata": {}
        },
        {
          "output_type": "stream",
          "name": "stdout",
          "text": [
            "Collecting onnx\n",
            "  Downloading onnx-1.17.0-cp310-cp310-manylinux_2_17_x86_64.manylinux2014_x86_64.whl.metadata (16 kB)\n",
            "Requirement already satisfied: numpy>=1.20 in /usr/local/lib/python3.10/dist-packages (from onnx) (1.26.4)\n",
            "Requirement already satisfied: protobuf>=3.20.2 in /usr/local/lib/python3.10/dist-packages (from onnx) (3.20.3)\n",
            "Downloading onnx-1.17.0-cp310-cp310-manylinux_2_17_x86_64.manylinux2014_x86_64.whl (16.0 MB)\n",
            "\u001b[2K   \u001b[90m━━━━━━━━━━━━━━━━━━━━━━━━━━━━━━━━━━━━━━━━\u001b[0m \u001b[32m16.0/16.0 MB\u001b[0m \u001b[31m31.2 MB/s\u001b[0m eta \u001b[36m0:00:00\u001b[0m\n",
            "\u001b[?25hInstalling collected packages: onnx\n",
            "Successfully installed onnx-1.17.0\n",
            "Files removed: 84\n"
          ]
        }
      ],
      "source": [
        "#if onnx error\n",
        "!pip uninstall -y torch\n",
        "!pip install torch==2.4\n",
        "!pip install onnx\n",
        "!pip cache purge"
      ]
    },
    {
      "cell_type": "code",
      "execution_count": null,
      "metadata": {
        "colab": {
          "base_uri": "https://localhost:8080/",
          "height": 1000
        },
        "id": "FI3Hf-rYGaBu",
        "outputId": "959112ee-4a15-4f31-b258-943fa10681e2"
      },
      "outputs": [
        {
          "output_type": "stream",
          "name": "stdout",
          "text": [
            "Collecting msclap\n",
            "  Downloading msclap-1.3.3-py3-none-any.whl.metadata (6.0 kB)\n",
            "Requirement already satisfied: librosa<0.11.0,>=0.10.1 in /usr/local/lib/python3.10/dist-packages (from msclap) (0.10.2.post1)\n",
            "Collecting numba<0.59.0,>=0.58.0 (from msclap)\n",
            "  Downloading numba-0.58.1-cp310-cp310-manylinux2014_x86_64.manylinux_2_17_x86_64.whl.metadata (2.7 kB)\n",
            "Requirement already satisfied: numpy<2.0.0,>=1.23.0 in /usr/local/lib/python3.10/dist-packages (from msclap) (1.26.4)\n",
            "Requirement already satisfied: pandas<3.0.0,>=2.0.0 in /usr/local/lib/python3.10/dist-packages (from msclap) (2.2.2)\n",
            "Requirement already satisfied: pyyaml<7.0.0,>=6.0.1 in /usr/local/lib/python3.10/dist-packages (from msclap) (6.0.2)\n",
            "Requirement already satisfied: scikit-learn<2.0.0,>=1.3.1 in /usr/local/lib/python3.10/dist-packages (from msclap) (1.5.2)\n",
            "Requirement already satisfied: torch<3.0.0,>=2.1.0 in /usr/local/lib/python3.10/dist-packages (from msclap) (2.4.0)\n",
            "Requirement already satisfied: torchaudio<3.0.0,>=2.1.0 in /usr/local/lib/python3.10/dist-packages (from msclap) (2.5.0+cu121)\n",
            "Collecting torchlibrosa<0.2.0,>=0.1.0 (from msclap)\n",
            "  Downloading torchlibrosa-0.1.0-py3-none-any.whl.metadata (3.5 kB)\n",
            "Collecting torchvision<0.17.0,>=0.16.0 (from msclap)\n",
            "  Downloading torchvision-0.16.2-cp310-cp310-manylinux1_x86_64.whl.metadata (6.6 kB)\n",
            "Requirement already satisfied: tqdm<5.0.0,>=4.66.1 in /usr/local/lib/python3.10/dist-packages (from msclap) (4.66.6)\n",
            "Requirement already satisfied: transformers<5.0.0,>=4.34.0 in /usr/local/lib/python3.10/dist-packages (from msclap) (4.44.2)\n",
            "Requirement already satisfied: audioread>=2.1.9 in /usr/local/lib/python3.10/dist-packages (from librosa<0.11.0,>=0.10.1->msclap) (3.0.1)\n",
            "Requirement already satisfied: scipy>=1.2.0 in /usr/local/lib/python3.10/dist-packages (from librosa<0.11.0,>=0.10.1->msclap) (1.13.1)\n",
            "Requirement already satisfied: joblib>=0.14 in /usr/local/lib/python3.10/dist-packages (from librosa<0.11.0,>=0.10.1->msclap) (1.4.2)\n",
            "Requirement already satisfied: decorator>=4.3.0 in /usr/local/lib/python3.10/dist-packages (from librosa<0.11.0,>=0.10.1->msclap) (4.4.2)\n",
            "Requirement already satisfied: soundfile>=0.12.1 in /usr/local/lib/python3.10/dist-packages (from librosa<0.11.0,>=0.10.1->msclap) (0.12.1)\n",
            "Requirement already satisfied: pooch>=1.1 in /usr/local/lib/python3.10/dist-packages (from librosa<0.11.0,>=0.10.1->msclap) (1.8.2)\n",
            "Requirement already satisfied: soxr>=0.3.2 in /usr/local/lib/python3.10/dist-packages (from librosa<0.11.0,>=0.10.1->msclap) (0.5.0.post1)\n",
            "Requirement already satisfied: typing-extensions>=4.1.1 in /usr/local/lib/python3.10/dist-packages (from librosa<0.11.0,>=0.10.1->msclap) (4.12.2)\n",
            "Requirement already satisfied: lazy-loader>=0.1 in /usr/local/lib/python3.10/dist-packages (from librosa<0.11.0,>=0.10.1->msclap) (0.4)\n",
            "Requirement already satisfied: msgpack>=1.0 in /usr/local/lib/python3.10/dist-packages (from librosa<0.11.0,>=0.10.1->msclap) (1.1.0)\n",
            "Collecting llvmlite<0.42,>=0.41.0dev0 (from numba<0.59.0,>=0.58.0->msclap)\n",
            "  Downloading llvmlite-0.41.1-cp310-cp310-manylinux_2_17_x86_64.manylinux2014_x86_64.whl.metadata (4.8 kB)\n",
            "Requirement already satisfied: python-dateutil>=2.8.2 in /usr/local/lib/python3.10/dist-packages (from pandas<3.0.0,>=2.0.0->msclap) (2.8.2)\n",
            "Requirement already satisfied: pytz>=2020.1 in /usr/local/lib/python3.10/dist-packages (from pandas<3.0.0,>=2.0.0->msclap) (2024.2)\n",
            "Requirement already satisfied: tzdata>=2022.7 in /usr/local/lib/python3.10/dist-packages (from pandas<3.0.0,>=2.0.0->msclap) (2024.2)\n",
            "Requirement already satisfied: threadpoolctl>=3.1.0 in /usr/local/lib/python3.10/dist-packages (from scikit-learn<2.0.0,>=1.3.1->msclap) (3.5.0)\n",
            "Requirement already satisfied: filelock in /usr/local/lib/python3.10/dist-packages (from torch<3.0.0,>=2.1.0->msclap) (3.16.1)\n",
            "Requirement already satisfied: sympy in /usr/local/lib/python3.10/dist-packages (from torch<3.0.0,>=2.1.0->msclap) (1.13.1)\n",
            "Requirement already satisfied: networkx in /usr/local/lib/python3.10/dist-packages (from torch<3.0.0,>=2.1.0->msclap) (3.4.2)\n",
            "Requirement already satisfied: jinja2 in /usr/local/lib/python3.10/dist-packages (from torch<3.0.0,>=2.1.0->msclap) (3.1.4)\n",
            "Requirement already satisfied: fsspec in /usr/local/lib/python3.10/dist-packages (from torch<3.0.0,>=2.1.0->msclap) (2024.10.0)\n",
            "Requirement already satisfied: nvidia-cuda-nvrtc-cu12==12.1.105 in /usr/local/lib/python3.10/dist-packages (from torch<3.0.0,>=2.1.0->msclap) (12.1.105)\n",
            "Requirement already satisfied: nvidia-cuda-runtime-cu12==12.1.105 in /usr/local/lib/python3.10/dist-packages (from torch<3.0.0,>=2.1.0->msclap) (12.1.105)\n",
            "Requirement already satisfied: nvidia-cuda-cupti-cu12==12.1.105 in /usr/local/lib/python3.10/dist-packages (from torch<3.0.0,>=2.1.0->msclap) (12.1.105)\n",
            "Requirement already satisfied: nvidia-cudnn-cu12==9.1.0.70 in /usr/local/lib/python3.10/dist-packages (from torch<3.0.0,>=2.1.0->msclap) (9.1.0.70)\n",
            "Requirement already satisfied: nvidia-cublas-cu12==12.1.3.1 in /usr/local/lib/python3.10/dist-packages (from torch<3.0.0,>=2.1.0->msclap) (12.1.3.1)\n",
            "Requirement already satisfied: nvidia-cufft-cu12==11.0.2.54 in /usr/local/lib/python3.10/dist-packages (from torch<3.0.0,>=2.1.0->msclap) (11.0.2.54)\n",
            "Requirement already satisfied: nvidia-curand-cu12==10.3.2.106 in /usr/local/lib/python3.10/dist-packages (from torch<3.0.0,>=2.1.0->msclap) (10.3.2.106)\n",
            "Requirement already satisfied: nvidia-cusolver-cu12==11.4.5.107 in /usr/local/lib/python3.10/dist-packages (from torch<3.0.0,>=2.1.0->msclap) (11.4.5.107)\n",
            "Requirement already satisfied: nvidia-cusparse-cu12==12.1.0.106 in /usr/local/lib/python3.10/dist-packages (from torch<3.0.0,>=2.1.0->msclap) (12.1.0.106)\n",
            "Requirement already satisfied: nvidia-nccl-cu12==2.20.5 in /usr/local/lib/python3.10/dist-packages (from torch<3.0.0,>=2.1.0->msclap) (2.20.5)\n",
            "Requirement already satisfied: nvidia-nvtx-cu12==12.1.105 in /usr/local/lib/python3.10/dist-packages (from torch<3.0.0,>=2.1.0->msclap) (12.1.105)\n",
            "Requirement already satisfied: triton==3.0.0 in /usr/local/lib/python3.10/dist-packages (from torch<3.0.0,>=2.1.0->msclap) (3.0.0)\n",
            "Requirement already satisfied: nvidia-nvjitlink-cu12 in /usr/local/lib/python3.10/dist-packages (from nvidia-cusolver-cu12==11.4.5.107->torch<3.0.0,>=2.1.0->msclap) (12.6.77)\n",
            "Collecting torch<3.0.0,>=2.1.0 (from msclap)\n",
            "  Downloading torch-2.5.0-cp310-cp310-manylinux1_x86_64.whl.metadata (28 kB)\n",
            "Collecting nvidia-cuda-nvrtc-cu12==12.4.127 (from torch<3.0.0,>=2.1.0->msclap)\n",
            "  Downloading nvidia_cuda_nvrtc_cu12-12.4.127-py3-none-manylinux2014_x86_64.whl.metadata (1.5 kB)\n",
            "Collecting nvidia-cuda-runtime-cu12==12.4.127 (from torch<3.0.0,>=2.1.0->msclap)\n",
            "  Downloading nvidia_cuda_runtime_cu12-12.4.127-py3-none-manylinux2014_x86_64.whl.metadata (1.5 kB)\n",
            "Collecting nvidia-cuda-cupti-cu12==12.4.127 (from torch<3.0.0,>=2.1.0->msclap)\n",
            "  Downloading nvidia_cuda_cupti_cu12-12.4.127-py3-none-manylinux2014_x86_64.whl.metadata (1.6 kB)\n",
            "Collecting nvidia-cublas-cu12 (from nvidia-cudnn-cu12==9.1.0.70->torch<3.0.0,>=2.1.0->msclap)\n",
            "  Downloading nvidia_cublas_cu12-12.4.5.8-py3-none-manylinux2014_x86_64.whl.metadata (1.5 kB)\n",
            "Collecting nvidia-cufft-cu12==11.2.1.3 (from torch<3.0.0,>=2.1.0->msclap)\n",
            "  Downloading nvidia_cufft_cu12-11.2.1.3-py3-none-manylinux2014_x86_64.whl.metadata (1.5 kB)\n",
            "Collecting nvidia-curand-cu12==10.3.5.147 (from torch<3.0.0,>=2.1.0->msclap)\n",
            "  Downloading nvidia_curand_cu12-10.3.5.147-py3-none-manylinux2014_x86_64.whl.metadata (1.5 kB)\n",
            "Collecting nvidia-cusolver-cu12==11.6.1.9 (from torch<3.0.0,>=2.1.0->msclap)\n",
            "  Downloading nvidia_cusolver_cu12-11.6.1.9-py3-none-manylinux2014_x86_64.whl.metadata (1.6 kB)\n",
            "Collecting nvidia-cusparse-cu12 (from nvidia-cusolver-cu12==11.4.5.107->torch<3.0.0,>=2.1.0->msclap)\n",
            "  Downloading nvidia_cusparse_cu12-12.3.1.170-py3-none-manylinux2014_x86_64.whl.metadata (1.6 kB)\n",
            "Collecting nvidia-nccl-cu12==2.21.5 (from torch<3.0.0,>=2.1.0->msclap)\n",
            "  Downloading nvidia_nccl_cu12-2.21.5-py3-none-manylinux2014_x86_64.whl.metadata (1.8 kB)\n",
            "Collecting nvidia-nvtx-cu12==12.4.127 (from torch<3.0.0,>=2.1.0->msclap)\n",
            "  Downloading nvidia_nvtx_cu12-12.4.127-py3-none-manylinux2014_x86_64.whl.metadata (1.7 kB)\n",
            "Collecting nvidia-nvjitlink-cu12 (from nvidia-cusolver-cu12==11.4.5.107->torch<3.0.0,>=2.1.0->msclap)\n",
            "  Downloading nvidia_nvjitlink_cu12-12.4.127-py3-none-manylinux2014_x86_64.whl.metadata (1.5 kB)\n",
            "Collecting triton==3.1.0 (from torch<3.0.0,>=2.1.0->msclap)\n",
            "  Downloading triton-3.1.0-cp310-cp310-manylinux_2_17_x86_64.manylinux2014_x86_64.whl.metadata (1.3 kB)\n",
            "Requirement already satisfied: mpmath<1.4,>=1.1.0 in /usr/local/lib/python3.10/dist-packages (from sympy->torch<3.0.0,>=2.1.0->msclap) (1.3.0)\n",
            "Requirement already satisfied: requests in /usr/local/lib/python3.10/dist-packages (from torchvision<0.17.0,>=0.16.0->msclap) (2.32.3)\n",
            "INFO: pip is looking at multiple versions of torchvision to determine which version is compatible with other requirements. This could take a while.\n",
            "Collecting torchvision<0.17.0,>=0.16.0 (from msclap)\n",
            "  Downloading torchvision-0.16.1-cp310-cp310-manylinux1_x86_64.whl.metadata (6.6 kB)\n",
            "  Downloading torchvision-0.16.0-cp310-cp310-manylinux1_x86_64.whl.metadata (6.6 kB)\n",
            "Collecting torchaudio<3.0.0,>=2.1.0 (from msclap)\n",
            "  Downloading torchaudio-2.5.1-cp310-cp310-manylinux1_x86_64.whl.metadata (6.4 kB)\n",
            "Collecting torch<3.0.0,>=2.1.0 (from msclap)\n",
            "  Downloading torch-2.5.1-cp310-cp310-manylinux1_x86_64.whl.metadata (28 kB)\n",
            "Collecting torchaudio<3.0.0,>=2.1.0 (from msclap)\n",
            "  Downloading torchaudio-2.5.0-cp310-cp310-manylinux1_x86_64.whl.metadata (6.4 kB)\n",
            "INFO: pip is still looking at multiple versions of torchvision to determine which version is compatible with other requirements. This could take a while.\n",
            "  Downloading torchaudio-2.4.1-cp310-cp310-manylinux1_x86_64.whl.metadata (6.4 kB)\n",
            "Collecting torch<3.0.0,>=2.1.0 (from msclap)\n",
            "  Downloading torch-2.4.1-cp310-cp310-manylinux1_x86_64.whl.metadata (26 kB)\n",
            "Collecting torchaudio<3.0.0,>=2.1.0 (from msclap)\n",
            "  Downloading torchaudio-2.4.0-cp310-cp310-manylinux1_x86_64.whl.metadata (6.4 kB)\n",
            "INFO: This is taking longer than usual. You might need to provide the dependency resolver with stricter constraints to reduce runtime. See https://pip.pypa.io/warnings/backtracking for guidance. If you want to abort this run, press Ctrl + C.\n",
            "  Downloading torchaudio-2.3.1-cp310-cp310-manylinux1_x86_64.whl.metadata (6.4 kB)\n",
            "Collecting torch<3.0.0,>=2.1.0 (from msclap)\n",
            "  Downloading torch-2.3.1-cp310-cp310-manylinux1_x86_64.whl.metadata (26 kB)\n",
            "Collecting nvidia-cudnn-cu12==8.9.2.26 (from torch<3.0.0,>=2.1.0->msclap)\n",
            "  Downloading nvidia_cudnn_cu12-8.9.2.26-py3-none-manylinux1_x86_64.whl.metadata (1.6 kB)\n",
            "Collecting triton==2.3.1 (from torch<3.0.0,>=2.1.0->msclap)\n",
            "  Downloading triton-2.3.1-cp310-cp310-manylinux_2_17_x86_64.manylinux2014_x86_64.whl.metadata (1.4 kB)\n",
            "Collecting torchaudio<3.0.0,>=2.1.0 (from msclap)\n",
            "  Downloading torchaudio-2.3.0-cp310-cp310-manylinux1_x86_64.whl.metadata (6.4 kB)\n",
            "Collecting torch<3.0.0,>=2.1.0 (from msclap)\n",
            "  Downloading torch-2.3.0-cp310-cp310-manylinux1_x86_64.whl.metadata (26 kB)\n",
            "Collecting triton==2.3.0 (from torch<3.0.0,>=2.1.0->msclap)\n",
            "  Downloading triton-2.3.0-cp310-cp310-manylinux_2_17_x86_64.manylinux2014_x86_64.whl.metadata (1.4 kB)\n",
            "Collecting torchaudio<3.0.0,>=2.1.0 (from msclap)\n",
            "  Downloading torchaudio-2.2.2-cp310-cp310-manylinux1_x86_64.whl.metadata (6.4 kB)\n",
            "Collecting torch<3.0.0,>=2.1.0 (from msclap)\n",
            "  Downloading torch-2.2.2-cp310-cp310-manylinux1_x86_64.whl.metadata (26 kB)\n",
            "Collecting nvidia-nccl-cu12==2.19.3 (from torch<3.0.0,>=2.1.0->msclap)\n",
            "  Downloading nvidia_nccl_cu12-2.19.3-py3-none-manylinux1_x86_64.whl.metadata (1.8 kB)\n",
            "Collecting triton==2.2.0 (from torch<3.0.0,>=2.1.0->msclap)\n",
            "  Downloading triton-2.2.0-cp310-cp310-manylinux_2_17_x86_64.manylinux2014_x86_64.whl.metadata (1.4 kB)\n",
            "Collecting torchaudio<3.0.0,>=2.1.0 (from msclap)\n",
            "  Downloading torchaudio-2.2.1-cp310-cp310-manylinux1_x86_64.whl.metadata (6.4 kB)\n",
            "Collecting torch<3.0.0,>=2.1.0 (from msclap)\n",
            "  Downloading torch-2.2.1-cp310-cp310-manylinux1_x86_64.whl.metadata (26 kB)\n",
            "Collecting torchaudio<3.0.0,>=2.1.0 (from msclap)\n",
            "  Downloading torchaudio-2.2.0-cp310-cp310-manylinux1_x86_64.whl.metadata (6.4 kB)\n",
            "Collecting torch<3.0.0,>=2.1.0 (from msclap)\n",
            "  Downloading torch-2.2.0-cp310-cp310-manylinux1_x86_64.whl.metadata (25 kB)\n",
            "Collecting torchaudio<3.0.0,>=2.1.0 (from msclap)\n",
            "  Downloading torchaudio-2.1.2-cp310-cp310-manylinux1_x86_64.whl.metadata (6.4 kB)\n",
            "Collecting torch<3.0.0,>=2.1.0 (from msclap)\n",
            "  Downloading torch-2.1.2-cp310-cp310-manylinux1_x86_64.whl.metadata (25 kB)\n",
            "Collecting nvidia-nccl-cu12==2.18.1 (from torch<3.0.0,>=2.1.0->msclap)\n",
            "  Downloading nvidia_nccl_cu12-2.18.1-py3-none-manylinux1_x86_64.whl.metadata (1.8 kB)\n",
            "Collecting triton==2.1.0 (from torch<3.0.0,>=2.1.0->msclap)\n",
            "  Downloading triton-2.1.0-0-cp310-cp310-manylinux2014_x86_64.manylinux_2_17_x86_64.whl.metadata (1.3 kB)\n",
            "Requirement already satisfied: pillow!=8.3.*,>=5.3.0 in /usr/local/lib/python3.10/dist-packages (from torchvision<0.17.0,>=0.16.0->msclap) (10.4.0)\n",
            "Requirement already satisfied: huggingface-hub<1.0,>=0.23.2 in /usr/local/lib/python3.10/dist-packages (from transformers<5.0.0,>=4.34.0->msclap) (0.24.7)\n",
            "Requirement already satisfied: packaging>=20.0 in /usr/local/lib/python3.10/dist-packages (from transformers<5.0.0,>=4.34.0->msclap) (24.1)\n",
            "Requirement already satisfied: regex!=2019.12.17 in /usr/local/lib/python3.10/dist-packages (from transformers<5.0.0,>=4.34.0->msclap) (2024.9.11)\n",
            "Requirement already satisfied: safetensors>=0.4.1 in /usr/local/lib/python3.10/dist-packages (from transformers<5.0.0,>=4.34.0->msclap) (0.4.5)\n",
            "Requirement already satisfied: tokenizers<0.20,>=0.19 in /usr/local/lib/python3.10/dist-packages (from transformers<5.0.0,>=4.34.0->msclap) (0.19.1)\n",
            "Requirement already satisfied: platformdirs>=2.5.0 in /usr/local/lib/python3.10/dist-packages (from pooch>=1.1->librosa<0.11.0,>=0.10.1->msclap) (4.3.6)\n",
            "Requirement already satisfied: six>=1.5 in /usr/local/lib/python3.10/dist-packages (from python-dateutil>=2.8.2->pandas<3.0.0,>=2.0.0->msclap) (1.16.0)\n",
            "Requirement already satisfied: charset-normalizer<4,>=2 in /usr/local/lib/python3.10/dist-packages (from requests->torchvision<0.17.0,>=0.16.0->msclap) (3.4.0)\n",
            "Requirement already satisfied: idna<4,>=2.5 in /usr/local/lib/python3.10/dist-packages (from requests->torchvision<0.17.0,>=0.16.0->msclap) (3.10)\n",
            "Requirement already satisfied: urllib3<3,>=1.21.1 in /usr/local/lib/python3.10/dist-packages (from requests->torchvision<0.17.0,>=0.16.0->msclap) (2.2.3)\n",
            "Requirement already satisfied: certifi>=2017.4.17 in /usr/local/lib/python3.10/dist-packages (from requests->torchvision<0.17.0,>=0.16.0->msclap) (2024.8.30)\n",
            "Requirement already satisfied: cffi>=1.0 in /usr/local/lib/python3.10/dist-packages (from soundfile>=0.12.1->librosa<0.11.0,>=0.10.1->msclap) (1.17.1)\n",
            "Requirement already satisfied: MarkupSafe>=2.0 in /usr/local/lib/python3.10/dist-packages (from jinja2->torch<3.0.0,>=2.1.0->msclap) (3.0.2)\n",
            "Requirement already satisfied: pycparser in /usr/local/lib/python3.10/dist-packages (from cffi>=1.0->soundfile>=0.12.1->librosa<0.11.0,>=0.10.1->msclap) (2.22)\n",
            "Downloading msclap-1.3.3-py3-none-any.whl (31 kB)\n",
            "Downloading numba-0.58.1-cp310-cp310-manylinux2014_x86_64.manylinux_2_17_x86_64.whl (3.6 MB)\n",
            "\u001b[2K   \u001b[90m━━━━━━━━━━━━━━━━━━━━━━━━━━━━━━━━━━━━━━━━\u001b[0m \u001b[32m3.6/3.6 MB\u001b[0m \u001b[31m39.5 MB/s\u001b[0m eta \u001b[36m0:00:00\u001b[0m\n",
            "\u001b[?25hDownloading torchaudio-2.1.2-cp310-cp310-manylinux1_x86_64.whl (3.3 MB)\n",
            "\u001b[2K   \u001b[90m━━━━━━━━━━━━━━━━━━━━━━━━━━━━━━━━━━━━━━━━\u001b[0m \u001b[32m3.3/3.3 MB\u001b[0m \u001b[31m23.5 MB/s\u001b[0m eta \u001b[36m0:00:00\u001b[0m\n",
            "\u001b[?25hDownloading torch-2.1.2-cp310-cp310-manylinux1_x86_64.whl (670.2 MB)\n",
            "\u001b[2K   \u001b[90m━━━━━━━━━━━━━━━━━━━━━━━━━━━━━━━━━━━━━━━━\u001b[0m \u001b[32m670.2/670.2 MB\u001b[0m \u001b[31m2.4 MB/s\u001b[0m eta \u001b[36m0:00:00\u001b[0m\n",
            "\u001b[?25hDownloading nvidia_cudnn_cu12-8.9.2.26-py3-none-manylinux1_x86_64.whl (731.7 MB)\n",
            "\u001b[2K   \u001b[90m━━━━━━━━━━━━━━━━━━━━━━━━━━━━━━━━━━━━━━━━\u001b[0m \u001b[32m731.7/731.7 MB\u001b[0m \u001b[31m1.2 MB/s\u001b[0m eta \u001b[36m0:00:00\u001b[0m\n",
            "\u001b[?25hDownloading nvidia_nccl_cu12-2.18.1-py3-none-manylinux1_x86_64.whl (209.8 MB)\n",
            "\u001b[2K   \u001b[90m━━━━━━━━━━━━━━━━━━━━━━━━━━━━━━━━━━━━━━━━\u001b[0m \u001b[32m209.8/209.8 MB\u001b[0m \u001b[31m5.4 MB/s\u001b[0m eta \u001b[36m0:00:00\u001b[0m\n",
            "\u001b[?25hDownloading triton-2.1.0-0-cp310-cp310-manylinux2014_x86_64.manylinux_2_17_x86_64.whl (89.2 MB)\n",
            "\u001b[2K   \u001b[90m━━━━━━━━━━━━━━━━━━━━━━━━━━━━━━━━━━━━━━━━\u001b[0m \u001b[32m89.2/89.2 MB\u001b[0m \u001b[31m8.6 MB/s\u001b[0m eta \u001b[36m0:00:00\u001b[0m\n",
            "\u001b[?25hDownloading torchvision-0.16.2-cp310-cp310-manylinux1_x86_64.whl (6.8 MB)\n",
            "\u001b[2K   \u001b[90m━━━━━━━━━━━━━━━━━━━━━━━━━━━━━━━━━━━━━━━━\u001b[0m \u001b[32m6.8/6.8 MB\u001b[0m \u001b[31m84.7 MB/s\u001b[0m eta \u001b[36m0:00:00\u001b[0m\n",
            "\u001b[?25hDownloading torchlibrosa-0.1.0-py3-none-any.whl (11 kB)\n",
            "Downloading llvmlite-0.41.1-cp310-cp310-manylinux_2_17_x86_64.manylinux2014_x86_64.whl (43.6 MB)\n",
            "\u001b[2K   \u001b[90m━━━━━━━━━━━━━━━━━━━━━━━━━━━━━━━━━━━━━━━━\u001b[0m \u001b[32m43.6/43.6 MB\u001b[0m \u001b[31m13.3 MB/s\u001b[0m eta \u001b[36m0:00:00\u001b[0m\n",
            "\u001b[?25hInstalling collected packages: triton, nvidia-nccl-cu12, nvidia-cudnn-cu12, llvmlite, numba, torch, torchvision, torchlibrosa, torchaudio, msclap\n",
            "  Attempting uninstall: triton\n",
            "    Found existing installation: triton 3.0.0\n",
            "    Uninstalling triton-3.0.0:\n",
            "      Successfully uninstalled triton-3.0.0\n",
            "  Attempting uninstall: nvidia-nccl-cu12\n",
            "    Found existing installation: nvidia-nccl-cu12 2.20.5\n",
            "    Uninstalling nvidia-nccl-cu12-2.20.5:\n",
            "      Successfully uninstalled nvidia-nccl-cu12-2.20.5\n",
            "  Attempting uninstall: nvidia-cudnn-cu12\n",
            "    Found existing installation: nvidia-cudnn-cu12 9.1.0.70\n",
            "    Uninstalling nvidia-cudnn-cu12-9.1.0.70:\n",
            "      Successfully uninstalled nvidia-cudnn-cu12-9.1.0.70\n",
            "  Attempting uninstall: llvmlite\n",
            "    Found existing installation: llvmlite 0.43.0\n",
            "    Uninstalling llvmlite-0.43.0:\n",
            "      Successfully uninstalled llvmlite-0.43.0\n",
            "  Attempting uninstall: numba\n",
            "    Found existing installation: numba 0.60.0\n",
            "    Uninstalling numba-0.60.0:\n",
            "      Successfully uninstalled numba-0.60.0\n",
            "  Attempting uninstall: torch\n",
            "    Found existing installation: torch 2.4.0\n",
            "    Uninstalling torch-2.4.0:\n",
            "      Successfully uninstalled torch-2.4.0\n",
            "  Attempting uninstall: torchvision\n",
            "    Found existing installation: torchvision 0.20.0+cu121\n",
            "    Uninstalling torchvision-0.20.0+cu121:\n",
            "      Successfully uninstalled torchvision-0.20.0+cu121\n",
            "  Attempting uninstall: torchaudio\n",
            "    Found existing installation: torchaudio 2.5.0+cu121\n",
            "    Uninstalling torchaudio-2.5.0+cu121:\n",
            "      Successfully uninstalled torchaudio-2.5.0+cu121\n",
            "Successfully installed llvmlite-0.41.1 msclap-1.3.3 numba-0.58.1 nvidia-cudnn-cu12-8.9.2.26 nvidia-nccl-cu12-2.18.1 torch-2.1.2 torchaudio-2.1.2 torchlibrosa-0.1.0 torchvision-0.16.2 triton-2.1.0\n"
          ]
        },
        {
          "output_type": "display_data",
          "data": {
            "application/vnd.colab-display-data+json": {
              "pip_warning": {
                "packages": [
                  "torch",
                  "torchgen"
                ]
              },
              "id": "ae316ae503b54549adbe8a91326cddc7"
            }
          },
          "metadata": {}
        }
      ],
      "source": [
        "!pip install msclap"
      ]
    },
    {
      "cell_type": "code",
      "source": [
        "!pip uninstall -y torch torchaudio\n",
        "!pip install torch==2.4 torchaudio==2.4 --extra-index-url https://download.pytorch.org/whl/cu117"
      ],
      "metadata": {
        "colab": {
          "base_uri": "https://localhost:8080/",
          "height": 1000
        },
        "id": "ECrgiCAiSfF8",
        "outputId": "38724b40-4056-409f-be97-325838c9050c"
      },
      "execution_count": null,
      "outputs": [
        {
          "output_type": "stream",
          "name": "stdout",
          "text": [
            "Found existing installation: torch 2.1.2\n",
            "Uninstalling torch-2.1.2:\n",
            "  Successfully uninstalled torch-2.1.2\n",
            "Found existing installation: torchaudio 2.1.2\n",
            "Uninstalling torchaudio-2.1.2:\n",
            "  Successfully uninstalled torchaudio-2.1.2\n",
            "Looking in indexes: https://pypi.org/simple, https://download.pytorch.org/whl/cu117\n",
            "Collecting torch==2.4\n",
            "  Downloading torch-2.4.0-cp310-cp310-manylinux1_x86_64.whl.metadata (26 kB)\n",
            "Collecting torchaudio==2.4\n",
            "  Using cached torchaudio-2.4.0-cp310-cp310-manylinux1_x86_64.whl.metadata (6.4 kB)\n",
            "Requirement already satisfied: filelock in /usr/local/lib/python3.10/dist-packages (from torch==2.4) (3.16.1)\n",
            "Requirement already satisfied: typing-extensions>=4.8.0 in /usr/local/lib/python3.10/dist-packages (from torch==2.4) (4.12.2)\n",
            "Requirement already satisfied: sympy in /usr/local/lib/python3.10/dist-packages (from torch==2.4) (1.13.1)\n",
            "Requirement already satisfied: networkx in /usr/local/lib/python3.10/dist-packages (from torch==2.4) (3.4.2)\n",
            "Requirement already satisfied: jinja2 in /usr/local/lib/python3.10/dist-packages (from torch==2.4) (3.1.4)\n",
            "Requirement already satisfied: fsspec in /usr/local/lib/python3.10/dist-packages (from torch==2.4) (2024.10.0)\n",
            "Requirement already satisfied: nvidia-cuda-nvrtc-cu12==12.1.105 in /usr/local/lib/python3.10/dist-packages (from torch==2.4) (12.1.105)\n",
            "Requirement already satisfied: nvidia-cuda-runtime-cu12==12.1.105 in /usr/local/lib/python3.10/dist-packages (from torch==2.4) (12.1.105)\n",
            "Requirement already satisfied: nvidia-cuda-cupti-cu12==12.1.105 in /usr/local/lib/python3.10/dist-packages (from torch==2.4) (12.1.105)\n",
            "Collecting nvidia-cudnn-cu12==9.1.0.70 (from torch==2.4)\n",
            "  Downloading nvidia_cudnn_cu12-9.1.0.70-py3-none-manylinux2014_x86_64.whl.metadata (1.6 kB)\n",
            "Requirement already satisfied: nvidia-cublas-cu12==12.1.3.1 in /usr/local/lib/python3.10/dist-packages (from torch==2.4) (12.1.3.1)\n",
            "Requirement already satisfied: nvidia-cufft-cu12==11.0.2.54 in /usr/local/lib/python3.10/dist-packages (from torch==2.4) (11.0.2.54)\n",
            "Requirement already satisfied: nvidia-curand-cu12==10.3.2.106 in /usr/local/lib/python3.10/dist-packages (from torch==2.4) (10.3.2.106)\n",
            "Requirement already satisfied: nvidia-cusolver-cu12==11.4.5.107 in /usr/local/lib/python3.10/dist-packages (from torch==2.4) (11.4.5.107)\n",
            "Requirement already satisfied: nvidia-cusparse-cu12==12.1.0.106 in /usr/local/lib/python3.10/dist-packages (from torch==2.4) (12.1.0.106)\n",
            "Collecting nvidia-nccl-cu12==2.20.5 (from torch==2.4)\n",
            "  Downloading nvidia_nccl_cu12-2.20.5-py3-none-manylinux2014_x86_64.whl.metadata (1.8 kB)\n",
            "Requirement already satisfied: nvidia-nvtx-cu12==12.1.105 in /usr/local/lib/python3.10/dist-packages (from torch==2.4) (12.1.105)\n",
            "Collecting triton==3.0.0 (from torch==2.4)\n",
            "  Downloading https://download.pytorch.org/whl/triton-3.0.0-1-cp310-cp310-manylinux2014_x86_64.manylinux_2_17_x86_64.whl (209.4 MB)\n",
            "\u001b[2K     \u001b[90m━━━━━━━━━━━━━━━━━━━━━━━━━━━━━━━━━━━━━━━━\u001b[0m \u001b[32m209.4/209.4 MB\u001b[0m \u001b[31m4.5 MB/s\u001b[0m eta \u001b[36m0:00:00\u001b[0m\n",
            "\u001b[?25hRequirement already satisfied: nvidia-nvjitlink-cu12 in /usr/local/lib/python3.10/dist-packages (from nvidia-cusolver-cu12==11.4.5.107->torch==2.4) (12.6.77)\n",
            "Requirement already satisfied: MarkupSafe>=2.0 in /usr/local/lib/python3.10/dist-packages (from jinja2->torch==2.4) (3.0.2)\n",
            "Requirement already satisfied: mpmath<1.4,>=1.1.0 in /usr/local/lib/python3.10/dist-packages (from sympy->torch==2.4) (1.3.0)\n",
            "Downloading torch-2.4.0-cp310-cp310-manylinux1_x86_64.whl (797.2 MB)\n",
            "\u001b[2K   \u001b[90m━━━━━━━━━━━━━━━━━━━━━━━━━━━━━━━━━━━━━━━━\u001b[0m \u001b[32m797.2/797.2 MB\u001b[0m \u001b[31m1.9 MB/s\u001b[0m eta \u001b[36m0:00:00\u001b[0m\n",
            "\u001b[?25hDownloading torchaudio-2.4.0-cp310-cp310-manylinux1_x86_64.whl (3.4 MB)\n",
            "\u001b[2K   \u001b[90m━━━━━━━━━━━━━━━━━━━━━━━━━━━━━━━━━━━━━━━━\u001b[0m \u001b[32m3.4/3.4 MB\u001b[0m \u001b[31m54.7 MB/s\u001b[0m eta \u001b[36m0:00:00\u001b[0m\n",
            "\u001b[?25hDownloading nvidia_cudnn_cu12-9.1.0.70-py3-none-manylinux2014_x86_64.whl (664.8 MB)\n",
            "\u001b[2K   \u001b[90m━━━━━━━━━━━━━━━━━━━━━━━━━━━━━━━━━━━━━━━━\u001b[0m \u001b[32m664.8/664.8 MB\u001b[0m \u001b[31m1.7 MB/s\u001b[0m eta \u001b[36m0:00:00\u001b[0m\n",
            "\u001b[?25hDownloading nvidia_nccl_cu12-2.20.5-py3-none-manylinux2014_x86_64.whl (176.2 MB)\n",
            "\u001b[2K   \u001b[90m━━━━━━━━━━━━━━━━━━━━━━━━━━━━━━━━━━━━━━━━\u001b[0m \u001b[32m176.2/176.2 MB\u001b[0m \u001b[31m6.0 MB/s\u001b[0m eta \u001b[36m0:00:00\u001b[0m\n",
            "\u001b[?25hInstalling collected packages: triton, nvidia-nccl-cu12, nvidia-cudnn-cu12, torch, torchaudio\n",
            "  Attempting uninstall: triton\n",
            "    Found existing installation: triton 2.1.0\n",
            "    Uninstalling triton-2.1.0:\n",
            "      Successfully uninstalled triton-2.1.0\n",
            "  Attempting uninstall: nvidia-nccl-cu12\n",
            "    Found existing installation: nvidia-nccl-cu12 2.18.1\n",
            "    Uninstalling nvidia-nccl-cu12-2.18.1:\n",
            "      Successfully uninstalled nvidia-nccl-cu12-2.18.1\n",
            "  Attempting uninstall: nvidia-cudnn-cu12\n",
            "    Found existing installation: nvidia-cudnn-cu12 8.9.2.26\n",
            "    Uninstalling nvidia-cudnn-cu12-8.9.2.26:\n",
            "      Successfully uninstalled nvidia-cudnn-cu12-8.9.2.26\n",
            "\u001b[31mERROR: pip's dependency resolver does not currently take into account all the packages that are installed. This behaviour is the source of the following dependency conflicts.\n",
            "torchvision 0.16.2 requires torch==2.1.2, but you have torch 2.4.0 which is incompatible.\u001b[0m\u001b[31m\n",
            "\u001b[0mSuccessfully installed nvidia-cudnn-cu12-9.1.0.70 nvidia-nccl-cu12-2.20.5 torch-2.4.0 torchaudio-2.4.0 triton-3.0.0\n"
          ]
        },
        {
          "output_type": "display_data",
          "data": {
            "application/vnd.colab-display-data+json": {
              "pip_warning": {
                "packages": [
                  "torch",
                  "torchgen"
                ]
              },
              "id": "cb309cb8252242229387d03935148268"
            }
          },
          "metadata": {}
        }
      ]
    },
    {
      "cell_type": "code",
      "execution_count": null,
      "metadata": {
        "id": "KznSBna8nYIO",
        "colab": {
          "base_uri": "https://localhost:8080/",
          "height": 411
        },
        "outputId": "6f54e986-e008-42a2-c9d7-c73d247f723b"
      },
      "outputs": [
        {
          "output_type": "error",
          "ename": "OSError",
          "evalue": "/usr/local/lib/python3.10/dist-packages/torchaudio/lib/libtorchaudio.so: undefined symbol: _ZN2at4_ops10zeros_like4callERKNS_6TensorEN3c108optionalINS5_10ScalarTypeEEENS6_INS5_6LayoutEEENS6_INS5_6DeviceEEENS6_IbEENS6_INS5_12MemoryFormatEEE",
          "traceback": [
            "\u001b[0;31m---------------------------------------------------------------------------\u001b[0m",
            "\u001b[0;31mOSError\u001b[0m                                   Traceback (most recent call last)",
            "\u001b[0;32m<ipython-input-6-79ea21ce66bf>\u001b[0m in \u001b[0;36m<cell line: 1>\u001b[0;34m()\u001b[0m\n\u001b[0;32m----> 1\u001b[0;31m \u001b[0;32mimport\u001b[0m \u001b[0mtorchaudio\u001b[0m\u001b[0;34m\u001b[0m\u001b[0;34m\u001b[0m\u001b[0m\n\u001b[0m\u001b[1;32m      2\u001b[0m \u001b[0;32mfrom\u001b[0m \u001b[0mmsclap\u001b[0m \u001b[0;32mimport\u001b[0m \u001b[0mCLAP\u001b[0m\u001b[0;34m\u001b[0m\u001b[0;34m\u001b[0m\u001b[0m\n\u001b[1;32m      3\u001b[0m \u001b[0;32mimport\u001b[0m \u001b[0mlibrosa\u001b[0m\u001b[0;34m\u001b[0m\u001b[0;34m\u001b[0m\u001b[0m\n\u001b[1;32m      4\u001b[0m \u001b[0;32mimport\u001b[0m \u001b[0mtempfile\u001b[0m\u001b[0;34m\u001b[0m\u001b[0;34m\u001b[0m\u001b[0m\n\u001b[1;32m      5\u001b[0m \u001b[0;32mimport\u001b[0m \u001b[0mrandom\u001b[0m\u001b[0;34m\u001b[0m\u001b[0;34m\u001b[0m\u001b[0m\n",
            "\u001b[0;32m/usr/local/lib/python3.10/dist-packages/torchaudio/__init__.py\u001b[0m in \u001b[0;36m<module>\u001b[0;34m\u001b[0m\n\u001b[0;32m----> 1\u001b[0;31m from . import (  # noqa: F401\n\u001b[0m\u001b[1;32m      2\u001b[0m     \u001b[0m_extension\u001b[0m\u001b[0;34m,\u001b[0m\u001b[0;34m\u001b[0m\u001b[0;34m\u001b[0m\u001b[0m\n\u001b[1;32m      3\u001b[0m     \u001b[0mcompliance\u001b[0m\u001b[0;34m,\u001b[0m\u001b[0;34m\u001b[0m\u001b[0;34m\u001b[0m\u001b[0m\n\u001b[1;32m      4\u001b[0m     \u001b[0mdatasets\u001b[0m\u001b[0;34m,\u001b[0m\u001b[0;34m\u001b[0m\u001b[0;34m\u001b[0m\u001b[0m\n\u001b[1;32m      5\u001b[0m     \u001b[0mfunctional\u001b[0m\u001b[0;34m,\u001b[0m\u001b[0;34m\u001b[0m\u001b[0;34m\u001b[0m\u001b[0m\n",
            "\u001b[0;32m/usr/local/lib/python3.10/dist-packages/torchaudio/_extension/__init__.py\u001b[0m in \u001b[0;36m<module>\u001b[0;34m\u001b[0m\n\u001b[1;32m     43\u001b[0m \u001b[0m_IS_ALIGN_AVAILABLE\u001b[0m \u001b[0;34m=\u001b[0m \u001b[0;32mFalse\u001b[0m\u001b[0;34m\u001b[0m\u001b[0;34m\u001b[0m\u001b[0m\n\u001b[1;32m     44\u001b[0m \u001b[0;32mif\u001b[0m \u001b[0m_IS_TORCHAUDIO_EXT_AVAILABLE\u001b[0m\u001b[0;34m:\u001b[0m\u001b[0;34m\u001b[0m\u001b[0;34m\u001b[0m\u001b[0m\n\u001b[0;32m---> 45\u001b[0;31m     \u001b[0m_load_lib\u001b[0m\u001b[0;34m(\u001b[0m\u001b[0;34m\"libtorchaudio\"\u001b[0m\u001b[0;34m)\u001b[0m\u001b[0;34m\u001b[0m\u001b[0;34m\u001b[0m\u001b[0m\n\u001b[0m\u001b[1;32m     46\u001b[0m \u001b[0;34m\u001b[0m\u001b[0m\n\u001b[1;32m     47\u001b[0m     \u001b[0;32mimport\u001b[0m \u001b[0mtorchaudio\u001b[0m\u001b[0;34m.\u001b[0m\u001b[0mlib\u001b[0m\u001b[0;34m.\u001b[0m\u001b[0m_torchaudio\u001b[0m  \u001b[0;31m# noqa\u001b[0m\u001b[0;34m\u001b[0m\u001b[0;34m\u001b[0m\u001b[0m\n",
            "\u001b[0;32m/usr/local/lib/python3.10/dist-packages/torchaudio/_extension/utils.py\u001b[0m in \u001b[0;36m_load_lib\u001b[0;34m(lib)\u001b[0m\n\u001b[1;32m     62\u001b[0m     \u001b[0;32mif\u001b[0m \u001b[0;32mnot\u001b[0m \u001b[0mpath\u001b[0m\u001b[0;34m.\u001b[0m\u001b[0mexists\u001b[0m\u001b[0;34m(\u001b[0m\u001b[0;34m)\u001b[0m\u001b[0;34m:\u001b[0m\u001b[0;34m\u001b[0m\u001b[0;34m\u001b[0m\u001b[0m\n\u001b[1;32m     63\u001b[0m         \u001b[0;32mreturn\u001b[0m \u001b[0;32mFalse\u001b[0m\u001b[0;34m\u001b[0m\u001b[0;34m\u001b[0m\u001b[0m\n\u001b[0;32m---> 64\u001b[0;31m     \u001b[0mtorch\u001b[0m\u001b[0;34m.\u001b[0m\u001b[0mops\u001b[0m\u001b[0;34m.\u001b[0m\u001b[0mload_library\u001b[0m\u001b[0;34m(\u001b[0m\u001b[0mpath\u001b[0m\u001b[0;34m)\u001b[0m\u001b[0;34m\u001b[0m\u001b[0;34m\u001b[0m\u001b[0m\n\u001b[0m\u001b[1;32m     65\u001b[0m     \u001b[0mtorch\u001b[0m\u001b[0;34m.\u001b[0m\u001b[0mclasses\u001b[0m\u001b[0;34m.\u001b[0m\u001b[0mload_library\u001b[0m\u001b[0;34m(\u001b[0m\u001b[0mpath\u001b[0m\u001b[0;34m)\u001b[0m\u001b[0;34m\u001b[0m\u001b[0;34m\u001b[0m\u001b[0m\n\u001b[1;32m     66\u001b[0m     \u001b[0;32mreturn\u001b[0m \u001b[0;32mTrue\u001b[0m\u001b[0;34m\u001b[0m\u001b[0;34m\u001b[0m\u001b[0m\n",
            "\u001b[0;32m/usr/local/lib/python3.10/dist-packages/torch/_ops.py\u001b[0m in \u001b[0;36mload_library\u001b[0;34m(self, path)\u001b[0m\n",
            "\u001b[0;32m/usr/lib/python3.10/ctypes/__init__.py\u001b[0m in \u001b[0;36m__init__\u001b[0;34m(self, name, mode, handle, use_errno, use_last_error, winmode)\u001b[0m\n\u001b[1;32m    372\u001b[0m \u001b[0;34m\u001b[0m\u001b[0m\n\u001b[1;32m    373\u001b[0m         \u001b[0;32mif\u001b[0m \u001b[0mhandle\u001b[0m \u001b[0;32mis\u001b[0m \u001b[0;32mNone\u001b[0m\u001b[0;34m:\u001b[0m\u001b[0;34m\u001b[0m\u001b[0;34m\u001b[0m\u001b[0m\n\u001b[0;32m--> 374\u001b[0;31m             \u001b[0mself\u001b[0m\u001b[0;34m.\u001b[0m\u001b[0m_handle\u001b[0m \u001b[0;34m=\u001b[0m \u001b[0m_dlopen\u001b[0m\u001b[0;34m(\u001b[0m\u001b[0mself\u001b[0m\u001b[0;34m.\u001b[0m\u001b[0m_name\u001b[0m\u001b[0;34m,\u001b[0m \u001b[0mmode\u001b[0m\u001b[0;34m)\u001b[0m\u001b[0;34m\u001b[0m\u001b[0;34m\u001b[0m\u001b[0m\n\u001b[0m\u001b[1;32m    375\u001b[0m         \u001b[0;32melse\u001b[0m\u001b[0;34m:\u001b[0m\u001b[0;34m\u001b[0m\u001b[0;34m\u001b[0m\u001b[0m\n\u001b[1;32m    376\u001b[0m             \u001b[0mself\u001b[0m\u001b[0;34m.\u001b[0m\u001b[0m_handle\u001b[0m \u001b[0;34m=\u001b[0m \u001b[0mhandle\u001b[0m\u001b[0;34m\u001b[0m\u001b[0;34m\u001b[0m\u001b[0m\n",
            "\u001b[0;31mOSError\u001b[0m: /usr/local/lib/python3.10/dist-packages/torchaudio/lib/libtorchaudio.so: undefined symbol: _ZN2at4_ops10zeros_like4callERKNS_6TensorEN3c108optionalINS5_10ScalarTypeEEENS6_INS5_6LayoutEEENS6_INS5_6DeviceEEENS6_IbEENS6_INS5_12MemoryFormatEEE"
          ]
        }
      ],
      "source": [
        "import torchaudio\n",
        "from msclap import CLAP\n",
        "import librosa\n",
        "import tempfile\n",
        "import random\n",
        "import numpy as np\n",
        "import os\n",
        "\n",
        "clap_model = CLAP(version=\"2023\", use_cuda=False)\n",
        "instrument_embeddings = clap_model.get_text_embeddings(instrument_classes)\n",
        "genre_embedding = clap_model.get_text_embeddings(genre_labels)\n",
        "mood_embedding = clap_model.get_text_embeddings(mood_theme_classes)"
      ]
    },
    {
      "cell_type": "code",
      "source": [
        "#if onnx error occurs\n",
        "!pip uninstall -y onnx\n",
        "!pip install onnx"
      ],
      "metadata": {
        "id": "OvMQS8pIenUA"
      },
      "execution_count": null,
      "outputs": []
    },
    {
      "cell_type": "code",
      "execution_count": null,
      "metadata": {
        "id": "6bPXOsxA1Uel"
      },
      "outputs": [],
      "source": [
        "from transformers import(\n",
        "    AutoProcessor,\n",
        "    AutoModelForTextToWaveform,\n",
        ")\n",
        "\n",
        "processor = AutoProcessor.from_pretrained(\"facebook/musicgen-melody\")\n",
        "model = AutoModelForTextToWaveform.from_pretrained(\"facebook/musicgen-melody\")\n",
        "\n",
        "model.freeze_text_encoder()\n",
        "model.freeze_audio_encoder()"
      ]
    },
    {
      "cell_type": "code",
      "execution_count": null,
      "metadata": {
        "id": "3bBjKQuO1UbM"
      },
      "outputs": [],
      "source": [
        "from IPython.display import Audio\n",
        "import torch\n",
        "\n",
        "device = \"cuda\" if torch.cuda.is_available() else \"cpu\"\n",
        "\n",
        "model.to(device)\n",
        "\n",
        "inputs = processor(\n",
        "    text=[\"Quirky indie pop with introspective lyrics, layered vocals, and orchestral touches\"],\n",
        "    padding = True,\n",
        "    return_tensors = \"pt\",\n",
        ").to(device)\n",
        "\n",
        "audio_values = model.generate(**inputs,do_sample=True, guidance_scale=3, max_new_tokens=128)\n",
        "Audio(audio_values.cpu().numpy().squeeze(), rate=32000)"
      ]
    },
    {
      "cell_type": "code",
      "source": [
        "import torchaudio\n",
        "import torch\n",
        "import os\n",
        "path = \"acco\"\n",
        "\n",
        "music = []\n",
        "\n",
        "for songs in os.listdir(path):\n",
        "  temp = os.path.join(path,songs)\n",
        "  music.append(temp)\n",
        "print(len(music))"
      ],
      "metadata": {
        "id": "t1Rpa6YVbsg2"
      },
      "execution_count": null,
      "outputs": []
    },
    {
      "cell_type": "code",
      "execution_count": null,
      "metadata": {
        "id": "XAvfYpmpunI6"
      },
      "outputs": [],
      "source": [
        "import os\n",
        "import torch\n",
        "import torchaudio\n",
        "from transformers import AutoFeatureExtractor\n",
        "\n",
        "class CustomAudioDataset(torch.utils.data.Dataset):\n",
        "    def __init__(self, file_path, transform=None):\n",
        "        self.file_paths = [\n",
        "            os.path.join(file_path, fname)\n",
        "            for fname in os.listdir(file_path)\n",
        "            if fname.endswith(('.wav', '.mp3', '.flac'))\n",
        "        ]\n",
        "        self.transform = transform\n",
        "\n",
        "    def __len__(self):\n",
        "        return len(self.file_paths)\n",
        "\n",
        "    def __getitem__(self, idx):\n",
        "        audio_sample_path = self.file_paths[idx]\n",
        "        waveform, sample_rate = torchaudio.load(audio_sample_path)\n",
        "\n",
        "        if sample_rate != 32000:\n",
        "          resampler = torchaudio.transforms.Resample(sample_rate, 32000)\n",
        "          waveform = resampler(waveform)\n",
        "          sample_rate = 32000\n",
        "\n",
        "        if self.transform:\n",
        "          waveform = self.transform(waveform)\n",
        "          if waveform.shape[0] > 1:\n",
        "              waveform = torch.mean(waveform, dim=0, keepdim=True)\n",
        "\n",
        "        audio, sampling_rate = (\n",
        "            waveform,\n",
        "            sample_rate\n",
        "        )\n",
        "        audio = audio.numpy()\n",
        "        audio = np.squeeze(audio, axis=0)\n",
        "        audio = audio.mean(axis=0, keepdims=True)\n",
        "        audio = np.squeeze(audio, axis=0)\n",
        "        tempo,_ = librosa.beat.beat_track(y=audio, sr=sampling_rate,sparse=False)\n",
        "        tempo = f\"{str(np.round(tempo))} bpm\"\n",
        "        chroma = librosa.feature.chroma_stft(y=audio,sr=sampling_rate)\n",
        "        key = np.argmax(np.sum(chroma, axis=1))\n",
        "        key = [\"C\",\"C#\",\"D\",\"D#\",\"E\",\"F\",\"F#\",\"G\",\"G#\",\"A\",\"A#\",\"B\"][key]\n",
        "\n",
        "        with tempfile.TemporaryDirectory() as tempdir:\n",
        "          path = os.path.join(tempdir,\"tmp.wav\")\n",
        "          temp = torch.tensor(audio).unsqueeze(0)\n",
        "          torchaudio.save(path,temp,sampling_rate)\n",
        "          audio_embeddings = clap_model.get_audio_embeddings([path])\n",
        "\n",
        "        instrument = clap_model.compute_similarity(audio_embeddings,instrument_embeddings).argmax(dim=1)[0]\n",
        "        genre = clap_model.compute_similarity(audio_embeddings,genre_embedding).argmax(dim=1)[0]\n",
        "        mood = clap_model.compute_similarity(audio_embeddings,mood_embedding).argmax(dim=1)[0]\n",
        "\n",
        "        instrument = instrument_classes[instrument]\n",
        "        genre = genre_labels[genre]\n",
        "        mood = mood_theme_classes[mood]\n",
        "\n",
        "        metadata = [key,tempo,instrument,genre,mood]\n",
        "\n",
        "        instance_prompt = \"Glitch\"\n",
        "\n",
        "        audio_encoder_feature_extractor = AutoFeatureExtractor.from_pretrained(model.config.audio_encoder._name_or_path,)\n",
        "\n",
        "        metadata = f\"{instance_prompt}, {metadata}\"\n",
        "\n",
        "        input_ids = processor.tokenizer(metadata)[\"input_ids\"]\n",
        "\n",
        "        labels = audio_encoder_feature_extractor(\n",
        "            audio,sampling_rate = sampling_rate\n",
        "        )\n",
        "        labels = labels[\"input_values\"]\n",
        "\n",
        "        target_length = len(waveform.squeeze())\n",
        "\n",
        "        return waveform, sample_rate, metadata, input_ids , labels, target_length\n",
        "\n",
        "audio_transforms = torch.nn.Sequential(\n",
        "    torchaudio.transforms.Resample(44100, 16000),\n",
        "    torchaudio.transforms.MelSpectrogram(),\n",
        ")\n",
        "\n",
        "dataset = CustomAudioDataset(path, audio_transforms)\n",
        "print(f\"Number of audio files in dataset: {len(dataset)}\")"
      ]
    },
    {
      "cell_type": "code",
      "execution_count": null,
      "metadata": {
        "id": "taZ1j4zjBXBz"
      },
      "outputs": [],
      "source": [
        "#testing datasets output\n",
        "print(dataset[0][2])"
      ]
    },
    {
      "cell_type": "code",
      "source": [],
      "metadata": {
        "id": "X7yDKtMzpxlm"
      },
      "execution_count": null,
      "outputs": []
    }
  ],
  "metadata": {
    "colab": {
      "collapsed_sections": [
        "6acnf4v7RvoW"
      ],
      "provenance": [],
      "authorship_tag": "ABX9TyNuWiuo3P1/tRvckMve4L+d",
      "include_colab_link": true
    },
    "kernelspec": {
      "display_name": "Python 3",
      "name": "python3"
    },
    "language_info": {
      "name": "python"
    }
  },
  "nbformat": 4,
  "nbformat_minor": 0
}